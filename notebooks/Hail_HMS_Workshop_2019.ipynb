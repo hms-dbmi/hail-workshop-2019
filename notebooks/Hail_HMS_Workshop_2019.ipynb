{
 "cells": [
  {
   "cell_type": "markdown",
   "metadata": {},
   "source": [
    "<img src=\"https://dbmi.hms.harvard.edu/sites/g/files/mcu781/files/hero-images/PM19.png\" width= \"450px\">\n"
   ]
  },
  {
   "cell_type": "markdown",
   "metadata": {},
   "source": [
    "<img src=\"https://hms.harvard.edu/themes/harvardmedical/logo.svg\" width= \"250px\"> \n"
   ]
  },
  {
   "cell_type": "markdown",
   "metadata": {},
   "source": [
    "---"
   ]
  },
  {
   "cell_type": "markdown",
   "metadata": {},
   "source": [
    "# <img src=\"https://hail.is/docs/devel/hail-logo-cropped.png\" width= \"50px\"> **Workshop**"
   ]
  },
  {
   "cell_type": "markdown",
   "metadata": {},
   "source": [
    "This notebook is designed to provide a broad overview of Hail's functionality, with emphasis on the functionality to manipulate and query a genetic dataset."
   ]
  },
  {
   "cell_type": "markdown",
   "metadata": {},
   "source": [
    "# **Module 1**\n",
    "\n",
    "## Introduction to `Hail`"
   ]
  },
  {
   "cell_type": "code",
   "execution_count": 1,
   "metadata": {},
   "outputs": [
    {
     "name": "stderr",
     "output_type": "stream",
     "text": [
      "using hail jar at /Users/ines_admin/anaconda3/envs/hail/lib/python3.7/site-packages/hail/hail-all-spark.jar\n",
      "Running on Apache Spark version 2.4.1\n",
      "SparkUI available at http://dyn205162.shef.ac.uk:4040\n",
      "Welcome to\n",
      "     __  __     <>__\n",
      "    / /_/ /__  __/ /\n",
      "   / __  / _ `/ / /\n",
      "  /_/ /_/\\_,_/_/_/   version 0.2.14-8dcb6722c72a\n",
      "LOGGING: writing to /Users/ines_admin/Documents/i2b2Conference/hail-workshop-2019/notebooks/hail-20190612-1436-0.2.14-8dcb6722c72a.log\n"
     ]
    }
   ],
   "source": [
    "import hail as hl\n",
    "import hail.expr.aggregators as agg\n",
    "hl.init()"
   ]
  },
  {
   "cell_type": "code",
   "execution_count": 2,
   "metadata": {},
   "outputs": [
    {
     "data": {
      "text/html": [
       "\n",
       "    <div class=\"bk-root\">\n",
       "        <a href=\"https://bokeh.pydata.org\" target=\"_blank\" class=\"bk-logo bk-logo-small bk-logo-notebook\"></a>\n",
       "        <span id=\"d0286139-3c51-4190-9eb8-81fcc718f17b\">Loading BokehJS ...</span>\n",
       "    </div>"
      ]
     },
     "metadata": {},
     "output_type": "display_data"
    },
    {
     "data": {
      "application/javascript": [
       "\n",
       "(function(root) {\n",
       "  function now() {\n",
       "    return new Date();\n",
       "  }\n",
       "\n",
       "  var force = true;\n",
       "\n",
       "  if (typeof (root._bokeh_onload_callbacks) === \"undefined\" || force === true) {\n",
       "    root._bokeh_onload_callbacks = [];\n",
       "    root._bokeh_is_loading = undefined;\n",
       "  }\n",
       "\n",
       "  var JS_MIME_TYPE = 'application/javascript';\n",
       "  var HTML_MIME_TYPE = 'text/html';\n",
       "  var EXEC_MIME_TYPE = 'application/vnd.bokehjs_exec.v0+json';\n",
       "  var CLASS_NAME = 'output_bokeh rendered_html';\n",
       "\n",
       "  /**\n",
       "   * Render data to the DOM node\n",
       "   */\n",
       "  function render(props, node) {\n",
       "    var script = document.createElement(\"script\");\n",
       "    node.appendChild(script);\n",
       "  }\n",
       "\n",
       "  /**\n",
       "   * Handle when an output is cleared or removed\n",
       "   */\n",
       "  function handleClearOutput(event, handle) {\n",
       "    var cell = handle.cell;\n",
       "\n",
       "    var id = cell.output_area._bokeh_element_id;\n",
       "    var server_id = cell.output_area._bokeh_server_id;\n",
       "    // Clean up Bokeh references\n",
       "    if (id != null && id in Bokeh.index) {\n",
       "      Bokeh.index[id].model.document.clear();\n",
       "      delete Bokeh.index[id];\n",
       "    }\n",
       "\n",
       "    if (server_id !== undefined) {\n",
       "      // Clean up Bokeh references\n",
       "      var cmd = \"from bokeh.io.state import curstate; print(curstate().uuid_to_server['\" + server_id + \"'].get_sessions()[0].document.roots[0]._id)\";\n",
       "      cell.notebook.kernel.execute(cmd, {\n",
       "        iopub: {\n",
       "          output: function(msg) {\n",
       "            var id = msg.content.text.trim();\n",
       "            if (id in Bokeh.index) {\n",
       "              Bokeh.index[id].model.document.clear();\n",
       "              delete Bokeh.index[id];\n",
       "            }\n",
       "          }\n",
       "        }\n",
       "      });\n",
       "      // Destroy server and session\n",
       "      var cmd = \"import bokeh.io.notebook as ion; ion.destroy_server('\" + server_id + \"')\";\n",
       "      cell.notebook.kernel.execute(cmd);\n",
       "    }\n",
       "  }\n",
       "\n",
       "  /**\n",
       "   * Handle when a new output is added\n",
       "   */\n",
       "  function handleAddOutput(event, handle) {\n",
       "    var output_area = handle.output_area;\n",
       "    var output = handle.output;\n",
       "\n",
       "    // limit handleAddOutput to display_data with EXEC_MIME_TYPE content only\n",
       "    if ((output.output_type != \"display_data\") || (!output.data.hasOwnProperty(EXEC_MIME_TYPE))) {\n",
       "      return\n",
       "    }\n",
       "\n",
       "    var toinsert = output_area.element.find(\".\" + CLASS_NAME.split(' ')[0]);\n",
       "\n",
       "    if (output.metadata[EXEC_MIME_TYPE][\"id\"] !== undefined) {\n",
       "      toinsert[toinsert.length - 1].firstChild.textContent = output.data[JS_MIME_TYPE];\n",
       "      // store reference to embed id on output_area\n",
       "      output_area._bokeh_element_id = output.metadata[EXEC_MIME_TYPE][\"id\"];\n",
       "    }\n",
       "    if (output.metadata[EXEC_MIME_TYPE][\"server_id\"] !== undefined) {\n",
       "      var bk_div = document.createElement(\"div\");\n",
       "      bk_div.innerHTML = output.data[HTML_MIME_TYPE];\n",
       "      var script_attrs = bk_div.children[0].attributes;\n",
       "      for (var i = 0; i < script_attrs.length; i++) {\n",
       "        toinsert[toinsert.length - 1].firstChild.setAttribute(script_attrs[i].name, script_attrs[i].value);\n",
       "      }\n",
       "      // store reference to server id on output_area\n",
       "      output_area._bokeh_server_id = output.metadata[EXEC_MIME_TYPE][\"server_id\"];\n",
       "    }\n",
       "  }\n",
       "\n",
       "  function register_renderer(events, OutputArea) {\n",
       "\n",
       "    function append_mime(data, metadata, element) {\n",
       "      // create a DOM node to render to\n",
       "      var toinsert = this.create_output_subarea(\n",
       "        metadata,\n",
       "        CLASS_NAME,\n",
       "        EXEC_MIME_TYPE\n",
       "      );\n",
       "      this.keyboard_manager.register_events(toinsert);\n",
       "      // Render to node\n",
       "      var props = {data: data, metadata: metadata[EXEC_MIME_TYPE]};\n",
       "      render(props, toinsert[toinsert.length - 1]);\n",
       "      element.append(toinsert);\n",
       "      return toinsert\n",
       "    }\n",
       "\n",
       "    /* Handle when an output is cleared or removed */\n",
       "    events.on('clear_output.CodeCell', handleClearOutput);\n",
       "    events.on('delete.Cell', handleClearOutput);\n",
       "\n",
       "    /* Handle when a new output is added */\n",
       "    events.on('output_added.OutputArea', handleAddOutput);\n",
       "\n",
       "    /**\n",
       "     * Register the mime type and append_mime function with output_area\n",
       "     */\n",
       "    OutputArea.prototype.register_mime_type(EXEC_MIME_TYPE, append_mime, {\n",
       "      /* Is output safe? */\n",
       "      safe: true,\n",
       "      /* Index of renderer in `output_area.display_order` */\n",
       "      index: 0\n",
       "    });\n",
       "  }\n",
       "\n",
       "  // register the mime type if in Jupyter Notebook environment and previously unregistered\n",
       "  if (root.Jupyter !== undefined) {\n",
       "    var events = require('base/js/events');\n",
       "    var OutputArea = require('notebook/js/outputarea').OutputArea;\n",
       "\n",
       "    if (OutputArea.prototype.mime_types().indexOf(EXEC_MIME_TYPE) == -1) {\n",
       "      register_renderer(events, OutputArea);\n",
       "    }\n",
       "  }\n",
       "\n",
       "  \n",
       "  if (typeof (root._bokeh_timeout) === \"undefined\" || force === true) {\n",
       "    root._bokeh_timeout = Date.now() + 5000;\n",
       "    root._bokeh_failed_load = false;\n",
       "  }\n",
       "\n",
       "  var NB_LOAD_WARNING = {'data': {'text/html':\n",
       "     \"<div style='background-color: #fdd'>\\n\"+\n",
       "     \"<p>\\n\"+\n",
       "     \"BokehJS does not appear to have successfully loaded. If loading BokehJS from CDN, this \\n\"+\n",
       "     \"may be due to a slow or bad network connection. Possible fixes:\\n\"+\n",
       "     \"</p>\\n\"+\n",
       "     \"<ul>\\n\"+\n",
       "     \"<li>re-rerun `output_notebook()` to attempt to load from CDN again, or</li>\\n\"+\n",
       "     \"<li>use INLINE resources instead, as so:</li>\\n\"+\n",
       "     \"</ul>\\n\"+\n",
       "     \"<code>\\n\"+\n",
       "     \"from bokeh.resources import INLINE\\n\"+\n",
       "     \"output_notebook(resources=INLINE)\\n\"+\n",
       "     \"</code>\\n\"+\n",
       "     \"</div>\"}};\n",
       "\n",
       "  function display_loaded() {\n",
       "    var el = document.getElementById(\"d0286139-3c51-4190-9eb8-81fcc718f17b\");\n",
       "    if (el != null) {\n",
       "      el.textContent = \"BokehJS is loading...\";\n",
       "    }\n",
       "    if (root.Bokeh !== undefined) {\n",
       "      if (el != null) {\n",
       "        el.textContent = \"BokehJS \" + root.Bokeh.version + \" successfully loaded.\";\n",
       "      }\n",
       "    } else if (Date.now() < root._bokeh_timeout) {\n",
       "      setTimeout(display_loaded, 100)\n",
       "    }\n",
       "  }\n",
       "\n",
       "\n",
       "  function run_callbacks() {\n",
       "    try {\n",
       "      root._bokeh_onload_callbacks.forEach(function(callback) { callback() });\n",
       "    }\n",
       "    finally {\n",
       "      delete root._bokeh_onload_callbacks\n",
       "    }\n",
       "    console.info(\"Bokeh: all callbacks have finished\");\n",
       "  }\n",
       "\n",
       "  function load_libs(js_urls, callback) {\n",
       "    root._bokeh_onload_callbacks.push(callback);\n",
       "    if (root._bokeh_is_loading > 0) {\n",
       "      console.log(\"Bokeh: BokehJS is being loaded, scheduling callback at\", now());\n",
       "      return null;\n",
       "    }\n",
       "    if (js_urls == null || js_urls.length === 0) {\n",
       "      run_callbacks();\n",
       "      return null;\n",
       "    }\n",
       "    console.log(\"Bokeh: BokehJS not loaded, scheduling load and callback at\", now());\n",
       "    root._bokeh_is_loading = js_urls.length;\n",
       "    for (var i = 0; i < js_urls.length; i++) {\n",
       "      var url = js_urls[i];\n",
       "      var s = document.createElement('script');\n",
       "      s.src = url;\n",
       "      s.async = false;\n",
       "      s.onreadystatechange = s.onload = function() {\n",
       "        root._bokeh_is_loading--;\n",
       "        if (root._bokeh_is_loading === 0) {\n",
       "          console.log(\"Bokeh: all BokehJS libraries loaded\");\n",
       "          run_callbacks()\n",
       "        }\n",
       "      };\n",
       "      s.onerror = function() {\n",
       "        console.warn(\"failed to load library \" + url);\n",
       "      };\n",
       "      console.log(\"Bokeh: injecting script tag for BokehJS library: \", url);\n",
       "      document.getElementsByTagName(\"head\")[0].appendChild(s);\n",
       "    }\n",
       "  };var element = document.getElementById(\"d0286139-3c51-4190-9eb8-81fcc718f17b\");\n",
       "  if (element == null) {\n",
       "    console.log(\"Bokeh: ERROR: autoload.js configured with elementid 'd0286139-3c51-4190-9eb8-81fcc718f17b' but no matching script tag was found. \")\n",
       "    return false;\n",
       "  }\n",
       "\n",
       "  var js_urls = [\"https://cdn.pydata.org/bokeh/release/bokeh-0.13.0.min.js\", \"https://cdn.pydata.org/bokeh/release/bokeh-widgets-0.13.0.min.js\", \"https://cdn.pydata.org/bokeh/release/bokeh-tables-0.13.0.min.js\", \"https://cdn.pydata.org/bokeh/release/bokeh-gl-0.13.0.min.js\"];\n",
       "\n",
       "  var inline_js = [\n",
       "    function(Bokeh) {\n",
       "      Bokeh.set_log_level(\"info\");\n",
       "    },\n",
       "    \n",
       "    function(Bokeh) {\n",
       "      \n",
       "    },\n",
       "    function(Bokeh) {\n",
       "      console.log(\"Bokeh: injecting CSS: https://cdn.pydata.org/bokeh/release/bokeh-0.13.0.min.css\");\n",
       "      Bokeh.embed.inject_css(\"https://cdn.pydata.org/bokeh/release/bokeh-0.13.0.min.css\");\n",
       "      console.log(\"Bokeh: injecting CSS: https://cdn.pydata.org/bokeh/release/bokeh-widgets-0.13.0.min.css\");\n",
       "      Bokeh.embed.inject_css(\"https://cdn.pydata.org/bokeh/release/bokeh-widgets-0.13.0.min.css\");\n",
       "      console.log(\"Bokeh: injecting CSS: https://cdn.pydata.org/bokeh/release/bokeh-tables-0.13.0.min.css\");\n",
       "      Bokeh.embed.inject_css(\"https://cdn.pydata.org/bokeh/release/bokeh-tables-0.13.0.min.css\");\n",
       "    }\n",
       "  ];\n",
       "\n",
       "  function run_inline_js() {\n",
       "    \n",
       "    if ((root.Bokeh !== undefined) || (force === true)) {\n",
       "      for (var i = 0; i < inline_js.length; i++) {\n",
       "        inline_js[i].call(root, root.Bokeh);\n",
       "      }if (force === true) {\n",
       "        display_loaded();\n",
       "      }} else if (Date.now() < root._bokeh_timeout) {\n",
       "      setTimeout(run_inline_js, 100);\n",
       "    } else if (!root._bokeh_failed_load) {\n",
       "      console.log(\"Bokeh: BokehJS failed to load within specified timeout.\");\n",
       "      root._bokeh_failed_load = true;\n",
       "    } else if (force !== true) {\n",
       "      var cell = $(document.getElementById(\"d0286139-3c51-4190-9eb8-81fcc718f17b\")).parents('.cell').data().cell;\n",
       "      cell.output_area.append_execute_result(NB_LOAD_WARNING)\n",
       "    }\n",
       "\n",
       "  }\n",
       "\n",
       "  if (root._bokeh_is_loading === 0) {\n",
       "    console.log(\"Bokeh: BokehJS loaded, going straight to plotting\");\n",
       "    run_inline_js();\n",
       "  } else {\n",
       "    load_libs(js_urls, function() {\n",
       "      console.log(\"Bokeh: BokehJS plotting callback run at\", now());\n",
       "      run_inline_js();\n",
       "    });\n",
       "  }\n",
       "}(window));"
      ],
      "application/vnd.bokehjs_load.v0+json": "\n(function(root) {\n  function now() {\n    return new Date();\n  }\n\n  var force = true;\n\n  if (typeof (root._bokeh_onload_callbacks) === \"undefined\" || force === true) {\n    root._bokeh_onload_callbacks = [];\n    root._bokeh_is_loading = undefined;\n  }\n\n  \n\n  \n  if (typeof (root._bokeh_timeout) === \"undefined\" || force === true) {\n    root._bokeh_timeout = Date.now() + 5000;\n    root._bokeh_failed_load = false;\n  }\n\n  var NB_LOAD_WARNING = {'data': {'text/html':\n     \"<div style='background-color: #fdd'>\\n\"+\n     \"<p>\\n\"+\n     \"BokehJS does not appear to have successfully loaded. If loading BokehJS from CDN, this \\n\"+\n     \"may be due to a slow or bad network connection. Possible fixes:\\n\"+\n     \"</p>\\n\"+\n     \"<ul>\\n\"+\n     \"<li>re-rerun `output_notebook()` to attempt to load from CDN again, or</li>\\n\"+\n     \"<li>use INLINE resources instead, as so:</li>\\n\"+\n     \"</ul>\\n\"+\n     \"<code>\\n\"+\n     \"from bokeh.resources import INLINE\\n\"+\n     \"output_notebook(resources=INLINE)\\n\"+\n     \"</code>\\n\"+\n     \"</div>\"}};\n\n  function display_loaded() {\n    var el = document.getElementById(\"d0286139-3c51-4190-9eb8-81fcc718f17b\");\n    if (el != null) {\n      el.textContent = \"BokehJS is loading...\";\n    }\n    if (root.Bokeh !== undefined) {\n      if (el != null) {\n        el.textContent = \"BokehJS \" + root.Bokeh.version + \" successfully loaded.\";\n      }\n    } else if (Date.now() < root._bokeh_timeout) {\n      setTimeout(display_loaded, 100)\n    }\n  }\n\n\n  function run_callbacks() {\n    try {\n      root._bokeh_onload_callbacks.forEach(function(callback) { callback() });\n    }\n    finally {\n      delete root._bokeh_onload_callbacks\n    }\n    console.info(\"Bokeh: all callbacks have finished\");\n  }\n\n  function load_libs(js_urls, callback) {\n    root._bokeh_onload_callbacks.push(callback);\n    if (root._bokeh_is_loading > 0) {\n      console.log(\"Bokeh: BokehJS is being loaded, scheduling callback at\", now());\n      return null;\n    }\n    if (js_urls == null || js_urls.length === 0) {\n      run_callbacks();\n      return null;\n    }\n    console.log(\"Bokeh: BokehJS not loaded, scheduling load and callback at\", now());\n    root._bokeh_is_loading = js_urls.length;\n    for (var i = 0; i < js_urls.length; i++) {\n      var url = js_urls[i];\n      var s = document.createElement('script');\n      s.src = url;\n      s.async = false;\n      s.onreadystatechange = s.onload = function() {\n        root._bokeh_is_loading--;\n        if (root._bokeh_is_loading === 0) {\n          console.log(\"Bokeh: all BokehJS libraries loaded\");\n          run_callbacks()\n        }\n      };\n      s.onerror = function() {\n        console.warn(\"failed to load library \" + url);\n      };\n      console.log(\"Bokeh: injecting script tag for BokehJS library: \", url);\n      document.getElementsByTagName(\"head\")[0].appendChild(s);\n    }\n  };var element = document.getElementById(\"d0286139-3c51-4190-9eb8-81fcc718f17b\");\n  if (element == null) {\n    console.log(\"Bokeh: ERROR: autoload.js configured with elementid 'd0286139-3c51-4190-9eb8-81fcc718f17b' but no matching script tag was found. \")\n    return false;\n  }\n\n  var js_urls = [\"https://cdn.pydata.org/bokeh/release/bokeh-0.13.0.min.js\", \"https://cdn.pydata.org/bokeh/release/bokeh-widgets-0.13.0.min.js\", \"https://cdn.pydata.org/bokeh/release/bokeh-tables-0.13.0.min.js\", \"https://cdn.pydata.org/bokeh/release/bokeh-gl-0.13.0.min.js\"];\n\n  var inline_js = [\n    function(Bokeh) {\n      Bokeh.set_log_level(\"info\");\n    },\n    \n    function(Bokeh) {\n      \n    },\n    function(Bokeh) {\n      console.log(\"Bokeh: injecting CSS: https://cdn.pydata.org/bokeh/release/bokeh-0.13.0.min.css\");\n      Bokeh.embed.inject_css(\"https://cdn.pydata.org/bokeh/release/bokeh-0.13.0.min.css\");\n      console.log(\"Bokeh: injecting CSS: https://cdn.pydata.org/bokeh/release/bokeh-widgets-0.13.0.min.css\");\n      Bokeh.embed.inject_css(\"https://cdn.pydata.org/bokeh/release/bokeh-widgets-0.13.0.min.css\");\n      console.log(\"Bokeh: injecting CSS: https://cdn.pydata.org/bokeh/release/bokeh-tables-0.13.0.min.css\");\n      Bokeh.embed.inject_css(\"https://cdn.pydata.org/bokeh/release/bokeh-tables-0.13.0.min.css\");\n    }\n  ];\n\n  function run_inline_js() {\n    \n    if ((root.Bokeh !== undefined) || (force === true)) {\n      for (var i = 0; i < inline_js.length; i++) {\n        inline_js[i].call(root, root.Bokeh);\n      }if (force === true) {\n        display_loaded();\n      }} else if (Date.now() < root._bokeh_timeout) {\n      setTimeout(run_inline_js, 100);\n    } else if (!root._bokeh_failed_load) {\n      console.log(\"Bokeh: BokehJS failed to load within specified timeout.\");\n      root._bokeh_failed_load = true;\n    } else if (force !== true) {\n      var cell = $(document.getElementById(\"d0286139-3c51-4190-9eb8-81fcc718f17b\")).parents('.cell').data().cell;\n      cell.output_area.append_execute_result(NB_LOAD_WARNING)\n    }\n\n  }\n\n  if (root._bokeh_is_loading === 0) {\n    console.log(\"Bokeh: BokehJS loaded, going straight to plotting\");\n    run_inline_js();\n  } else {\n    load_libs(js_urls, function() {\n      console.log(\"Bokeh: BokehJS plotting callback run at\", now());\n      run_inline_js();\n    });\n  }\n}(window));"
     },
     "metadata": {},
     "output_type": "display_data"
    }
   ],
   "source": [
    "from pprint import pprint\n",
    "from bokeh.io import output_notebook, show\n",
    "from bokeh.layouts import gridplot\n",
    "from bokeh.models import Span\n",
    "from bokeh.plotting import figure, show, output_file\n",
    "import pandas as pd\n",
    "import os , sys, time\n",
    "output_notebook()"
   ]
  },
  {
   "cell_type": "markdown",
   "metadata": {},
   "source": [
    "To learn more about bokeh, look at https://bokeh.pydata.org/en/latest/"
   ]
  },
  {
   "cell_type": "code",
   "execution_count": 3,
   "metadata": {},
   "outputs": [],
   "source": [
    "local_path=os.getcwd()\n",
    "sys.path.append(local_path)\n",
    "import plotting"
   ]
  },
  {
   "cell_type": "markdown",
   "metadata": {},
   "source": [
    "---"
   ]
  },
  {
   "cell_type": "code",
   "execution_count": 4,
   "metadata": {},
   "outputs": [
    {
     "name": "stderr",
     "output_type": "stream",
     "text": [
      "2019-06-12 14:36:54 Hail: INFO: downloading 1KG VCF ...\n",
      "  Source: https://storage.googleapis.com/hail-tutorial/1kg.vcf.bgz\n",
      "2019-06-12 14:36:56 Hail: INFO: importing VCF and writing to matrix table...\n",
      "2019-06-12 14:36:58 Hail: INFO: Coerced sorted dataset\n",
      "2019-06-12 14:37:01 Hail: INFO: wrote matrix table with 10961 rows and 284 columns in 16 partitions to data/1kg.mt\n",
      "2019-06-12 14:37:01 Hail: INFO: downloading 1KG annotations ...\n",
      "  Source: https://storage.googleapis.com/hail-tutorial/1kg_annotations.txt\n",
      "2019-06-12 14:37:01 Hail: INFO: downloading Ensembl gene annotations ...\n",
      "  Source: https://storage.googleapis.com/hail-tutorial/ensembl_gene_annotations.txt\n",
      "2019-06-12 14:37:02 Hail: INFO: Done!\n"
     ]
    }
   ],
   "source": [
    "# Load data from the 1K-Genome project\n",
    "hl.utils.get_1kg('data/')"
   ]
  },
  {
   "cell_type": "code",
   "execution_count": 5,
   "metadata": {},
   "outputs": [],
   "source": [
    "# Read data into a matrix table \n",
    "mt = hl.read_matrix_table('data/1kg.mt/')"
   ]
  },
  {
   "cell_type": "markdown",
   "metadata": {},
   "source": [
    "Hail has its own internal data representation, called a [MatrixTable](https://hail.is/docs/0.2/tutorials/09-matrixtable.html)\n"
   ]
  },
  {
   "cell_type": "code",
   "execution_count": 6,
   "metadata": {},
   "outputs": [
    {
     "data": {
      "text/plain": [
       "hail.matrixtable.MatrixTable"
      ]
     },
     "execution_count": 6,
     "metadata": {},
     "output_type": "execute_result"
    }
   ],
   "source": [
    "type(mt)"
   ]
  },
  {
   "cell_type": "markdown",
   "metadata": {},
   "source": [
    "The `MatrixTable.describe()` method prints all fields in the table and their types, as well as the keys."
   ]
  },
  {
   "cell_type": "code",
   "execution_count": 53,
   "metadata": {},
   "outputs": [
    {
     "name": "stdout",
     "output_type": "stream",
     "text": [
      "----------------------------------------\n",
      "Global fields:\n",
      "    None\n",
      "----------------------------------------\n",
      "Column fields:\n",
      "    's': str\n",
      "    'pheno': struct {\n",
      "        Population: str, \n",
      "        SuperPopulation: str, \n",
      "        isFemale: bool, \n",
      "        PurpleHair: bool, \n",
      "        CaffeineConsumption: int32\n",
      "    }\n",
      "    'sample_qc': struct {\n",
      "        dp_stats: struct {\n",
      "            mean: float64, \n",
      "            stdev: float64, \n",
      "            min: float64, \n",
      "            max: float64\n",
      "        }, \n",
      "        gq_stats: struct {\n",
      "            mean: float64, \n",
      "            stdev: float64, \n",
      "            min: float64, \n",
      "            max: float64\n",
      "        }, \n",
      "        call_rate: float64, \n",
      "        n_called: int64, \n",
      "        n_not_called: int64, \n",
      "        n_filtered: int64, \n",
      "        n_hom_ref: int64, \n",
      "        n_het: int64, \n",
      "        n_hom_var: int64, \n",
      "        n_non_ref: int64, \n",
      "        n_singleton: int64, \n",
      "        n_snp: int64, \n",
      "        n_insertion: int64, \n",
      "        n_deletion: int64, \n",
      "        n_transition: int64, \n",
      "        n_transversion: int64, \n",
      "        n_star: int64, \n",
      "        r_ti_tv: float64, \n",
      "        r_het_hom_var: float64, \n",
      "        r_insertion_deletion: float64\n",
      "    }\n",
      "    'pca': struct {\n",
      "        scores: array<float64>\n",
      "    }\n",
      "----------------------------------------\n",
      "Row fields:\n",
      "    'locus': locus<GRCh37>\n",
      "    'alleles': array<str>\n",
      "    'rsid': str\n",
      "    'qual': float64\n",
      "    'filters': set<str>\n",
      "    'info': struct {\n",
      "        AC: array<int32>, \n",
      "        AF: array<float64>, \n",
      "        AN: int32, \n",
      "        BaseQRankSum: float64, \n",
      "        ClippingRankSum: float64, \n",
      "        DP: int32, \n",
      "        DS: bool, \n",
      "        FS: float64, \n",
      "        HaplotypeScore: float64, \n",
      "        InbreedingCoeff: float64, \n",
      "        MLEAC: array<int32>, \n",
      "        MLEAF: array<float64>, \n",
      "        MQ: float64, \n",
      "        MQ0: int32, \n",
      "        MQRankSum: float64, \n",
      "        QD: float64, \n",
      "        ReadPosRankSum: float64, \n",
      "        set: str\n",
      "    }\n",
      "    'variant_qc': struct {\n",
      "        dp_stats: struct {\n",
      "            mean: float64, \n",
      "            stdev: float64, \n",
      "            min: float64, \n",
      "            max: float64\n",
      "        }, \n",
      "        gq_stats: struct {\n",
      "            mean: float64, \n",
      "            stdev: float64, \n",
      "            min: float64, \n",
      "            max: float64\n",
      "        }, \n",
      "        AC: array<int32>, \n",
      "        AF: array<float64>, \n",
      "        AN: int32, \n",
      "        homozygote_count: array<int32>, \n",
      "        call_rate: float64, \n",
      "        n_called: int64, \n",
      "        n_not_called: int64, \n",
      "        n_filtered: int64, \n",
      "        n_het: int64, \n",
      "        n_non_ref: int64, \n",
      "        het_freq_hwe: float64, \n",
      "        p_value_hwe: float64\n",
      "    }\n",
      "----------------------------------------\n",
      "Entry fields:\n",
      "    'GT': call\n",
      "    'AD': array<int32>\n",
      "    'DP': int32\n",
      "    'GQ': int32\n",
      "    'PL': array<int32>\n",
      "----------------------------------------\n",
      "Column key: ['s']\n",
      "Row key: ['locus', 'alleles']\n",
      "----------------------------------------\n"
     ]
    }
   ],
   "source": [
    "# the describe function displays the variables in the matrix table and the corresponding data type\n",
    "mt.describe()"
   ]
  },
  {
   "cell_type": "code",
   "execution_count": 62,
   "metadata": {},
   "outputs": [
    {
     "data": {
      "text/plain": [
       "['locus', 'alleles', 'rsid', 'qual', 'filters', 'info', 'variant_qc']"
      ]
     },
     "execution_count": 62,
     "metadata": {},
     "output_type": "execute_result"
    }
   ],
   "source": [
    "list(mt.row)"
   ]
  },
  {
   "cell_type": "code",
   "execution_count": 63,
   "metadata": {},
   "outputs": [
    {
     "name": "stdout",
     "output_type": "stream",
     "text": [
      "Samples: 250  Variants: 7837\n"
     ]
    }
   ],
   "source": [
    "print('Samples: %d  Variants: %d' % (mt.count_cols(), mt.count_rows()))"
   ]
  },
  {
   "cell_type": "markdown",
   "metadata": {},
   "source": [
    "We have 250 samples and 7,837 variants. To know exactly the number of variants per chromosome and the nature of our SNPs, you can use `summarize_variants()`."
   ]
  },
  {
   "cell_type": "code",
   "execution_count": 64,
   "metadata": {},
   "outputs": [
    {
     "name": "stdout",
     "output_type": "stream",
     "text": [
      "==============================\n",
      "Number of variants: 7837\n",
      "==============================\n",
      "Alleles per variant\n",
      "-------------------\n",
      "  2 alleles: 7837 variants\n",
      "==============================\n",
      "Variants per contig\n",
      "-------------------\n",
      "   1: 659 variants\n",
      "   2: 611 variants\n",
      "   3: 556 variants\n",
      "   4: 486 variants\n",
      "   5: 478 variants\n",
      "   6: 517 variants\n",
      "   7: 427 variants\n",
      "   8: 384 variants\n",
      "   9: 313 variants\n",
      "  10: 413 variants\n",
      "  11: 392 variants\n",
      "  12: 420 variants\n",
      "  13: 268 variants\n",
      "  14: 251 variants\n",
      "  15: 240 variants\n",
      "  16: 268 variants\n",
      "  17: 222 variants\n",
      "  18: 251 variants\n",
      "  19: 221 variants\n",
      "  20: 226 variants\n",
      "  21: 111 variants\n",
      "  22: 110 variants\n",
      "   X: 13 variants\n",
      "==============================\n",
      "Allele type distribution\n",
      "------------------------\n",
      "  SNP: 7837 alternate alleles\n",
      "==============================\n"
     ]
    }
   ],
   "source": [
    "hl.summarize_variants(mt)"
   ]
  },
  {
   "cell_type": "code",
   "execution_count": 7,
   "metadata": {},
   "outputs": [
    {
     "name": "stdout",
     "output_type": "stream",
     "text": [
      "+---------------+------------+----------+\n",
      "| locus         | alleles    |     qual |\n",
      "+---------------+------------+----------+\n",
      "| locus<GRCh37> | array<str> |  float64 |\n",
      "+---------------+------------+----------+\n",
      "| 1:904165      | [\"G\",\"A\"]  | 5.23e+04 |\n",
      "| 1:909917      | [\"G\",\"A\"]  | 1.58e+03 |\n",
      "| 1:986963      | [\"C\",\"T\"]  | 3.98e+02 |\n",
      "| 1:1563691     | [\"T\",\"G\"]  | 1.09e+03 |\n",
      "| 1:1707740     | [\"T\",\"G\"]  | 9.35e+04 |\n",
      "| 1:2252970     | [\"C\",\"T\"]  | 7.36e+02 |\n",
      "| 1:2284195     | [\"T\",\"C\"]  | 1.42e+05 |\n",
      "| 1:2779043     | [\"T\",\"C\"]  | 2.89e+05 |\n",
      "| 1:2944527     | [\"G\",\"A\"]  | 1.24e+05 |\n",
      "| 1:3761547     | [\"C\",\"A\"]  | 1.61e+03 |\n",
      "+---------------+------------+----------+\n",
      "showing top 10 rows\n",
      "\n"
     ]
    }
   ],
   "source": [
    "mt.qual.show()"
   ]
  },
  {
   "cell_type": "markdown",
   "metadata": {},
   "source": [
    "The [rows](https://hail.is/docs/devel/hail.MatrixTable.html#hail.MatrixTable.rows) method can be used to get a table with all the row fields in our MatrixTable.  \n",
    "You can use the `show` method to display the variants."
   ]
  },
  {
   "cell_type": "code",
   "execution_count": 8,
   "metadata": {},
   "outputs": [
    {
     "name": "stdout",
     "output_type": "stream",
     "text": [
      "+---------------+------------+-----------+--------------+\n",
      "| locus         | alleles    | s         | AD           |\n",
      "+---------------+------------+-----------+--------------+\n",
      "| locus<GRCh37> | array<str> | str       | array<int32> |\n",
      "+---------------+------------+-----------+--------------+\n",
      "| 1:904165      | [\"G\",\"A\"]  | \"HG00096\" | [4,0]        |\n",
      "| 1:904165      | [\"G\",\"A\"]  | \"HG00099\" | [8,0]        |\n",
      "| 1:904165      | [\"G\",\"A\"]  | \"HG00105\" | [8,0]        |\n",
      "| 1:904165      | [\"G\",\"A\"]  | \"HG00118\" | [7,0]        |\n",
      "| 1:904165      | [\"G\",\"A\"]  | \"HG00129\" | [5,0]        |\n",
      "| 1:904165      | [\"G\",\"A\"]  | \"HG00148\" | [4,0]        |\n",
      "| 1:904165      | [\"G\",\"A\"]  | \"HG00177\" | [2,0]        |\n",
      "| 1:904165      | [\"G\",\"A\"]  | \"HG00182\" | [5,0]        |\n",
      "| 1:904165      | [\"G\",\"A\"]  | \"HG00242\" | [5,0]        |\n",
      "| 1:904165      | [\"G\",\"A\"]  | \"HG00254\" | [13,0]       |\n",
      "+---------------+------------+-----------+--------------+\n",
      "showing top 10 rows\n",
      "\n"
     ]
    }
   ],
   "source": [
    "mt.AD.show()"
   ]
  },
  {
   "cell_type": "markdown",
   "metadata": {},
   "source": [
    "To look at the first few genotype calls, we can use [entries](https://hail.is/docs/devel/hail.MatrixTable.html#hail.MatrixTable.entries) along with `select` and `take`. The `take` method collects the first n rows into a list. Alternatively, we can use the `show` method, which prints the first n rows to the console in a table format. \n",
    "\n",
    "Try changing `take` to `show` in the cell below."
   ]
  },
  {
   "cell_type": "code",
   "execution_count": 12,
   "metadata": {},
   "outputs": [
    {
     "name": "stdout",
     "output_type": "stream",
     "text": [
      "+---------------+------------+-----------+------+--------------+-------+-------+\n",
      "| locus         | alleles    | s         | GT   | AD           |    DP |    GQ |\n",
      "+---------------+------------+-----------+------+--------------+-------+-------+\n",
      "| locus<GRCh37> | array<str> | str       | call | array<int32> | int32 | int32 |\n",
      "+---------------+------------+-----------+------+--------------+-------+-------+\n",
      "| 1:904165      | [\"G\",\"A\"]  | \"HG00096\" | 0/0  | [4,0]        |     4 |    12 |\n",
      "| 1:904165      | [\"G\",\"A\"]  | \"HG00099\" | 0/0  | [8,0]        |     8 |    24 |\n",
      "| 1:904165      | [\"G\",\"A\"]  | \"HG00105\" | 0/0  | [8,0]        |     8 |    23 |\n",
      "| 1:904165      | [\"G\",\"A\"]  | \"HG00118\" | 0/0  | [7,0]        |     7 |    21 |\n",
      "| 1:904165      | [\"G\",\"A\"]  | \"HG00129\" | 0/0  | [5,0]        |     5 |    15 |\n",
      "+---------------+------------+-----------+------+--------------+-------+-------+\n",
      "\n",
      "+--------------+\n",
      "| PL           |\n",
      "+--------------+\n",
      "| array<int32> |\n",
      "+--------------+\n",
      "| [0,12,147]   |\n",
      "| [0,24,315]   |\n",
      "| [0,23,230]   |\n",
      "| [0,21,270]   |\n",
      "| [0,15,205]   |\n",
      "+--------------+\n",
      "showing top 5 rows\n",
      "\n"
     ]
    }
   ],
   "source": [
    "mt.entry.show(5)"
   ]
  },
  {
   "cell_type": "code",
   "execution_count": 13,
   "metadata": {},
   "outputs": [
    {
     "name": "stdout",
     "output_type": "stream",
     "text": [
      "==============================\n",
      "Number of variants: 10961\n",
      "==============================\n",
      "Alleles per variant\n",
      "-------------------\n",
      "  2 alleles: 10961 variants\n",
      "==============================\n",
      "Variants per contig\n",
      "-------------------\n",
      "   1: 919 variants\n",
      "   2: 848 variants\n",
      "   3: 745 variants\n",
      "   4: 641 variants\n",
      "   5: 650 variants\n",
      "   6: 676 variants\n",
      "   7: 546 variants\n",
      "   8: 512 variants\n",
      "   9: 420 variants\n",
      "  10: 535 variants\n",
      "  11: 579 variants\n",
      "  12: 569 variants\n",
      "  13: 338 variants\n",
      "  14: 341 variants\n",
      "  15: 345 variants\n",
      "  16: 384 variants\n",
      "  17: 354 variants\n",
      "  18: 301 variants\n",
      "  19: 346 variants\n",
      "  20: 314 variants\n",
      "  21: 153 variants\n",
      "  22: 172 variants\n",
      "   X: 273 variants\n",
      "==============================\n",
      "Allele type distribution\n",
      "------------------------\n",
      "  SNP: 10961 alternate alleles\n",
      "==============================\n"
     ]
    }
   ],
   "source": [
    "hl.summarize_variants(mt)"
   ]
  },
  {
   "cell_type": "code",
   "execution_count": 14,
   "metadata": {},
   "outputs": [
    {
     "data": {
      "text/plain": [
       "76"
      ]
     },
     "execution_count": 14,
     "metadata": {},
     "output_type": "execute_result"
    }
   ],
   "source": [
    "mt.aggregate_rows(hl.agg.count_where(mt.alleles==['A','T']))"
   ]
  },
  {
   "cell_type": "code",
   "execution_count": 15,
   "metadata": {},
   "outputs": [
    {
     "data": {
      "text/plain": [
       "[(['A', 'C'], 454),\n",
       " (['A', 'G'], 1944),\n",
       " (['A', 'T'], 76),\n",
       " (['C', 'A'], 496),\n",
       " (['C', 'G'], 150),\n",
       " (['C', 'T'], 2436),\n",
       " (['G', 'A'], 2387),\n",
       " (['G', 'C'], 112),\n",
       " (['G', 'T'], 480),\n",
       " (['T', 'A'], 79),\n",
       " (['T', 'C'], 1879),\n",
       " (['T', 'G'], 468)]"
      ]
     },
     "execution_count": 15,
     "metadata": {},
     "output_type": "execute_result"
    }
   ],
   "source": [
    "snp_counts = mt.aggregate_rows(\n",
    "    hl.array(hl.agg.counter(mt.alleles)))\n",
    "snp_counts"
   ]
  },
  {
   "cell_type": "code",
   "execution_count": 16,
   "metadata": {},
   "outputs": [
    {
     "data": {
      "text/plain": [
       "list"
      ]
     },
     "execution_count": 16,
     "metadata": {},
     "output_type": "execute_result"
    }
   ],
   "source": [
    "type(snp_counts)"
   ]
  },
  {
   "cell_type": "code",
   "execution_count": 17,
   "metadata": {},
   "outputs": [
    {
     "data": {
      "text/plain": [
       "[(['A', 'T'], 76),\n",
       " (['T', 'A'], 79),\n",
       " (['G', 'C'], 112),\n",
       " (['C', 'G'], 150),\n",
       " (['A', 'C'], 454),\n",
       " (['T', 'G'], 468),\n",
       " (['G', 'T'], 480),\n",
       " (['C', 'A'], 496),\n",
       " (['T', 'C'], 1879),\n",
       " (['A', 'G'], 1944),\n",
       " (['G', 'A'], 2387),\n",
       " (['C', 'T'], 2436)]"
      ]
     },
     "execution_count": 17,
     "metadata": {},
     "output_type": "execute_result"
    }
   ],
   "source": [
    "sorted(snp_counts, key=lambda x: x[1])"
   ]
  },
  {
   "cell_type": "code",
   "execution_count": 18,
   "metadata": {},
   "outputs": [
    {
     "data": {
      "text/plain": [
       "Struct(mean=31.61537554844648, stdev=26.43319099327883, min=0.0, max=99.0, n=3071175, sum=97096351.00000012)"
      ]
     },
     "execution_count": 18,
     "metadata": {},
     "output_type": "execute_result"
    }
   ],
   "source": [
    "mt.aggregate_entries(hl.agg.stats(mt.GQ))"
   ]
  },
  {
   "cell_type": "code",
   "execution_count": 19,
   "metadata": {},
   "outputs": [
    {
     "data": {
      "text/plain": [
       "Struct(mean=21.37505398600503, stdev=12.816819465406763, min=0.0, max=99.0, n=1741192, sum=37218073.000000075)"
      ]
     },
     "execution_count": 19,
     "metadata": {},
     "output_type": "execute_result"
    }
   ],
   "source": [
    "mt.aggregate_entries(\n",
    "    hl.agg.filter(mt.GT.is_hom_ref(),hl.agg.stats(mt.GQ)))"
   ]
  },
  {
   "cell_type": "code",
   "execution_count": 20,
   "metadata": {},
   "outputs": [],
   "source": [
    "hl.agg.stats?\n"
   ]
  },
  {
   "cell_type": "code",
   "execution_count": 21,
   "metadata": {},
   "outputs": [
    {
     "data": {
      "text/plain": [
       "Struct(mean=45.02183712122629, stdev=32.884305900975264, min=0.0, max=99.0, n=1329983, sum=59878277.9999999)"
      ]
     },
     "execution_count": 21,
     "metadata": {},
     "output_type": "execute_result"
    }
   ],
   "source": [
    "mt.aggregate_entries(\n",
    "    hl.agg.filter(~mt.GT.is_hom_ref(),hl.agg.stats(mt.GQ)))"
   ]
  },
  {
   "cell_type": "code",
   "execution_count": 22,
   "metadata": {},
   "outputs": [
    {
     "data": {
      "text/plain": [
       "Struct(mean=64.17925188032766, stdev=30.950981843666693, min=0.0, max=99.0, n=747875, sum=47998058.000000045)"
      ]
     },
     "execution_count": 22,
     "metadata": {},
     "output_type": "execute_result"
    }
   ],
   "source": [
    "mt.aggregate_entries(\n",
    "    hl.agg.filter(mt.GT.is_het(),hl.agg.stats(mt.GQ)))"
   ]
  },
  {
   "cell_type": "code",
   "execution_count": 23,
   "metadata": {},
   "outputs": [],
   "source": [
    "p=hl.plot.histogram(mt.GQ, bins=100)"
   ]
  },
  {
   "cell_type": "code",
   "execution_count": 24,
   "metadata": {},
   "outputs": [
    {
     "data": {
      "text/html": [
       "\n",
       "\n",
       "\n",
       "\n",
       "\n",
       "\n",
       "  <div class=\"bk-root\" id=\"6eb8f776-a672-4cb4-8922-97c76c68c913\"></div>\n"
      ]
     },
     "metadata": {},
     "output_type": "display_data"
    },
    {
     "data": {
      "application/javascript": [
       "(function(root) {\n",
       "  function embed_document(root) {\n",
       "    \n",
       "  var docs_json = {\"050cf412-25df-46d4-bcb3-6d9aee90c55f\":{\"roots\":{\"references\":[{\"attributes\":{\"plot\":{\"id\":\"83b66f36-27de-4c13-ac7f-effa4e440f35\",\"subtype\":\"Figure\",\"type\":\"Plot\"},\"ticker\":{\"id\":\"c2414251-32e1-4fe8-877d-bcfa0d189466\",\"type\":\"BasicTicker\"}},\"id\":\"930da1aa-0790-452c-88db-41caf997e534\",\"type\":\"Grid\"},{\"attributes\":{},\"id\":\"a442f15c-1a1b-4c5b-b528-a4d876600d16\",\"type\":\"ResetTool\"},{\"attributes\":{\"data_source\":{\"id\":\"fc196512-bf8f-44b0-8214-2326cecb1e3c\",\"type\":\"ColumnDataSource\"},\"glyph\":{\"id\":\"3fe11adb-4a99-4191-a48c-455375754268\",\"type\":\"Quad\"},\"hover_glyph\":null,\"muted_glyph\":null,\"nonselection_glyph\":{\"id\":\"1ec75c4a-88f2-46da-88e5-58ff7b5bcf66\",\"type\":\"Quad\"},\"selection_glyph\":null,\"view\":{\"id\":\"0862745f-6e8d-4bef-989e-63dc0e5a442c\",\"type\":\"CDSView\"}},\"id\":\"983f0a1a-b272-4041-9eee-7302f70154d6\",\"type\":\"GlyphRenderer\"},{\"attributes\":{},\"id\":\"f6ac4842-1a6c-49d7-807e-bfec9a4dc484\",\"type\":\"HelpTool\"},{\"attributes\":{\"dimension\":1,\"plot\":{\"id\":\"83b66f36-27de-4c13-ac7f-effa4e440f35\",\"subtype\":\"Figure\",\"type\":\"Plot\"},\"ticker\":{\"id\":\"ab07be3b-be03-4c2b-8e71-2535d66e3321\",\"type\":\"BasicTicker\"}},\"id\":\"dbd5daa5-b400-4df1-9ef7-25fa07dc343a\",\"type\":\"Grid\"},{\"attributes\":{\"overlay\":{\"id\":\"544bad68-a362-47bf-9f54-f7fdb74a9cd3\",\"type\":\"BoxAnnotation\"}},\"id\":\"8408e8d9-d7cf-4442-b0bb-f8e668fdbb32\",\"type\":\"BoxZoomTool\"},{\"attributes\":{},\"id\":\"44019cdc-d8cf-4ce4-ba40-169a23892c0b\",\"type\":\"LinearScale\"},{\"attributes\":{},\"id\":\"54f84eb4-854d-4e92-84c1-d60cc200b5d4\",\"type\":\"LinearScale\"},{\"attributes\":{},\"id\":\"106535b9-ec5d-4326-891f-9bd50a19f786\",\"type\":\"SaveTool\"},{\"attributes\":{},\"id\":\"ce9e8b2e-b2a8-43b1-85b0-34cb09e9342c\",\"type\":\"WheelZoomTool\"},{\"attributes\":{\"active_drag\":\"auto\",\"active_inspect\":\"auto\",\"active_multi\":null,\"active_scroll\":\"auto\",\"active_tap\":\"auto\",\"tools\":[{\"id\":\"466ac673-d3fc-4fe8-bac4-85eaf45be854\",\"type\":\"PanTool\"},{\"id\":\"ce9e8b2e-b2a8-43b1-85b0-34cb09e9342c\",\"type\":\"WheelZoomTool\"},{\"id\":\"8408e8d9-d7cf-4442-b0bb-f8e668fdbb32\",\"type\":\"BoxZoomTool\"},{\"id\":\"106535b9-ec5d-4326-891f-9bd50a19f786\",\"type\":\"SaveTool\"},{\"id\":\"a442f15c-1a1b-4c5b-b528-a4d876600d16\",\"type\":\"ResetTool\"},{\"id\":\"f6ac4842-1a6c-49d7-807e-bfec9a4dc484\",\"type\":\"HelpTool\"}]},\"id\":\"28e881a1-f786-4e94-a783-1b365fb27704\",\"type\":\"Toolbar\"},{\"attributes\":{},\"id\":\"c2414251-32e1-4fe8-877d-bcfa0d189466\",\"type\":\"BasicTicker\"},{\"attributes\":{\"callback\":null,\"data\":{\"left\":[0.0,0.99,1.98,2.9699999999999998,3.96,4.95,5.9399999999999995,6.93,7.92,8.91,9.9,10.89,11.879999999999999,12.87,13.86,14.85,15.84,16.83,17.82,18.81,19.8,20.79,21.78,22.77,23.759999999999998,24.75,25.74,26.73,27.72,28.71,29.7,30.69,31.68,32.67,33.66,34.65,35.64,36.63,37.62,38.61,39.6,40.589999999999996,41.58,42.57,43.56,44.55,45.54,46.53,47.519999999999996,48.51,49.5,50.49,51.48,52.47,53.46,54.45,55.44,56.43,57.42,58.41,59.4,60.39,61.38,62.37,63.36,64.35,65.34,66.33,67.32,68.31,69.3,70.29,71.28,72.27,73.26,74.25,75.24,76.23,77.22,78.21,79.2,80.19,81.17999999999999,82.17,83.16,84.15,85.14,86.13,87.12,88.11,89.1,90.09,91.08,92.07,93.06,94.05,95.03999999999999,96.03,97.02,98.01],\"right\":[0.99,1.98,2.9699999999999998,3.96,4.95,5.9399999999999995,6.93,7.92,8.91,9.9,10.89,11.879999999999999,12.87,13.86,14.85,15.84,16.83,17.82,18.81,19.8,20.79,21.78,22.77,23.759999999999998,24.75,25.74,26.73,27.72,28.71,29.7,30.69,31.68,32.67,33.66,34.65,35.64,36.63,37.62,38.61,39.6,40.589999999999996,41.58,42.57,43.56,44.55,45.54,46.53,47.519999999999996,48.51,49.5,50.49,51.48,52.47,53.46,54.45,55.44,56.43,57.42,58.41,59.4,60.39,61.38,62.37,63.36,64.35,65.34,66.33,67.32,68.31,69.3,70.29,71.28,72.27,73.26,74.25,75.24,76.23,77.22,78.21,79.2,80.19,81.17999999999999,82.17,83.16,84.15,85.14,86.13,87.12,88.11,89.1,90.09,91.08,92.07,93.06,94.05,95.03999999999999,96.03,97.02,98.01,99.0],\"top\":[2230,2178,4943,105062,2846,9068,153880,4074,14172,191996,5591,19747,217348,7567,24302,224056,9535,28147,216918,11715,30985,200383,13781,31460,174556,15334,29767,147785,14761,27233,120145,12054,21465,92994,6983,14890,69394,4898,12100,52921,5380,11060,40761,5978,10255,32215,6743,10003,25878,7623,10429,21858,8530,10447,18608,9073,10785,16628,9308,10081,14194,8565,9038,11234,6923,6797,8318,4793,4807,6083,3706,3859,5369,3530,3851,5354,3931,4332,5240,4492,4917,5470,5146,5460,5741,5624,5602,5990,5835,5920,6020,5579,5525,5446,5059,4847,4713,4152,4038,214768]},\"selected\":{\"id\":\"b2111532-30b1-402f-ae3f-34299757b0eb\",\"type\":\"Selection\"},\"selection_policy\":{\"id\":\"42b1dc37-e87b-4fa9-88e7-52725c0988b4\",\"type\":\"UnionRenderers\"}},\"id\":\"fc196512-bf8f-44b0-8214-2326cecb1e3c\",\"type\":\"ColumnDataSource\"},{\"attributes\":{},\"id\":\"ab07be3b-be03-4c2b-8e71-2535d66e3321\",\"type\":\"BasicTicker\"},{\"attributes\":{\"bottom\":{\"value\":0},\"fill_color\":{\"value\":\"#1f77b4\"},\"left\":{\"field\":\"left\"},\"right\":{\"field\":\"right\"},\"top\":{\"field\":\"top\"}},\"id\":\"3fe11adb-4a99-4191-a48c-455375754268\",\"type\":\"Quad\"},{\"attributes\":{\"bottom_units\":\"screen\",\"fill_alpha\":{\"value\":0.5},\"fill_color\":{\"value\":\"lightgrey\"},\"left_units\":\"screen\",\"level\":\"overlay\",\"line_alpha\":{\"value\":1.0},\"line_color\":{\"value\":\"black\"},\"line_dash\":[4,4],\"line_width\":{\"value\":2},\"plot\":null,\"render_mode\":\"css\",\"right_units\":\"screen\",\"top_units\":\"screen\"},\"id\":\"544bad68-a362-47bf-9f54-f7fdb74a9cd3\",\"type\":\"BoxAnnotation\"},{\"attributes\":{\"source\":{\"id\":\"fc196512-bf8f-44b0-8214-2326cecb1e3c\",\"type\":\"ColumnDataSource\"}},\"id\":\"0862745f-6e8d-4bef-989e-63dc0e5a442c\",\"type\":\"CDSView\"},{\"attributes\":{\"axis_label\":\"Frequency\",\"formatter\":{\"id\":\"83730c08-1fe7-439c-8cbe-5dd6a0121c9f\",\"type\":\"BasicTickFormatter\"},\"plot\":{\"id\":\"83b66f36-27de-4c13-ac7f-effa4e440f35\",\"subtype\":\"Figure\",\"type\":\"Plot\"},\"ticker\":{\"id\":\"ab07be3b-be03-4c2b-8e71-2535d66e3321\",\"type\":\"BasicTicker\"}},\"id\":\"fc52cba5-0a66-43c5-9736-3aedb5c1ac17\",\"type\":\"LinearAxis\"},{\"attributes\":{},\"id\":\"42b1dc37-e87b-4fa9-88e7-52725c0988b4\",\"type\":\"UnionRenderers\"},{\"attributes\":{},\"id\":\"466ac673-d3fc-4fe8-bac4-85eaf45be854\",\"type\":\"PanTool\"},{\"attributes\":{\"callback\":null,\"end\":103.95,\"start\":-4.95},\"id\":\"b6f105bf-3c26-4a69-8b6a-7fd72337c5de\",\"type\":\"Range1d\"},{\"attributes\":{\"background_fill_color\":{\"value\":\"#EEEEEE\"},\"below\":[{\"id\":\"8fea2ae5-a88b-4e08-903b-b8b603b2b7f0\",\"type\":\"LinearAxis\"}],\"left\":[{\"id\":\"fc52cba5-0a66-43c5-9736-3aedb5c1ac17\",\"type\":\"LinearAxis\"}],\"renderers\":[{\"id\":\"8fea2ae5-a88b-4e08-903b-b8b603b2b7f0\",\"type\":\"LinearAxis\"},{\"id\":\"930da1aa-0790-452c-88db-41caf997e534\",\"type\":\"Grid\"},{\"id\":\"fc52cba5-0a66-43c5-9736-3aedb5c1ac17\",\"type\":\"LinearAxis\"},{\"id\":\"dbd5daa5-b400-4df1-9ef7-25fa07dc343a\",\"type\":\"Grid\"},{\"id\":\"544bad68-a362-47bf-9f54-f7fdb74a9cd3\",\"type\":\"BoxAnnotation\"},{\"id\":\"983f0a1a-b272-4041-9eee-7302f70154d6\",\"type\":\"GlyphRenderer\"}],\"title\":null,\"toolbar\":{\"id\":\"28e881a1-f786-4e94-a783-1b365fb27704\",\"type\":\"Toolbar\"},\"x_range\":{\"id\":\"b6f105bf-3c26-4a69-8b6a-7fd72337c5de\",\"type\":\"Range1d\"},\"x_scale\":{\"id\":\"54f84eb4-854d-4e92-84c1-d60cc200b5d4\",\"type\":\"LinearScale\"},\"y_range\":{\"id\":\"cfbcc2fd-b6da-4463-be5b-5d15fd8da4f7\",\"type\":\"DataRange1d\"},\"y_scale\":{\"id\":\"44019cdc-d8cf-4ce4-ba40-169a23892c0b\",\"type\":\"LinearScale\"}},\"id\":\"83b66f36-27de-4c13-ac7f-effa4e440f35\",\"subtype\":\"Figure\",\"type\":\"Plot\"},{\"attributes\":{\"formatter\":{\"id\":\"26d5ceb8-66d9-42a1-820b-7b41d8c380c9\",\"type\":\"BasicTickFormatter\"},\"plot\":{\"id\":\"83b66f36-27de-4c13-ac7f-effa4e440f35\",\"subtype\":\"Figure\",\"type\":\"Plot\"},\"ticker\":{\"id\":\"c2414251-32e1-4fe8-877d-bcfa0d189466\",\"type\":\"BasicTicker\"}},\"id\":\"8fea2ae5-a88b-4e08-903b-b8b603b2b7f0\",\"type\":\"LinearAxis\"},{\"attributes\":{},\"id\":\"83730c08-1fe7-439c-8cbe-5dd6a0121c9f\",\"type\":\"BasicTickFormatter\"},{\"attributes\":{},\"id\":\"b2111532-30b1-402f-ae3f-34299757b0eb\",\"type\":\"Selection\"},{\"attributes\":{\"callback\":null},\"id\":\"cfbcc2fd-b6da-4463-be5b-5d15fd8da4f7\",\"type\":\"DataRange1d\"},{\"attributes\":{},\"id\":\"26d5ceb8-66d9-42a1-820b-7b41d8c380c9\",\"type\":\"BasicTickFormatter\"},{\"attributes\":{\"bottom\":{\"value\":0},\"fill_alpha\":{\"value\":0.1},\"fill_color\":{\"value\":\"#1f77b4\"},\"left\":{\"field\":\"left\"},\"line_alpha\":{\"value\":0.1},\"line_color\":{\"value\":\"#1f77b4\"},\"right\":{\"field\":\"right\"},\"top\":{\"field\":\"top\"}},\"id\":\"1ec75c4a-88f2-46da-88e5-58ff7b5bcf66\",\"type\":\"Quad\"}],\"root_ids\":[\"83b66f36-27de-4c13-ac7f-effa4e440f35\"]},\"title\":\"Bokeh Application\",\"version\":\"0.13.0\"}};\n",
       "  var render_items = [{\"docid\":\"050cf412-25df-46d4-bcb3-6d9aee90c55f\",\"roots\":{\"83b66f36-27de-4c13-ac7f-effa4e440f35\":\"6eb8f776-a672-4cb4-8922-97c76c68c913\"}}];\n",
       "  root.Bokeh.embed.embed_items_notebook(docs_json, render_items);\n",
       "\n",
       "  }\n",
       "  if (root.Bokeh !== undefined) {\n",
       "    embed_document(root);\n",
       "  } else {\n",
       "    var attempts = 0;\n",
       "    var timer = setInterval(function(root) {\n",
       "      if (root.Bokeh !== undefined) {\n",
       "        embed_document(root);\n",
       "        clearInterval(timer);\n",
       "      }\n",
       "      attempts++;\n",
       "      if (attempts > 100) {\n",
       "        console.log(\"Bokeh: ERROR: Unable to run BokehJS code because BokehJS library is missing\")\n",
       "        clearInterval(timer);\n",
       "      }\n",
       "    }, 10, root)\n",
       "  }\n",
       "})(window);"
      ],
      "application/vnd.bokehjs_exec.v0+json": ""
     },
     "metadata": {
      "application/vnd.bokehjs_exec.v0+json": {
       "id": "83b66f36-27de-4c13-ac7f-effa4e440f35"
      }
     },
     "output_type": "display_data"
    }
   ],
   "source": [
    "show(p)"
   ]
  },
  {
   "cell_type": "code",
   "execution_count": 25,
   "metadata": {},
   "outputs": [],
   "source": [
    "p=hl.plot.histogram(mt.filter_entries(mt.GT.is_hom_ref()).GQ, bins=100)"
   ]
  },
  {
   "cell_type": "code",
   "execution_count": 26,
   "metadata": {},
   "outputs": [
    {
     "data": {
      "text/html": [
       "\n",
       "\n",
       "\n",
       "\n",
       "\n",
       "\n",
       "  <div class=\"bk-root\" id=\"8bfa94f4-1165-4d61-b8d2-598dce641a19\"></div>\n"
      ]
     },
     "metadata": {},
     "output_type": "display_data"
    },
    {
     "data": {
      "application/javascript": [
       "(function(root) {\n",
       "  function embed_document(root) {\n",
       "    \n",
       "  var docs_json = {\"176f3bb2-7b28-429e-b956-5785c37f3d74\":{\"roots\":{\"references\":[{\"attributes\":{},\"id\":\"7da6091b-5f6c-433d-91c7-f304a063e3fb\",\"type\":\"UnionRenderers\"},{\"attributes\":{},\"id\":\"905fcf74-4b6e-47d6-9bc7-35e7aa29cd48\",\"type\":\"WheelZoomTool\"},{\"attributes\":{\"overlay\":{\"id\":\"99dd6c28-f5a4-4136-8695-9bbc043151a8\",\"type\":\"BoxAnnotation\"}},\"id\":\"7dce0e19-dca1-47da-8136-bf0e43bc53af\",\"type\":\"BoxZoomTool\"},{\"attributes\":{},\"id\":\"19926d5d-6a24-4ffb-82d7-ad8436320323\",\"type\":\"PanTool\"},{\"attributes\":{},\"id\":\"e473a43e-43dc-42f9-a452-a94855f80afa\",\"type\":\"Selection\"},{\"attributes\":{},\"id\":\"50bd3a8a-e240-4073-b557-60bbae76c9c2\",\"type\":\"BasicTicker\"},{\"attributes\":{\"source\":{\"id\":\"6bf6eb4f-06ec-4b84-9a5e-83ec1e61fb8e\",\"type\":\"ColumnDataSource\"}},\"id\":\"24961c7b-a62c-4995-9ad5-f4585fc9a573\",\"type\":\"CDSView\"},{\"attributes\":{\"axis_label\":\"Frequency\",\"formatter\":{\"id\":\"79c333c3-bccc-4595-bbe3-13e922863c4e\",\"type\":\"BasicTickFormatter\"},\"plot\":{\"id\":\"f489199c-5d7c-4e8d-aa1a-a3196f3db739\",\"subtype\":\"Figure\",\"type\":\"Plot\"},\"ticker\":{\"id\":\"a18aa9ca-02cb-4f07-a93f-b4d24756a2a4\",\"type\":\"BasicTicker\"}},\"id\":\"5e53d688-011f-4219-8d8f-b0b0e2af24d9\",\"type\":\"LinearAxis\"},{\"attributes\":{},\"id\":\"7de916cd-e550-478d-9f42-57f6cd2ac7f3\",\"type\":\"LinearScale\"},{\"attributes\":{\"bottom_units\":\"screen\",\"fill_alpha\":{\"value\":0.5},\"fill_color\":{\"value\":\"lightgrey\"},\"left_units\":\"screen\",\"level\":\"overlay\",\"line_alpha\":{\"value\":1.0},\"line_color\":{\"value\":\"black\"},\"line_dash\":[4,4],\"line_width\":{\"value\":2},\"plot\":null,\"render_mode\":\"css\",\"right_units\":\"screen\",\"top_units\":\"screen\"},\"id\":\"99dd6c28-f5a4-4136-8695-9bbc043151a8\",\"type\":\"BoxAnnotation\"},{\"attributes\":{\"dimension\":1,\"plot\":{\"id\":\"f489199c-5d7c-4e8d-aa1a-a3196f3db739\",\"subtype\":\"Figure\",\"type\":\"Plot\"},\"ticker\":{\"id\":\"a18aa9ca-02cb-4f07-a93f-b4d24756a2a4\",\"type\":\"BasicTicker\"}},\"id\":\"b243e0c5-10a8-4c22-b15d-24fc1bc3ce13\",\"type\":\"Grid\"},{\"attributes\":{\"callback\":null,\"data\":{\"left\":[0.0,0.99,1.98,2.9699999999999998,3.96,4.95,5.9399999999999995,6.93,7.92,8.91,9.9,10.89,11.879999999999999,12.87,13.86,14.85,15.84,16.83,17.82,18.81,19.8,20.79,21.78,22.77,23.759999999999998,24.75,25.74,26.73,27.72,28.71,29.7,30.69,31.68,32.67,33.66,34.65,35.64,36.63,37.62,38.61,39.6,40.589999999999996,41.58,42.57,43.56,44.55,45.54,46.53,47.519999999999996,48.51,49.5,50.49,51.48,52.47,53.46,54.45,55.44,56.43,57.42,58.41,59.4,60.39,61.38,62.37,63.36,64.35,65.34,66.33,67.32,68.31,69.3,70.29,71.28,72.27,73.26,74.25,75.24,76.23,77.22,78.21,79.2,80.19,81.17999999999999,82.17,83.16,84.15,85.14,86.13,87.12,88.11,89.1,90.09,91.08,92.07,93.06,94.05,95.03999999999999,96.03,97.02,98.01],\"right\":[0.99,1.98,2.9699999999999998,3.96,4.95,5.9399999999999995,6.93,7.92,8.91,9.9,10.89,11.879999999999999,12.87,13.86,14.85,15.84,16.83,17.82,18.81,19.8,20.79,21.78,22.77,23.759999999999998,24.75,25.74,26.73,27.72,28.71,29.7,30.69,31.68,32.67,33.66,34.65,35.64,36.63,37.62,38.61,39.6,40.589999999999996,41.58,42.57,43.56,44.55,45.54,46.53,47.519999999999996,48.51,49.5,50.49,51.48,52.47,53.46,54.45,55.44,56.43,57.42,58.41,59.4,60.39,61.38,62.37,63.36,64.35,65.34,66.33,67.32,68.31,69.3,70.29,71.28,72.27,73.26,74.25,75.24,76.23,77.22,78.21,79.2,80.19,81.17999999999999,82.17,83.16,84.15,85.14,86.13,87.12,88.11,89.1,90.09,91.08,92.07,93.06,94.05,95.03999999999999,96.03,97.02,98.01,99.0],\"top\":[1288,746,2555,72254,1145,5538,109386,1754,9019,139202,2422,12443,159131,2950,14949,163880,3458,16586,158317,3690,17059,145062,3707,16280,124138,3545,14980,103419,3281,13414,83444,2911,11311,65875,2603,9475,50481,2139,7503,38120,1873,6107,28434,1447,4665,20891,1161,3627,15193,979,2797,11231,815,2178,7963,617,1679,5966,469,1212,4398,392,1012,3165,320,765,2302,256,594,1708,199,466,1220,144,334,907,128,266,644,86,231,484,67,160,363,79,84,269,41,88,193,36,64,152,33,46,101,22,37,572]},\"selected\":{\"id\":\"e473a43e-43dc-42f9-a452-a94855f80afa\",\"type\":\"Selection\"},\"selection_policy\":{\"id\":\"7da6091b-5f6c-433d-91c7-f304a063e3fb\",\"type\":\"UnionRenderers\"}},\"id\":\"6bf6eb4f-06ec-4b84-9a5e-83ec1e61fb8e\",\"type\":\"ColumnDataSource\"},{\"attributes\":{},\"id\":\"e6f5b28b-a7c0-4a9f-9d39-6486324e0a44\",\"type\":\"ResetTool\"},{\"attributes\":{},\"id\":\"c2101a31-caa2-43f3-83b4-07ed499148c7\",\"type\":\"HelpTool\"},{\"attributes\":{\"bottom\":{\"value\":0},\"fill_alpha\":{\"value\":0.1},\"fill_color\":{\"value\":\"#1f77b4\"},\"left\":{\"field\":\"left\"},\"line_alpha\":{\"value\":0.1},\"line_color\":{\"value\":\"#1f77b4\"},\"right\":{\"field\":\"right\"},\"top\":{\"field\":\"top\"}},\"id\":\"56c6c4d7-8109-40cf-ae06-652b15871f06\",\"type\":\"Quad\"},{\"attributes\":{\"background_fill_color\":{\"value\":\"#EEEEEE\"},\"below\":[{\"id\":\"e786fd2a-66af-437b-841e-5d08300af617\",\"type\":\"LinearAxis\"}],\"left\":[{\"id\":\"5e53d688-011f-4219-8d8f-b0b0e2af24d9\",\"type\":\"LinearAxis\"}],\"renderers\":[{\"id\":\"e786fd2a-66af-437b-841e-5d08300af617\",\"type\":\"LinearAxis\"},{\"id\":\"714ddb0a-826a-4608-ae5d-c9e7cbca6dd8\",\"type\":\"Grid\"},{\"id\":\"5e53d688-011f-4219-8d8f-b0b0e2af24d9\",\"type\":\"LinearAxis\"},{\"id\":\"b243e0c5-10a8-4c22-b15d-24fc1bc3ce13\",\"type\":\"Grid\"},{\"id\":\"99dd6c28-f5a4-4136-8695-9bbc043151a8\",\"type\":\"BoxAnnotation\"},{\"id\":\"29889ff5-c11e-4d09-816b-843ff6809a5f\",\"type\":\"GlyphRenderer\"}],\"title\":null,\"toolbar\":{\"id\":\"8bedc858-a245-4327-858a-d7322ac4c6f0\",\"type\":\"Toolbar\"},\"x_range\":{\"id\":\"e7218bb2-d42a-4bdc-aa8b-0cf3379de03d\",\"type\":\"Range1d\"},\"x_scale\":{\"id\":\"7de916cd-e550-478d-9f42-57f6cd2ac7f3\",\"type\":\"LinearScale\"},\"y_range\":{\"id\":\"49687047-c96b-4e1e-a336-64054a1290f4\",\"type\":\"DataRange1d\"},\"y_scale\":{\"id\":\"c4d4a5de-555e-4977-a536-539d7e23cea6\",\"type\":\"LinearScale\"}},\"id\":\"f489199c-5d7c-4e8d-aa1a-a3196f3db739\",\"subtype\":\"Figure\",\"type\":\"Plot\"},{\"attributes\":{},\"id\":\"0951b2c9-8639-4f12-bbb2-442c0bc1be01\",\"type\":\"SaveTool\"},{\"attributes\":{},\"id\":\"79c333c3-bccc-4595-bbe3-13e922863c4e\",\"type\":\"BasicTickFormatter\"},{\"attributes\":{},\"id\":\"c4d4a5de-555e-4977-a536-539d7e23cea6\",\"type\":\"LinearScale\"},{\"attributes\":{\"formatter\":{\"id\":\"7ddc8e32-8bc4-41b9-a389-e20851c107ab\",\"type\":\"BasicTickFormatter\"},\"plot\":{\"id\":\"f489199c-5d7c-4e8d-aa1a-a3196f3db739\",\"subtype\":\"Figure\",\"type\":\"Plot\"},\"ticker\":{\"id\":\"50bd3a8a-e240-4073-b557-60bbae76c9c2\",\"type\":\"BasicTicker\"}},\"id\":\"e786fd2a-66af-437b-841e-5d08300af617\",\"type\":\"LinearAxis\"},{\"attributes\":{\"bottom\":{\"value\":0},\"fill_color\":{\"value\":\"#1f77b4\"},\"left\":{\"field\":\"left\"},\"right\":{\"field\":\"right\"},\"top\":{\"field\":\"top\"}},\"id\":\"1895ff06-69e7-4f71-b7f3-3f4584a96a79\",\"type\":\"Quad\"},{\"attributes\":{\"callback\":null,\"end\":103.95,\"start\":-4.95},\"id\":\"e7218bb2-d42a-4bdc-aa8b-0cf3379de03d\",\"type\":\"Range1d\"},{\"attributes\":{\"data_source\":{\"id\":\"6bf6eb4f-06ec-4b84-9a5e-83ec1e61fb8e\",\"type\":\"ColumnDataSource\"},\"glyph\":{\"id\":\"1895ff06-69e7-4f71-b7f3-3f4584a96a79\",\"type\":\"Quad\"},\"hover_glyph\":null,\"muted_glyph\":null,\"nonselection_glyph\":{\"id\":\"56c6c4d7-8109-40cf-ae06-652b15871f06\",\"type\":\"Quad\"},\"selection_glyph\":null,\"view\":{\"id\":\"24961c7b-a62c-4995-9ad5-f4585fc9a573\",\"type\":\"CDSView\"}},\"id\":\"29889ff5-c11e-4d09-816b-843ff6809a5f\",\"type\":\"GlyphRenderer\"},{\"attributes\":{\"plot\":{\"id\":\"f489199c-5d7c-4e8d-aa1a-a3196f3db739\",\"subtype\":\"Figure\",\"type\":\"Plot\"},\"ticker\":{\"id\":\"50bd3a8a-e240-4073-b557-60bbae76c9c2\",\"type\":\"BasicTicker\"}},\"id\":\"714ddb0a-826a-4608-ae5d-c9e7cbca6dd8\",\"type\":\"Grid\"},{\"attributes\":{\"active_drag\":\"auto\",\"active_inspect\":\"auto\",\"active_multi\":null,\"active_scroll\":\"auto\",\"active_tap\":\"auto\",\"tools\":[{\"id\":\"19926d5d-6a24-4ffb-82d7-ad8436320323\",\"type\":\"PanTool\"},{\"id\":\"905fcf74-4b6e-47d6-9bc7-35e7aa29cd48\",\"type\":\"WheelZoomTool\"},{\"id\":\"7dce0e19-dca1-47da-8136-bf0e43bc53af\",\"type\":\"BoxZoomTool\"},{\"id\":\"0951b2c9-8639-4f12-bbb2-442c0bc1be01\",\"type\":\"SaveTool\"},{\"id\":\"e6f5b28b-a7c0-4a9f-9d39-6486324e0a44\",\"type\":\"ResetTool\"},{\"id\":\"c2101a31-caa2-43f3-83b4-07ed499148c7\",\"type\":\"HelpTool\"}]},\"id\":\"8bedc858-a245-4327-858a-d7322ac4c6f0\",\"type\":\"Toolbar\"},{\"attributes\":{},\"id\":\"7ddc8e32-8bc4-41b9-a389-e20851c107ab\",\"type\":\"BasicTickFormatter\"},{\"attributes\":{},\"id\":\"a18aa9ca-02cb-4f07-a93f-b4d24756a2a4\",\"type\":\"BasicTicker\"},{\"attributes\":{\"callback\":null},\"id\":\"49687047-c96b-4e1e-a336-64054a1290f4\",\"type\":\"DataRange1d\"}],\"root_ids\":[\"f489199c-5d7c-4e8d-aa1a-a3196f3db739\"]},\"title\":\"Bokeh Application\",\"version\":\"0.13.0\"}};\n",
       "  var render_items = [{\"docid\":\"176f3bb2-7b28-429e-b956-5785c37f3d74\",\"roots\":{\"f489199c-5d7c-4e8d-aa1a-a3196f3db739\":\"8bfa94f4-1165-4d61-b8d2-598dce641a19\"}}];\n",
       "  root.Bokeh.embed.embed_items_notebook(docs_json, render_items);\n",
       "\n",
       "  }\n",
       "  if (root.Bokeh !== undefined) {\n",
       "    embed_document(root);\n",
       "  } else {\n",
       "    var attempts = 0;\n",
       "    var timer = setInterval(function(root) {\n",
       "      if (root.Bokeh !== undefined) {\n",
       "        embed_document(root);\n",
       "        clearInterval(timer);\n",
       "      }\n",
       "      attempts++;\n",
       "      if (attempts > 100) {\n",
       "        console.log(\"Bokeh: ERROR: Unable to run BokehJS code because BokehJS library is missing\")\n",
       "        clearInterval(timer);\n",
       "      }\n",
       "    }, 10, root)\n",
       "  }\n",
       "})(window);"
      ],
      "application/vnd.bokehjs_exec.v0+json": ""
     },
     "metadata": {
      "application/vnd.bokehjs_exec.v0+json": {
       "id": "f489199c-5d7c-4e8d-aa1a-a3196f3db739"
      }
     },
     "output_type": "display_data"
    }
   ],
   "source": [
    "show(p)"
   ]
  },
  {
   "cell_type": "code",
   "execution_count": 27,
   "metadata": {},
   "outputs": [
    {
     "data": {
      "text/html": [
       "\n",
       "\n",
       "\n",
       "\n",
       "\n",
       "\n",
       "  <div class=\"bk-root\" id=\"611b3cd2-9df8-424a-a8c0-1a4654fda0e0\"></div>\n"
      ]
     },
     "metadata": {},
     "output_type": "display_data"
    },
    {
     "data": {
      "application/javascript": [
       "(function(root) {\n",
       "  function embed_document(root) {\n",
       "    \n",
       "  var docs_json = {\"699dccaf-44a8-400c-adb8-272155b4a117\":{\"roots\":{\"references\":[{\"attributes\":{\"dimension\":1,\"plot\":{\"id\":\"7627e6ec-dacb-469f-ac94-64103e1acb4a\",\"subtype\":\"Figure\",\"type\":\"Plot\"},\"ticker\":{\"id\":\"d3b4ed84-d6e9-49dc-b910-c3eabdae2db9\",\"type\":\"BasicTicker\"}},\"id\":\"72cd675d-bd53-4d45-bdf5-d7daf5216300\",\"type\":\"Grid\"},{\"attributes\":{},\"id\":\"cf3ff407-e57a-403b-a68e-743e7b00e0ae\",\"type\":\"UnionRenderers\"},{\"attributes\":{},\"id\":\"bd51b50e-5adf-42ab-a16e-cf08b5d3934c\",\"type\":\"Selection\"},{\"attributes\":{},\"id\":\"188538ec-bd5d-4b5e-b48b-b1304ade44ff\",\"type\":\"LinearScale\"},{\"attributes\":{},\"id\":\"4a7ae9d4-a274-4ad1-aeb0-557a56eba586\",\"type\":\"HelpTool\"},{\"attributes\":{\"active_drag\":\"auto\",\"active_inspect\":\"auto\",\"active_multi\":null,\"active_scroll\":\"auto\",\"active_tap\":\"auto\",\"tools\":[{\"id\":\"30e13939-1080-49cc-a2fe-3b72a7ac2a6d\",\"type\":\"PanTool\"},{\"id\":\"ecaaf403-b698-441c-9a04-ee8fa54f68cb\",\"type\":\"WheelZoomTool\"},{\"id\":\"66e9319d-f168-4682-8c26-335421e79abe\",\"type\":\"BoxZoomTool\"},{\"id\":\"e206df5d-23bb-42e6-b0b8-406f25a2e62c\",\"type\":\"SaveTool\"},{\"id\":\"41863a17-9892-47b4-9668-7983eff3a444\",\"type\":\"ResetTool\"},{\"id\":\"4a7ae9d4-a274-4ad1-aeb0-557a56eba586\",\"type\":\"HelpTool\"}]},\"id\":\"061f59fc-71dc-4968-85d3-c3714c43cc42\",\"type\":\"Toolbar\"},{\"attributes\":{\"bottom\":{\"value\":0},\"fill_color\":{\"value\":\"#1f77b4\"},\"left\":{\"field\":\"left\"},\"right\":{\"field\":\"right\"},\"top\":{\"field\":\"top\"}},\"id\":\"96da16ae-dd28-4266-8a76-5ff639a26de2\",\"type\":\"Quad\"},{\"attributes\":{\"source\":{\"id\":\"a26ab3da-9771-4475-b81e-e4209c5b54c7\",\"type\":\"ColumnDataSource\"}},\"id\":\"81bf75b8-409c-45d5-9c73-0cfa133bca94\",\"type\":\"CDSView\"},{\"attributes\":{\"bottom_units\":\"screen\",\"fill_alpha\":{\"value\":0.5},\"fill_color\":{\"value\":\"lightgrey\"},\"left_units\":\"screen\",\"level\":\"overlay\",\"line_alpha\":{\"value\":1.0},\"line_color\":{\"value\":\"black\"},\"line_dash\":[4,4],\"line_width\":{\"value\":2},\"plot\":null,\"render_mode\":\"css\",\"right_units\":\"screen\",\"top_units\":\"screen\"},\"id\":\"05534c21-4696-413c-bb9e-1a9868685765\",\"type\":\"BoxAnnotation\"},{\"attributes\":{},\"id\":\"41863a17-9892-47b4-9668-7983eff3a444\",\"type\":\"ResetTool\"},{\"attributes\":{},\"id\":\"e3385532-e644-4893-a343-eed631f909ee\",\"type\":\"BasicTickFormatter\"},{\"attributes\":{\"data_source\":{\"id\":\"a26ab3da-9771-4475-b81e-e4209c5b54c7\",\"type\":\"ColumnDataSource\"},\"glyph\":{\"id\":\"96da16ae-dd28-4266-8a76-5ff639a26de2\",\"type\":\"Quad\"},\"hover_glyph\":null,\"muted_glyph\":null,\"nonselection_glyph\":{\"id\":\"549758d6-3177-4f74-bfe8-d587a7ba6a26\",\"type\":\"Quad\"},\"selection_glyph\":null,\"view\":{\"id\":\"81bf75b8-409c-45d5-9c73-0cfa133bca94\",\"type\":\"CDSView\"}},\"id\":\"4bc66bb8-ea4b-409d-80d6-6fa264910e36\",\"type\":\"GlyphRenderer\"},{\"attributes\":{},\"id\":\"d3b4ed84-d6e9-49dc-b910-c3eabdae2db9\",\"type\":\"BasicTicker\"},{\"attributes\":{\"callback\":null,\"end\":103.95,\"start\":-4.95},\"id\":\"3ce60f3a-e551-4918-8adf-e899691a6dc6\",\"type\":\"Range1d\"},{\"attributes\":{},\"id\":\"0d38ed69-9f47-464c-9763-67d92f512e0a\",\"type\":\"BasicTickFormatter\"},{\"attributes\":{\"callback\":null,\"data\":{\"left\":[0.0,0.99,1.98,2.9699999999999998,3.96,4.95,5.9399999999999995,6.93,7.92,8.91,9.9,10.89,11.879999999999999,12.87,13.86,14.85,15.84,16.83,17.82,18.81,19.8,20.79,21.78,22.77,23.759999999999998,24.75,25.74,26.73,27.72,28.71,29.7,30.69,31.68,32.67,33.66,34.65,35.64,36.63,37.62,38.61,39.6,40.589999999999996,41.58,42.57,43.56,44.55,45.54,46.53,47.519999999999996,48.51,49.5,50.49,51.48,52.47,53.46,54.45,55.44,56.43,57.42,58.41,59.4,60.39,61.38,62.37,63.36,64.35,65.34,66.33,67.32,68.31,69.3,70.29,71.28,72.27,73.26,74.25,75.24,76.23,77.22,78.21,79.2,80.19,81.17999999999999,82.17,83.16,84.15,85.14,86.13,87.12,88.11,89.1,90.09,91.08,92.07,93.06,94.05,95.03999999999999,96.03,97.02,98.01],\"right\":[0.99,1.98,2.9699999999999998,3.96,4.95,5.9399999999999995,6.93,7.92,8.91,9.9,10.89,11.879999999999999,12.87,13.86,14.85,15.84,16.83,17.82,18.81,19.8,20.79,21.78,22.77,23.759999999999998,24.75,25.74,26.73,27.72,28.71,29.7,30.69,31.68,32.67,33.66,34.65,35.64,36.63,37.62,38.61,39.6,40.589999999999996,41.58,42.57,43.56,44.55,45.54,46.53,47.519999999999996,48.51,49.5,50.49,51.48,52.47,53.46,54.45,55.44,56.43,57.42,58.41,59.4,60.39,61.38,62.37,63.36,64.35,65.34,66.33,67.32,68.31,69.3,70.29,71.28,72.27,73.26,74.25,75.24,76.23,77.22,78.21,79.2,80.19,81.17999999999999,82.17,83.16,84.15,85.14,86.13,87.12,88.11,89.1,90.09,91.08,92.07,93.06,94.05,95.03999999999999,96.03,97.02,98.01,99.0],\"top\":[942,856,990,1033,1099,1356,1452,1598,2022,2169,2369,3340,3133,3664,4720,4635,5180,6697,6466,7077,8902,8463,9147,10579,10272,10901,10492,11087,10771,10067,9930,8441,6982,6078,3811,2813,3047,2280,2485,2926,3110,3275,3507,4217,4324,4787,5321,5411,5844,6421,6835,7196,7563,7702,8112,8344,8637,8773,8718,8500,8363,8074,7769,7107,6537,5805,5272,4482,4053,3815,3458,3298,3745,3357,3415,4148,3777,3975,4389,4383,4606,4830,5055,5254,5262,5538,5480,5645,5781,5814,5758,5535,5441,5252,5022,4788,4579,4119,3990,214035]},\"selected\":{\"id\":\"bd51b50e-5adf-42ab-a16e-cf08b5d3934c\",\"type\":\"Selection\"},\"selection_policy\":{\"id\":\"cf3ff407-e57a-403b-a68e-743e7b00e0ae\",\"type\":\"UnionRenderers\"}},\"id\":\"a26ab3da-9771-4475-b81e-e4209c5b54c7\",\"type\":\"ColumnDataSource\"},{\"attributes\":{\"overlay\":{\"id\":\"05534c21-4696-413c-bb9e-1a9868685765\",\"type\":\"BoxAnnotation\"}},\"id\":\"66e9319d-f168-4682-8c26-335421e79abe\",\"type\":\"BoxZoomTool\"},{\"attributes\":{},\"id\":\"30e13939-1080-49cc-a2fe-3b72a7ac2a6d\",\"type\":\"PanTool\"},{\"attributes\":{\"bottom\":{\"value\":0},\"fill_alpha\":{\"value\":0.1},\"fill_color\":{\"value\":\"#1f77b4\"},\"left\":{\"field\":\"left\"},\"line_alpha\":{\"value\":0.1},\"line_color\":{\"value\":\"#1f77b4\"},\"right\":{\"field\":\"right\"},\"top\":{\"field\":\"top\"}},\"id\":\"549758d6-3177-4f74-bfe8-d587a7ba6a26\",\"type\":\"Quad\"},{\"attributes\":{\"background_fill_color\":{\"value\":\"#EEEEEE\"},\"below\":[{\"id\":\"8462f47a-331c-4d2a-b66a-89def4364c05\",\"type\":\"LinearAxis\"}],\"left\":[{\"id\":\"06bd15e1-efc7-47c9-9894-182c5ce1597e\",\"type\":\"LinearAxis\"}],\"renderers\":[{\"id\":\"8462f47a-331c-4d2a-b66a-89def4364c05\",\"type\":\"LinearAxis\"},{\"id\":\"8f1fd945-43b9-4b6d-8882-d072ce8ad95f\",\"type\":\"Grid\"},{\"id\":\"06bd15e1-efc7-47c9-9894-182c5ce1597e\",\"type\":\"LinearAxis\"},{\"id\":\"72cd675d-bd53-4d45-bdf5-d7daf5216300\",\"type\":\"Grid\"},{\"id\":\"05534c21-4696-413c-bb9e-1a9868685765\",\"type\":\"BoxAnnotation\"},{\"id\":\"4bc66bb8-ea4b-409d-80d6-6fa264910e36\",\"type\":\"GlyphRenderer\"}],\"title\":null,\"toolbar\":{\"id\":\"061f59fc-71dc-4968-85d3-c3714c43cc42\",\"type\":\"Toolbar\"},\"x_range\":{\"id\":\"3ce60f3a-e551-4918-8adf-e899691a6dc6\",\"type\":\"Range1d\"},\"x_scale\":{\"id\":\"188538ec-bd5d-4b5e-b48b-b1304ade44ff\",\"type\":\"LinearScale\"},\"y_range\":{\"id\":\"779005bd-5dab-49a7-8432-98fe1fb14864\",\"type\":\"DataRange1d\"},\"y_scale\":{\"id\":\"1f7a8892-16e2-4f4e-b424-1dc954d6b020\",\"type\":\"LinearScale\"}},\"id\":\"7627e6ec-dacb-469f-ac94-64103e1acb4a\",\"subtype\":\"Figure\",\"type\":\"Plot\"},{\"attributes\":{},\"id\":\"d00f45d7-281c-425b-939c-af72fc44682f\",\"type\":\"BasicTicker\"},{\"attributes\":{},\"id\":\"e206df5d-23bb-42e6-b0b8-406f25a2e62c\",\"type\":\"SaveTool\"},{\"attributes\":{\"axis_label\":\"Frequency\",\"formatter\":{\"id\":\"0d38ed69-9f47-464c-9763-67d92f512e0a\",\"type\":\"BasicTickFormatter\"},\"plot\":{\"id\":\"7627e6ec-dacb-469f-ac94-64103e1acb4a\",\"subtype\":\"Figure\",\"type\":\"Plot\"},\"ticker\":{\"id\":\"d3b4ed84-d6e9-49dc-b910-c3eabdae2db9\",\"type\":\"BasicTicker\"}},\"id\":\"06bd15e1-efc7-47c9-9894-182c5ce1597e\",\"type\":\"LinearAxis\"},{\"attributes\":{\"formatter\":{\"id\":\"e3385532-e644-4893-a343-eed631f909ee\",\"type\":\"BasicTickFormatter\"},\"plot\":{\"id\":\"7627e6ec-dacb-469f-ac94-64103e1acb4a\",\"subtype\":\"Figure\",\"type\":\"Plot\"},\"ticker\":{\"id\":\"d00f45d7-281c-425b-939c-af72fc44682f\",\"type\":\"BasicTicker\"}},\"id\":\"8462f47a-331c-4d2a-b66a-89def4364c05\",\"type\":\"LinearAxis\"},{\"attributes\":{},\"id\":\"1f7a8892-16e2-4f4e-b424-1dc954d6b020\",\"type\":\"LinearScale\"},{\"attributes\":{\"plot\":{\"id\":\"7627e6ec-dacb-469f-ac94-64103e1acb4a\",\"subtype\":\"Figure\",\"type\":\"Plot\"},\"ticker\":{\"id\":\"d00f45d7-281c-425b-939c-af72fc44682f\",\"type\":\"BasicTicker\"}},\"id\":\"8f1fd945-43b9-4b6d-8882-d072ce8ad95f\",\"type\":\"Grid\"},{\"attributes\":{\"callback\":null},\"id\":\"779005bd-5dab-49a7-8432-98fe1fb14864\",\"type\":\"DataRange1d\"},{\"attributes\":{},\"id\":\"ecaaf403-b698-441c-9a04-ee8fa54f68cb\",\"type\":\"WheelZoomTool\"}],\"root_ids\":[\"7627e6ec-dacb-469f-ac94-64103e1acb4a\"]},\"title\":\"Bokeh Application\",\"version\":\"0.13.0\"}};\n",
       "  var render_items = [{\"docid\":\"699dccaf-44a8-400c-adb8-272155b4a117\",\"roots\":{\"7627e6ec-dacb-469f-ac94-64103e1acb4a\":\"611b3cd2-9df8-424a-a8c0-1a4654fda0e0\"}}];\n",
       "  root.Bokeh.embed.embed_items_notebook(docs_json, render_items);\n",
       "\n",
       "  }\n",
       "  if (root.Bokeh !== undefined) {\n",
       "    embed_document(root);\n",
       "  } else {\n",
       "    var attempts = 0;\n",
       "    var timer = setInterval(function(root) {\n",
       "      if (root.Bokeh !== undefined) {\n",
       "        embed_document(root);\n",
       "        clearInterval(timer);\n",
       "      }\n",
       "      attempts++;\n",
       "      if (attempts > 100) {\n",
       "        console.log(\"Bokeh: ERROR: Unable to run BokehJS code because BokehJS library is missing\")\n",
       "        clearInterval(timer);\n",
       "      }\n",
       "    }, 10, root)\n",
       "  }\n",
       "})(window);"
      ],
      "application/vnd.bokehjs_exec.v0+json": ""
     },
     "metadata": {
      "application/vnd.bokehjs_exec.v0+json": {
       "id": "7627e6ec-dacb-469f-ac94-64103e1acb4a"
      }
     },
     "output_type": "display_data"
    }
   ],
   "source": [
    "p=hl.plot.histogram(\n",
    "    mt.filter_entries(mt.GT.is_het_ref()).GQ, \n",
    "    bins=100)\n",
    "show(p)"
   ]
  },
  {
   "cell_type": "code",
   "execution_count": 28,
   "metadata": {},
   "outputs": [
    {
     "data": {
      "text/html": [
       "\n",
       "\n",
       "\n",
       "\n",
       "\n",
       "\n",
       "  <div class=\"bk-root\" id=\"e7a61c18-9d82-490e-9dfc-f75b7eb381e1\"></div>\n"
      ]
     },
     "metadata": {},
     "output_type": "display_data"
    },
    {
     "data": {
      "application/javascript": [
       "(function(root) {\n",
       "  function embed_document(root) {\n",
       "    \n",
       "  var docs_json = {\"d0624bf6-0514-45bc-baa2-579ccd0a7170\":{\"roots\":{\"references\":[{\"attributes\":{},\"id\":\"f81418cd-972f-49c7-a9fa-7319ec1bf9b8\",\"type\":\"BasicTickFormatter\"},{\"attributes\":{},\"id\":\"3d58be49-ef36-400b-b9d2-41b5d784abcf\",\"type\":\"BasicTicker\"},{\"attributes\":{},\"id\":\"97fa2818-857c-47a3-8969-29c8bc17820b\",\"type\":\"Selection\"},{\"attributes\":{},\"id\":\"008dd6fc-fc32-4963-bc5f-dfcb2fe320d4\",\"type\":\"BasicTicker\"},{\"attributes\":{},\"id\":\"67d31986-2db8-49c0-837a-0519a6ab51dc\",\"type\":\"HelpTool\"},{\"attributes\":{},\"id\":\"ef6225f3-d1fc-4bfb-889c-021776471bd7\",\"type\":\"BasicTickFormatter\"},{\"attributes\":{},\"id\":\"7c399017-1b03-47e3-9f0f-a0cb4b1c6689\",\"type\":\"UnionRenderers\"},{\"attributes\":{\"axis_label\":\"Frequency\",\"formatter\":{\"id\":\"f81418cd-972f-49c7-a9fa-7319ec1bf9b8\",\"type\":\"BasicTickFormatter\"},\"plot\":{\"id\":\"f2804c94-51a8-4cd1-9a70-7f680639804c\",\"subtype\":\"Figure\",\"type\":\"Plot\"},\"ticker\":{\"id\":\"3d58be49-ef36-400b-b9d2-41b5d784abcf\",\"type\":\"BasicTicker\"}},\"id\":\"ac520f02-b35f-49db-b8d2-3791655c7da1\",\"type\":\"LinearAxis\"},{\"attributes\":{\"active_drag\":\"auto\",\"active_inspect\":\"auto\",\"active_multi\":null,\"active_scroll\":\"auto\",\"active_tap\":\"auto\",\"tools\":[{\"id\":\"5150de94-3179-4000-8d4f-e970b20c669c\",\"type\":\"PanTool\"},{\"id\":\"7b077565-e1d6-47e4-869e-498b7f41a3d4\",\"type\":\"WheelZoomTool\"},{\"id\":\"bb0ebd4b-d285-4596-a05e-e3d6d1203ed7\",\"type\":\"BoxZoomTool\"},{\"id\":\"911b11e7-d3af-49e3-ba50-53c4551d3069\",\"type\":\"SaveTool\"},{\"id\":\"9f892052-ead9-4a20-87ce-9eac5b95efcc\",\"type\":\"ResetTool\"},{\"id\":\"67d31986-2db8-49c0-837a-0519a6ab51dc\",\"type\":\"HelpTool\"}]},\"id\":\"f9d2e530-fdf1-45d7-b519-a1b8e4b6b98b\",\"type\":\"Toolbar\"},{\"attributes\":{},\"id\":\"7b077565-e1d6-47e4-869e-498b7f41a3d4\",\"type\":\"WheelZoomTool\"},{\"attributes\":{\"plot\":{\"id\":\"f2804c94-51a8-4cd1-9a70-7f680639804c\",\"subtype\":\"Figure\",\"type\":\"Plot\"},\"ticker\":{\"id\":\"008dd6fc-fc32-4963-bc5f-dfcb2fe320d4\",\"type\":\"BasicTicker\"}},\"id\":\"f5096ebf-05d6-4fcc-a2d3-5c5922fdee96\",\"type\":\"Grid\"},{\"attributes\":{\"background_fill_color\":{\"value\":\"#EEEEEE\"},\"below\":[{\"id\":\"b22a74b3-dc12-4328-bb3d-5191ad037192\",\"type\":\"LinearAxis\"}],\"left\":[{\"id\":\"ac520f02-b35f-49db-b8d2-3791655c7da1\",\"type\":\"LinearAxis\"}],\"renderers\":[{\"id\":\"b22a74b3-dc12-4328-bb3d-5191ad037192\",\"type\":\"LinearAxis\"},{\"id\":\"f5096ebf-05d6-4fcc-a2d3-5c5922fdee96\",\"type\":\"Grid\"},{\"id\":\"ac520f02-b35f-49db-b8d2-3791655c7da1\",\"type\":\"LinearAxis\"},{\"id\":\"d311f4c9-b9d9-4c49-add8-17b933359479\",\"type\":\"Grid\"},{\"id\":\"f0d00848-84a0-4be3-b77b-5712aae4d8c9\",\"type\":\"BoxAnnotation\"},{\"id\":\"c65dcffd-4e6b-425a-9e65-2160c9f5b117\",\"type\":\"GlyphRenderer\"}],\"title\":null,\"toolbar\":{\"id\":\"f9d2e530-fdf1-45d7-b519-a1b8e4b6b98b\",\"type\":\"Toolbar\"},\"x_range\":{\"id\":\"8b28d3fd-24a7-4c6a-9853-2213ea585139\",\"type\":\"Range1d\"},\"x_scale\":{\"id\":\"ba90484e-ccd4-4662-b41f-9177611f7a5f\",\"type\":\"LinearScale\"},\"y_range\":{\"id\":\"a6316562-e8ba-4733-8310-4869c0000238\",\"type\":\"DataRange1d\"},\"y_scale\":{\"id\":\"006440cc-bcc0-465f-bb19-07838afa3424\",\"type\":\"LinearScale\"}},\"id\":\"f2804c94-51a8-4cd1-9a70-7f680639804c\",\"subtype\":\"Figure\",\"type\":\"Plot\"},{\"attributes\":{\"bottom\":{\"value\":0},\"fill_alpha\":{\"value\":0.1},\"fill_color\":{\"value\":\"#1f77b4\"},\"left\":{\"field\":\"left\"},\"line_alpha\":{\"value\":0.1},\"line_color\":{\"value\":\"#1f77b4\"},\"right\":{\"field\":\"right\"},\"top\":{\"field\":\"top\"}},\"id\":\"45fec4fb-c3bc-4677-bfc7-b16ccfdfe32b\",\"type\":\"Quad\"},{\"attributes\":{\"callback\":null,\"end\":103.95,\"start\":-4.95},\"id\":\"8b28d3fd-24a7-4c6a-9853-2213ea585139\",\"type\":\"Range1d\"},{\"attributes\":{\"callback\":null},\"id\":\"a6316562-e8ba-4733-8310-4869c0000238\",\"type\":\"DataRange1d\"},{\"attributes\":{\"data_source\":{\"id\":\"c7e1ee55-194f-4882-b0d5-a8ff55d5c3d6\",\"type\":\"ColumnDataSource\"},\"glyph\":{\"id\":\"8d2cb967-6901-493b-a686-a0ab04470ed4\",\"type\":\"Quad\"},\"hover_glyph\":null,\"muted_glyph\":null,\"nonselection_glyph\":{\"id\":\"45fec4fb-c3bc-4677-bfc7-b16ccfdfe32b\",\"type\":\"Quad\"},\"selection_glyph\":null,\"view\":{\"id\":\"b6034a98-b10c-4505-84e6-57f2f169d1bf\",\"type\":\"CDSView\"}},\"id\":\"c65dcffd-4e6b-425a-9e65-2160c9f5b117\",\"type\":\"GlyphRenderer\"},{\"attributes\":{\"callback\":null,\"data\":{\"left\":[0.0,0.99,1.98,2.9699999999999998,3.96,4.95,5.9399999999999995,6.93,7.92,8.91,9.9,10.89,11.879999999999999,12.87,13.86,14.85,15.84,16.83,17.82,18.81,19.8,20.79,21.78,22.77,23.759999999999998,24.75,25.74,26.73,27.72,28.71,29.7,30.69,31.68,32.67,33.66,34.65,35.64,36.63,37.62,38.61,39.6,40.589999999999996,41.58,42.57,43.56,44.55,45.54,46.53,47.519999999999996,48.51,49.5,50.49,51.48,52.47,53.46,54.45,55.44,56.43,57.42,58.41,59.4,60.39,61.38,62.37,63.36,64.35,65.34,66.33,67.32,68.31,69.3,70.29,71.28,72.27,73.26,74.25,75.24,76.23,77.22,78.21,79.2,80.19,81.17999999999999,82.17,83.16,84.15,85.14,86.13,87.12,88.11,89.1,90.09,91.08,92.07,93.06,94.05,95.03999999999999,96.03,97.02,98.01],\"right\":[0.99,1.98,2.9699999999999998,3.96,4.95,5.9399999999999995,6.93,7.92,8.91,9.9,10.89,11.879999999999999,12.87,13.86,14.85,15.84,16.83,17.82,18.81,19.8,20.79,21.78,22.77,23.759999999999998,24.75,25.74,26.73,27.72,28.71,29.7,30.69,31.68,32.67,33.66,34.65,35.64,36.63,37.62,38.61,39.6,40.589999999999996,41.58,42.57,43.56,44.55,45.54,46.53,47.519999999999996,48.51,49.5,50.49,51.48,52.47,53.46,54.45,55.44,56.43,57.42,58.41,59.4,60.39,61.38,62.37,63.36,64.35,65.34,66.33,67.32,68.31,69.3,70.29,71.28,72.27,73.26,74.25,75.24,76.23,77.22,78.21,79.2,80.19,81.17999999999999,82.17,83.16,84.15,85.14,86.13,87.12,88.11,89.1,90.09,91.08,92.07,93.06,94.05,95.03999999999999,96.03,97.02,98.01,99.0],\"top\":[31,64,88,87,99,124,129,171,158,180,135,141,87,42,31,33,34,27,13,24,24,24,25,27,33,38,34,54,63,64,74,103,105,98,148,119,160,148,161,212,196,211,239,255,268,264,283,281,277,262,209,174,183,153,160,115,124,94,120,118,149,143,162,151,169,211,218,207,214,256,263,299,328,317,375,386,412,390,432,506,476,500,495,536,480,522,494,504,463,449,456,399,376,396,325,318,298,302,311,28714]},\"selected\":{\"id\":\"97fa2818-857c-47a3-8969-29c8bc17820b\",\"type\":\"Selection\"},\"selection_policy\":{\"id\":\"7c399017-1b03-47e3-9f0f-a0cb4b1c6689\",\"type\":\"UnionRenderers\"}},\"id\":\"c7e1ee55-194f-4882-b0d5-a8ff55d5c3d6\",\"type\":\"ColumnDataSource\"},{\"attributes\":{\"source\":{\"id\":\"c7e1ee55-194f-4882-b0d5-a8ff55d5c3d6\",\"type\":\"ColumnDataSource\"}},\"id\":\"b6034a98-b10c-4505-84e6-57f2f169d1bf\",\"type\":\"CDSView\"},{\"attributes\":{\"formatter\":{\"id\":\"ef6225f3-d1fc-4bfb-889c-021776471bd7\",\"type\":\"BasicTickFormatter\"},\"plot\":{\"id\":\"f2804c94-51a8-4cd1-9a70-7f680639804c\",\"subtype\":\"Figure\",\"type\":\"Plot\"},\"ticker\":{\"id\":\"008dd6fc-fc32-4963-bc5f-dfcb2fe320d4\",\"type\":\"BasicTicker\"}},\"id\":\"b22a74b3-dc12-4328-bb3d-5191ad037192\",\"type\":\"LinearAxis\"},{\"attributes\":{},\"id\":\"006440cc-bcc0-465f-bb19-07838afa3424\",\"type\":\"LinearScale\"},{\"attributes\":{},\"id\":\"ba90484e-ccd4-4662-b41f-9177611f7a5f\",\"type\":\"LinearScale\"},{\"attributes\":{\"bottom_units\":\"screen\",\"fill_alpha\":{\"value\":0.5},\"fill_color\":{\"value\":\"lightgrey\"},\"left_units\":\"screen\",\"level\":\"overlay\",\"line_alpha\":{\"value\":1.0},\"line_color\":{\"value\":\"black\"},\"line_dash\":[4,4],\"line_width\":{\"value\":2},\"plot\":null,\"render_mode\":\"css\",\"right_units\":\"screen\",\"top_units\":\"screen\"},\"id\":\"f0d00848-84a0-4be3-b77b-5712aae4d8c9\",\"type\":\"BoxAnnotation\"},{\"attributes\":{},\"id\":\"9f892052-ead9-4a20-87ce-9eac5b95efcc\",\"type\":\"ResetTool\"},{\"attributes\":{},\"id\":\"911b11e7-d3af-49e3-ba50-53c4551d3069\",\"type\":\"SaveTool\"},{\"attributes\":{\"overlay\":{\"id\":\"f0d00848-84a0-4be3-b77b-5712aae4d8c9\",\"type\":\"BoxAnnotation\"}},\"id\":\"bb0ebd4b-d285-4596-a05e-e3d6d1203ed7\",\"type\":\"BoxZoomTool\"},{\"attributes\":{},\"id\":\"5150de94-3179-4000-8d4f-e970b20c669c\",\"type\":\"PanTool\"},{\"attributes\":{\"bottom\":{\"value\":0},\"fill_color\":{\"value\":\"#1f77b4\"},\"left\":{\"field\":\"left\"},\"right\":{\"field\":\"right\"},\"top\":{\"field\":\"top\"}},\"id\":\"8d2cb967-6901-493b-a686-a0ab04470ed4\",\"type\":\"Quad\"},{\"attributes\":{\"dimension\":1,\"plot\":{\"id\":\"f2804c94-51a8-4cd1-9a70-7f680639804c\",\"subtype\":\"Figure\",\"type\":\"Plot\"},\"ticker\":{\"id\":\"3d58be49-ef36-400b-b9d2-41b5d784abcf\",\"type\":\"BasicTicker\"}},\"id\":\"d311f4c9-b9d9-4c49-add8-17b933359479\",\"type\":\"Grid\"}],\"root_ids\":[\"f2804c94-51a8-4cd1-9a70-7f680639804c\"]},\"title\":\"Bokeh Application\",\"version\":\"0.13.0\"}};\n",
       "  var render_items = [{\"docid\":\"d0624bf6-0514-45bc-baa2-579ccd0a7170\",\"roots\":{\"f2804c94-51a8-4cd1-9a70-7f680639804c\":\"e7a61c18-9d82-490e-9dfc-f75b7eb381e1\"}}];\n",
       "  root.Bokeh.embed.embed_items_notebook(docs_json, render_items);\n",
       "\n",
       "  }\n",
       "  if (root.Bokeh !== undefined) {\n",
       "    embed_document(root);\n",
       "  } else {\n",
       "    var attempts = 0;\n",
       "    var timer = setInterval(function(root) {\n",
       "      if (root.Bokeh !== undefined) {\n",
       "        embed_document(root);\n",
       "        clearInterval(timer);\n",
       "      }\n",
       "      attempts++;\n",
       "      if (attempts > 100) {\n",
       "        console.log(\"Bokeh: ERROR: Unable to run BokehJS code because BokehJS library is missing\")\n",
       "        clearInterval(timer);\n",
       "      }\n",
       "    }, 10, root)\n",
       "  }\n",
       "})(window);"
      ],
      "application/vnd.bokehjs_exec.v0+json": ""
     },
     "metadata": {
      "application/vnd.bokehjs_exec.v0+json": {
       "id": "f2804c94-51a8-4cd1-9a70-7f680639804c"
      }
     },
     "output_type": "display_data"
    }
   ],
   "source": [
    "p=hl.plot.histogram(\n",
    "    mt.filter_entries((mt.DP == 10 ) & mt.GT.is_het_ref()).GQ, \n",
    "    bins=100)\n",
    "show(p)"
   ]
  },
  {
   "cell_type": "markdown",
   "metadata": {},
   "source": [
    "# **Module 3**\n",
    "\n",
    "## Annotation, PCA and variant discovery"
   ]
  },
  {
   "cell_type": "markdown",
   "metadata": {},
   "source": [
    "Annotations are important in any genetic study. Column fields are where you will store information about sample like phenotypes, ancestry, sex, and covariates.  Let's annotate the columns in our MatrixTable. "
   ]
  },
  {
   "cell_type": "code",
   "execution_count": 29,
   "metadata": {},
   "outputs": [
    {
     "name": "stderr",
     "output_type": "stream",
     "text": [
      "2019-06-12 14:45:44 Hail: INFO: Reading table to impute column types\n",
      "2019-06-12 14:45:44 Hail: INFO: Finished type imputation\n",
      "  Loading column 'Sample' as type 'str' (imputed)\n",
      "  Loading column 'Population' as type 'str' (imputed)\n",
      "  Loading column 'SuperPopulation' as type 'str' (imputed)\n",
      "  Loading column 'isFemale' as type 'bool' (imputed)\n",
      "  Loading column 'PurpleHair' as type 'bool' (imputed)\n",
      "  Loading column 'CaffeineConsumption' as type 'int32' (imputed)\n"
     ]
    }
   ],
   "source": [
    "table = hl.import_table('data/1kg_annotations.txt',\n",
    "                       impute=True,\n",
    "                       key='Sample')"
   ]
  },
  {
   "cell_type": "code",
   "execution_count": 30,
   "metadata": {},
   "outputs": [
    {
     "name": "stdout",
     "output_type": "stream",
     "text": [
      "----------------------------------------\n",
      "Global fields:\n",
      "    None\n",
      "----------------------------------------\n",
      "Row fields:\n",
      "    'Sample': str \n",
      "    'Population': str \n",
      "    'SuperPopulation': str \n",
      "    'isFemale': bool \n",
      "    'PurpleHair': bool \n",
      "    'CaffeineConsumption': int32 \n",
      "----------------------------------------\n",
      "Key: ['Sample']\n",
      "----------------------------------------\n"
     ]
    }
   ],
   "source": [
    "table.describe()"
   ]
  },
  {
   "cell_type": "markdown",
   "metadata": {},
   "source": [
    "To peek at the first few values, use the `show` method:"
   ]
  },
  {
   "cell_type": "code",
   "execution_count": 31,
   "metadata": {},
   "outputs": [
    {
     "data": {
      "text/html": [
       "<table><thead style=\"font-weight: bold;\"><tr><td>Sample</td><td>Population</td><td>SuperPopulation</td><td>isFemale</td><td>PurpleHair</td><td>CaffeineConsumption</td></tr>\n",
       "<tr><td>str</td><td>str</td><td>str</td><td>bool</td><td>bool</td><td>int32</td></tr>\n",
       "</thead><tbody><tr><td>&quot;HG00096&quot;</td><td>&quot;GBR&quot;</td><td>&quot;EUR&quot;</td><td>false</td><td>false</td><td>4</td></tr>\n",
       "<tr><td>&quot;HG00097&quot;</td><td>&quot;GBR&quot;</td><td>&quot;EUR&quot;</td><td>true</td><td>true</td><td>4</td></tr>\n",
       "<tr><td>&quot;HG00098&quot;</td><td>&quot;GBR&quot;</td><td>&quot;EUR&quot;</td><td>false</td><td>false</td><td>5</td></tr>\n",
       "<tr><td>&quot;HG00099&quot;</td><td>&quot;GBR&quot;</td><td>&quot;EUR&quot;</td><td>true</td><td>false</td><td>4</td></tr>\n",
       "<tr><td>&quot;HG00100&quot;</td><td>&quot;GBR&quot;</td><td>&quot;EUR&quot;</td><td>true</td><td>false</td><td>5</td></tr>\n",
       "<tr><td>&quot;HG00101&quot;</td><td>&quot;GBR&quot;</td><td>&quot;EUR&quot;</td><td>false</td><td>true</td><td>1</td></tr>\n",
       "<tr><td>&quot;HG00102&quot;</td><td>&quot;GBR&quot;</td><td>&quot;EUR&quot;</td><td>true</td><td>true</td><td>6</td></tr>\n",
       "<tr><td>&quot;HG00103&quot;</td><td>&quot;GBR&quot;</td><td>&quot;EUR&quot;</td><td>false</td><td>true</td><td>5</td></tr>\n",
       "<tr><td>&quot;HG00104&quot;</td><td>&quot;GBR&quot;</td><td>&quot;EUR&quot;</td><td>true</td><td>false</td><td>5</td></tr>\n",
       "<tr><td>&quot;HG00105&quot;</td><td>&quot;GBR&quot;</td><td>&quot;EUR&quot;</td><td>false</td><td>false</td><td>4</td></tr>\n",
       "</tbody></table><p>showing top 10 rows</p>\n"
      ],
      "text/plain": [
       "+-----------+------------+-----------------+----------+------------+\n",
       "| Sample    | Population | SuperPopulation | isFemale | PurpleHair |\n",
       "+-----------+------------+-----------------+----------+------------+\n",
       "| str       | str        | str             |     bool |       bool |\n",
       "+-----------+------------+-----------------+----------+------------+\n",
       "| \"HG00096\" | \"GBR\"      | \"EUR\"           |    false |      false |\n",
       "| \"HG00097\" | \"GBR\"      | \"EUR\"           |     true |       true |\n",
       "| \"HG00098\" | \"GBR\"      | \"EUR\"           |    false |      false |\n",
       "| \"HG00099\" | \"GBR\"      | \"EUR\"           |     true |      false |\n",
       "| \"HG00100\" | \"GBR\"      | \"EUR\"           |     true |      false |\n",
       "| \"HG00101\" | \"GBR\"      | \"EUR\"           |    false |       true |\n",
       "| \"HG00102\" | \"GBR\"      | \"EUR\"           |     true |       true |\n",
       "| \"HG00103\" | \"GBR\"      | \"EUR\"           |    false |       true |\n",
       "| \"HG00104\" | \"GBR\"      | \"EUR\"           |     true |      false |\n",
       "| \"HG00105\" | \"GBR\"      | \"EUR\"           |    false |      false |\n",
       "+-----------+------------+-----------------+----------+------------+\n",
       "\n",
       "+---------------------+\n",
       "| CaffeineConsumption |\n",
       "+---------------------+\n",
       "|               int32 |\n",
       "+---------------------+\n",
       "|                   4 |\n",
       "|                   4 |\n",
       "|                   5 |\n",
       "|                   4 |\n",
       "|                   5 |\n",
       "|                   1 |\n",
       "|                   6 |\n",
       "|                   5 |\n",
       "|                   5 |\n",
       "|                   4 |\n",
       "+---------------------+\n",
       "showing top 10 rows"
      ]
     },
     "metadata": {},
     "output_type": "display_data"
    }
   ],
   "source": [
    "# Show the first 10 rows of the table\n",
    "table.show(10)"
   ]
  },
  {
   "cell_type": "markdown",
   "metadata": {},
   "source": [
    "Notice that the show command only works this way in tables. In matrix tables it is necessary to specify which of the 3 tables we want to show: rows, columns or entries: \n",
    "\n",
    "`table.show()` --> Table\n",
    "\n",
    "`mt.row.alles.show()` --> Matrix Table"
   ]
  },
  {
   "cell_type": "code",
   "execution_count": 32,
   "metadata": {},
   "outputs": [
    {
     "ename": "SyntaxError",
     "evalue": "invalid syntax (<ipython-input-32-86b4469edb27>, line 3)",
     "output_type": "error",
     "traceback": [
      "\u001b[0;36m  File \u001b[0;32m\"<ipython-input-32-86b4469edb27>\"\u001b[0;36m, line \u001b[0;32m3\u001b[0m\n\u001b[0;31m    head data/1kg_annotations.txt\u001b[0m\n\u001b[0m            ^\u001b[0m\n\u001b[0;31mSyntaxError\u001b[0m\u001b[0;31m:\u001b[0m invalid syntax\n"
     ]
    }
   ],
   "source": [
    "# This is not common not recommended, but one can preview local data using the shell command sh\n",
    "%%sh\n",
    "head data/1kg_annotations.txt"
   ]
  },
  {
   "cell_type": "code",
   "execution_count": 33,
   "metadata": {},
   "outputs": [
    {
     "name": "stdout",
     "output_type": "stream",
     "text": [
      "----------------------------------------\n",
      "Global fields:\n",
      "    None\n",
      "----------------------------------------\n",
      "Column fields:\n",
      "    's': str\n",
      "----------------------------------------\n",
      "Row fields:\n",
      "    'locus': locus<GRCh37>\n",
      "    'alleles': array<str>\n",
      "    'rsid': str\n",
      "    'qual': float64\n",
      "    'filters': set<str>\n",
      "    'info': struct {\n",
      "        AC: array<int32>, \n",
      "        AF: array<float64>, \n",
      "        AN: int32, \n",
      "        BaseQRankSum: float64, \n",
      "        ClippingRankSum: float64, \n",
      "        DP: int32, \n",
      "        DS: bool, \n",
      "        FS: float64, \n",
      "        HaplotypeScore: float64, \n",
      "        InbreedingCoeff: float64, \n",
      "        MLEAC: array<int32>, \n",
      "        MLEAF: array<float64>, \n",
      "        MQ: float64, \n",
      "        MQ0: int32, \n",
      "        MQRankSum: float64, \n",
      "        QD: float64, \n",
      "        ReadPosRankSum: float64, \n",
      "        set: str\n",
      "    }\n",
      "----------------------------------------\n",
      "Entry fields:\n",
      "    'GT': call\n",
      "    'AD': array<int32>\n",
      "    'DP': int32\n",
      "    'GQ': int32\n",
      "    'PL': array<int32>\n",
      "----------------------------------------\n",
      "Column key: ['s']\n",
      "Row key: ['locus', 'alleles']\n",
      "----------------------------------------\n"
     ]
    }
   ],
   "source": [
    "mt.describe()"
   ]
  },
  {
   "cell_type": "markdown",
   "metadata": {},
   "source": [
    "We use the `annotate_cols` method to join the table with the MatrixTable containing our dataset."
   ]
  },
  {
   "cell_type": "code",
   "execution_count": 45,
   "metadata": {},
   "outputs": [],
   "source": [
    "mt = mt.annotate_cols(pheno=table[mt.s])"
   ]
  },
  {
   "cell_type": "code",
   "execution_count": 46,
   "metadata": {},
   "outputs": [
    {
     "name": "stdout",
     "output_type": "stream",
     "text": [
      "----------------------------------------\n",
      "Global fields:\n",
      "    None\n",
      "----------------------------------------\n",
      "Column fields:\n",
      "    's': str\n",
      "    'pheno': struct {\n",
      "        Population: str, \n",
      "        SuperPopulation: str, \n",
      "        isFemale: bool, \n",
      "        PurpleHair: bool, \n",
      "        CaffeineConsumption: int32\n",
      "    }\n",
      "    'sample_qc': struct {\n",
      "        dp_stats: struct {\n",
      "            mean: float64, \n",
      "            stdev: float64, \n",
      "            min: float64, \n",
      "            max: float64\n",
      "        }, \n",
      "        gq_stats: struct {\n",
      "            mean: float64, \n",
      "            stdev: float64, \n",
      "            min: float64, \n",
      "            max: float64\n",
      "        }, \n",
      "        call_rate: float64, \n",
      "        n_called: int64, \n",
      "        n_not_called: int64, \n",
      "        n_filtered: int64, \n",
      "        n_hom_ref: int64, \n",
      "        n_het: int64, \n",
      "        n_hom_var: int64, \n",
      "        n_non_ref: int64, \n",
      "        n_singleton: int64, \n",
      "        n_snp: int64, \n",
      "        n_insertion: int64, \n",
      "        n_deletion: int64, \n",
      "        n_transition: int64, \n",
      "        n_transversion: int64, \n",
      "        n_star: int64, \n",
      "        r_ti_tv: float64, \n",
      "        r_het_hom_var: float64, \n",
      "        r_insertion_deletion: float64\n",
      "    }\n",
      "----------------------------------------\n",
      "Row fields:\n",
      "    'locus': locus<GRCh37>\n",
      "    'alleles': array<str>\n",
      "    'rsid': str\n",
      "    'qual': float64\n",
      "    'filters': set<str>\n",
      "    'info': struct {\n",
      "        AC: array<int32>, \n",
      "        AF: array<float64>, \n",
      "        AN: int32, \n",
      "        BaseQRankSum: float64, \n",
      "        ClippingRankSum: float64, \n",
      "        DP: int32, \n",
      "        DS: bool, \n",
      "        FS: float64, \n",
      "        HaplotypeScore: float64, \n",
      "        InbreedingCoeff: float64, \n",
      "        MLEAC: array<int32>, \n",
      "        MLEAF: array<float64>, \n",
      "        MQ: float64, \n",
      "        MQ0: int32, \n",
      "        MQRankSum: float64, \n",
      "        QD: float64, \n",
      "        ReadPosRankSum: float64, \n",
      "        set: str\n",
      "    }\n",
      "----------------------------------------\n",
      "Entry fields:\n",
      "    'GT': call\n",
      "    'AD': array<int32>\n",
      "    'DP': int32\n",
      "    'GQ': int32\n",
      "    'PL': array<int32>\n",
      "----------------------------------------\n",
      "Column key: ['s']\n",
      "Row key: ['locus', 'alleles']\n",
      "----------------------------------------\n"
     ]
    }
   ],
   "source": [
    "mt.describe()"
   ]
  },
  {
   "cell_type": "code",
   "execution_count": 47,
   "metadata": {},
   "outputs": [
    {
     "name": "stdout",
     "output_type": "stream",
     "text": [
      "+-----------+------------------+-----------------------+----------------+\n",
      "| s         | pheno.Population | pheno.SuperPopulation | pheno.isFemale |\n",
      "+-----------+------------------+-----------------------+----------------+\n",
      "| str       | str              | str                   |           bool |\n",
      "+-----------+------------------+-----------------------+----------------+\n",
      "| \"HG00096\" | \"GBR\"            | \"EUR\"                 |          false |\n",
      "| \"HG00099\" | \"GBR\"            | \"EUR\"                 |           true |\n",
      "| \"HG00105\" | \"GBR\"            | \"EUR\"                 |          false |\n",
      "| \"HG00118\" | \"GBR\"            | \"EUR\"                 |           true |\n",
      "| \"HG00129\" | \"GBR\"            | \"EUR\"                 |          false |\n",
      "| \"HG00148\" | \"GBR\"            | \"EUR\"                 |          false |\n",
      "| \"HG00254\" | \"GBR\"            | \"EUR\"                 |           true |\n",
      "| \"HG00271\" | \"FIN\"            | \"EUR\"                 |          false |\n",
      "| \"HG00332\" | \"FIN\"            | \"EUR\"                 |           true |\n",
      "| \"HG00335\" | \"FIN\"            | \"EUR\"                 |          false |\n",
      "+-----------+------------------+-----------------------+----------------+\n",
      "\n",
      "+------------------+---------------------------+\n",
      "| pheno.PurpleHair | pheno.CaffeineConsumption |\n",
      "+------------------+---------------------------+\n",
      "|             bool |                     int32 |\n",
      "+------------------+---------------------------+\n",
      "|            false |                         4 |\n",
      "|            false |                         4 |\n",
      "|            false |                         4 |\n",
      "|            false |                         3 |\n",
      "|            false |                         6 |\n",
      "|             true |                         2 |\n",
      "|            false |                         2 |\n",
      "|            false |                         5 |\n",
      "|             true |                         5 |\n",
      "|             true |                         4 |\n",
      "+------------------+---------------------------+\n",
      "showing top 10 rows\n",
      "\n"
     ]
    }
   ],
   "source": [
    "mt.col.pheno.show()"
   ]
  },
  {
   "cell_type": "markdown",
   "metadata": {},
   "source": [
    "The `aggregate` method can be used to aggregate over rows of the table.\n",
    "`counter` is an aggregation function that counts the number of occurrences of each unique element. "
   ]
  },
  {
   "cell_type": "code",
   "execution_count": 48,
   "metadata": {},
   "outputs": [
    {
     "name": "stdout",
     "output_type": "stream",
     "text": [
      "{'AFR': 64, 'AMR': 32, 'EAS': 61, 'EUR': 39, 'SAS': 54}\n"
     ]
    },
    {
     "name": "stderr",
     "output_type": "stream",
     "text": [
      "2019-06-12 14:48:23 Hail: INFO: Coerced sorted dataset\n"
     ]
    }
   ],
   "source": [
    "pprint(mt.aggregate_cols(hl.agg.counter(mt.pheno.SuperPopulation)))"
   ]
  },
  {
   "cell_type": "code",
   "execution_count": 38,
   "metadata": {},
   "outputs": [
    {
     "name": "stderr",
     "output_type": "stream",
     "text": [
      "2019-06-12 14:46:18 Hail: INFO: Coerced sorted dataset\n"
     ]
    },
    {
     "data": {
      "text/plain": [
       "0"
      ]
     },
     "execution_count": 38,
     "metadata": {},
     "output_type": "execute_result"
    }
   ],
   "source": [
    "mt.aggregate_cols(hl.agg.count_where(hl.is_missing(mt.pheno)))"
   ]
  },
  {
   "cell_type": "code",
   "execution_count": 39,
   "metadata": {},
   "outputs": [],
   "source": [
    "mt = hl.sample_qc(mt)"
   ]
  },
  {
   "cell_type": "code",
   "execution_count": 40,
   "metadata": {},
   "outputs": [
    {
     "name": "stdout",
     "output_type": "stream",
     "text": [
      "----------------------------------------\n",
      "Global fields:\n",
      "    None\n",
      "----------------------------------------\n",
      "Column fields:\n",
      "    's': str\n",
      "    'pheno': struct {\n",
      "        Population: str, \n",
      "        SuperPopulation: str, \n",
      "        isFemale: bool, \n",
      "        PurpleHair: bool, \n",
      "        CaffeineConsumption: int32\n",
      "    }\n",
      "    'sample_qc': struct {\n",
      "        dp_stats: struct {\n",
      "            mean: float64, \n",
      "            stdev: float64, \n",
      "            min: float64, \n",
      "            max: float64\n",
      "        }, \n",
      "        gq_stats: struct {\n",
      "            mean: float64, \n",
      "            stdev: float64, \n",
      "            min: float64, \n",
      "            max: float64\n",
      "        }, \n",
      "        call_rate: float64, \n",
      "        n_called: int64, \n",
      "        n_not_called: int64, \n",
      "        n_filtered: int64, \n",
      "        n_hom_ref: int64, \n",
      "        n_het: int64, \n",
      "        n_hom_var: int64, \n",
      "        n_non_ref: int64, \n",
      "        n_singleton: int64, \n",
      "        n_snp: int64, \n",
      "        n_insertion: int64, \n",
      "        n_deletion: int64, \n",
      "        n_transition: int64, \n",
      "        n_transversion: int64, \n",
      "        n_star: int64, \n",
      "        r_ti_tv: float64, \n",
      "        r_het_hom_var: float64, \n",
      "        r_insertion_deletion: float64\n",
      "    }\n",
      "----------------------------------------\n",
      "Row fields:\n",
      "    'locus': locus<GRCh37>\n",
      "    'alleles': array<str>\n",
      "    'rsid': str\n",
      "    'qual': float64\n",
      "    'filters': set<str>\n",
      "    'info': struct {\n",
      "        AC: array<int32>, \n",
      "        AF: array<float64>, \n",
      "        AN: int32, \n",
      "        BaseQRankSum: float64, \n",
      "        ClippingRankSum: float64, \n",
      "        DP: int32, \n",
      "        DS: bool, \n",
      "        FS: float64, \n",
      "        HaplotypeScore: float64, \n",
      "        InbreedingCoeff: float64, \n",
      "        MLEAC: array<int32>, \n",
      "        MLEAF: array<float64>, \n",
      "        MQ: float64, \n",
      "        MQ0: int32, \n",
      "        MQRankSum: float64, \n",
      "        QD: float64, \n",
      "        ReadPosRankSum: float64, \n",
      "        set: str\n",
      "    }\n",
      "----------------------------------------\n",
      "Entry fields:\n",
      "    'GT': call\n",
      "    'AD': array<int32>\n",
      "    'DP': int32\n",
      "    'GQ': int32\n",
      "    'PL': array<int32>\n",
      "----------------------------------------\n",
      "Column key: ['s']\n",
      "Row key: ['locus', 'alleles']\n",
      "----------------------------------------\n"
     ]
    }
   ],
   "source": [
    "mt.describe()"
   ]
  },
  {
   "cell_type": "markdown",
   "metadata": {},
   "source": [
    "`stats` is an aggregation function that produces some useful statistics about numeric collections. "
   ]
  },
  {
   "cell_type": "code",
   "execution_count": 49,
   "metadata": {},
   "outputs": [],
   "source": [
    "mt = mt.filter_cols(mt.sample_qc.dp_stats.mean >= 4)\n",
    "mt = mt.filter_cols(mt.sample_qc.call_rate > 0.97)"
   ]
  },
  {
   "cell_type": "code",
   "execution_count": 50,
   "metadata": {},
   "outputs": [
    {
     "data": {
      "text/plain": [
       "250"
      ]
     },
     "execution_count": 50,
     "metadata": {},
     "output_type": "execute_result"
    }
   ],
   "source": [
    "mt.count_cols()"
   ]
  },
  {
   "cell_type": "code",
   "execution_count": 51,
   "metadata": {},
   "outputs": [
    {
     "data": {
      "text/plain": [
       "0.9924605419213576"
      ]
     },
     "execution_count": 51,
     "metadata": {},
     "output_type": "execute_result"
    }
   ],
   "source": [
    "mt.aggregate_entries(hl.agg.fraction(hl.is_defined(mt.GT)))"
   ]
  },
  {
   "cell_type": "code",
   "execution_count": 52,
   "metadata": {},
   "outputs": [],
   "source": [
    "ab = mt.AD[1] / hl.sum(mt.AD)\n",
    "\n",
    "filter_condition_ab = ((mt.GT.is_hom_ref() & (ab <= 0.1)) | \n",
    "                       (mt.GT.is_het() & (ab >= 0.25) & (ab<=0.75)) | \n",
    "                        (mt.GT.is_hom_var() & (ab >= 0.9)))\n",
    "                       \n",
    "mt = mt.filter_entries(filter_condition_ab)"
   ]
  },
  {
   "cell_type": "code",
   "execution_count": 53,
   "metadata": {},
   "outputs": [],
   "source": [
    "mt = hl.variant_qc(mt)"
   ]
  },
  {
   "cell_type": "code",
   "execution_count": 54,
   "metadata": {},
   "outputs": [],
   "source": [
    "mt = mt.filter_rows(hl.min(mt.variant_qc.AF)>0.01)"
   ]
  },
  {
   "cell_type": "code",
   "execution_count": 55,
   "metadata": {},
   "outputs": [],
   "source": [
    "mt = mt.filter_rows(mt.variant_qc.p_value_hwe > 1e-6)"
   ]
  },
  {
   "cell_type": "code",
   "execution_count": 56,
   "metadata": {},
   "outputs": [
    {
     "data": {
      "text/plain": [
       "(7837, 250)"
      ]
     },
     "execution_count": 56,
     "metadata": {},
     "output_type": "execute_result"
    }
   ],
   "source": [
    "mt.count()"
   ]
  },
  {
   "cell_type": "markdown",
   "metadata": {},
   "source": [
    "### PCA"
   ]
  },
  {
   "cell_type": "markdown",
   "metadata": {},
   "source": [
    "The `pca` method produces eigenvalues as a list and sample PCs as a Table, and can also produce variant loadings when asked. The `hwe_normalized_pca` method does the same, using HWE-normalized genotypes for the PCA."
   ]
  },
  {
   "cell_type": "code",
   "execution_count": 57,
   "metadata": {},
   "outputs": [
    {
     "name": "stderr",
     "output_type": "stream",
     "text": [
      "2019-06-12 14:49:36 Hail: INFO: hwe_normalized_pca: running PCA using 7837 variants.\n",
      "2019-06-12 14:49:38 Hail: INFO: pca: running PCA with 10 components...\n"
     ]
    }
   ],
   "source": [
    "pca_eigenvalues, pcs_scores, pca_loadings = hl.hwe_normalized_pca(mt.GT)"
   ]
  },
  {
   "cell_type": "code",
   "execution_count": 58,
   "metadata": {},
   "outputs": [
    {
     "data": {
      "text/plain": [
       "[18.030685502441372,\n",
       " 9.993820694739123,\n",
       " 3.54003460013884,\n",
       " 2.6590434101706717,\n",
       " 1.5947740104203803,\n",
       " 1.5413396254154588,\n",
       " 1.5033548038676905,\n",
       " 1.47064631730658,\n",
       " 1.4674512050076023,\n",
       " 1.4481437343258543]"
      ]
     },
     "execution_count": 58,
     "metadata": {},
     "output_type": "execute_result"
    }
   ],
   "source": [
    "pca_eigenvalues"
   ]
  },
  {
   "cell_type": "markdown",
   "metadata": {},
   "source": [
    "### Annotate the columns of matrix table `mt` with the PCA scores"
   ]
  },
  {
   "cell_type": "markdown",
   "metadata": {},
   "source": [
    "A common problem in genetics studies called [Population stratification](https://en.wikipedia.org/wiki/Population_stratification) can be tackled by including ancestry as a covariate in our regression. We will use genetic ancestry by including computed principal components in our model.\n"
   ]
  },
  {
   "cell_type": "code",
   "execution_count": 59,
   "metadata": {},
   "outputs": [],
   "source": [
    "mt = mt.annotate_cols(pca=pcs_scores[mt.s])"
   ]
  },
  {
   "cell_type": "code",
   "execution_count": 60,
   "metadata": {},
   "outputs": [
    {
     "data": {
      "text/plain": [
       "dtype('array<float64>')"
      ]
     },
     "execution_count": 60,
     "metadata": {},
     "output_type": "execute_result"
    }
   ],
   "source": [
    "mt.pca.scores.dtype"
   ]
  },
  {
   "cell_type": "markdown",
   "metadata": {},
   "source": [
    "### Plot the first two PCs"
   ]
  },
  {
   "cell_type": "code",
   "execution_count": 61,
   "metadata": {},
   "outputs": [
    {
     "data": {
      "text/html": [
       "\n",
       "\n",
       "\n",
       "\n",
       "\n",
       "\n",
       "  <div class=\"bk-root\" id=\"e99ddbfb-5317-400d-8884-98606955d7eb\"></div>\n"
      ]
     },
     "metadata": {},
     "output_type": "display_data"
    },
    {
     "data": {
      "application/javascript": [
       "(function(root) {\n",
       "  function embed_document(root) {\n",
       "    \n",
       "  var docs_json = {\"6cd35e22-c2c5-4429-80ff-de7ef3d40923\":{\"roots\":{\"references\":[{\"attributes\":{},\"id\":\"8a1c7ed0-de72-4b27-8636-858321877bd5\",\"type\":\"BasicTicker\"},{\"attributes\":{\"filters\":[{\"id\":\"6b5f4d56-4f88-4928-b2e5-a7e56b12470e\",\"type\":\"GroupFilter\"}],\"source\":{\"id\":\"d8d20afc-77a4-4c23-b22d-53e7520902d5\",\"type\":\"ColumnDataSource\"}},\"id\":\"f60bcc35-dfc2-4709-8df2-dbcba925f8e0\",\"type\":\"CDSView\"},{\"attributes\":{\"data_source\":{\"id\":\"d8d20afc-77a4-4c23-b22d-53e7520902d5\",\"type\":\"ColumnDataSource\"},\"glyph\":{\"id\":\"707419c3-0a87-4901-a0c1-23dfe747ec62\",\"type\":\"Circle\"},\"hover_glyph\":null,\"muted_glyph\":null,\"nonselection_glyph\":{\"id\":\"d70309a1-b61e-42d5-a302-9942880daa76\",\"type\":\"Circle\"},\"selection_glyph\":null,\"view\":{\"id\":\"f60bcc35-dfc2-4709-8df2-dbcba925f8e0\",\"type\":\"CDSView\"}},\"id\":\"7c902c17-ca0f-4652-8d63-a70bb0d4de59\",\"type\":\"GlyphRenderer\"},{\"attributes\":{\"axis_label\":\"PC2\",\"formatter\":{\"id\":\"20aae947-6888-44c1-ac50-6ccba589ec10\",\"type\":\"BasicTickFormatter\"},\"plot\":{\"id\":\"a88d3ec5-a191-4290-a3a6-51347ab98ac7\",\"subtype\":\"Figure\",\"type\":\"Plot\"},\"ticker\":{\"id\":\"8a1c7ed0-de72-4b27-8636-858321877bd5\",\"type\":\"BasicTicker\"}},\"id\":\"39dc0fb0-889e-4df1-8c96-82c0ea7ee755\",\"type\":\"LinearAxis\"},{\"attributes\":{\"label\":{\"value\":\"AMR\"},\"renderers\":[{\"id\":\"7c902c17-ca0f-4652-8d63-a70bb0d4de59\",\"type\":\"GlyphRenderer\"}]},\"id\":\"ec1e9df2-842f-4ef7-9f09-f29e7e6853ce\",\"type\":\"LegendItem\"},{\"attributes\":{\"label\":{\"value\":\"SAS\"},\"renderers\":[{\"id\":\"1284efdc-8918-4da6-8342-f13e9017a3cf\",\"type\":\"GlyphRenderer\"}]},\"id\":\"ea94d96c-a866-46c8-9579-8adaca3265b3\",\"type\":\"LegendItem\"},{\"attributes\":{\"plot\":{\"id\":\"a88d3ec5-a191-4290-a3a6-51347ab98ac7\",\"subtype\":\"Figure\",\"type\":\"Plot\"},\"ticker\":{\"id\":\"8e54d8a0-c120-481a-a420-e44539465ed0\",\"type\":\"BasicTicker\"}},\"id\":\"c885aba1-2b8a-4fe8-b8dc-1a6d5ee615d2\",\"type\":\"Grid\"},{\"attributes\":{},\"id\":\"0ba4d43c-49ee-4113-a58c-dbd1d59dafc6\",\"type\":\"HelpTool\"},{\"attributes\":{},\"id\":\"c4d6ba6c-c7e1-41d8-b75e-b24b898ebd98\",\"type\":\"BasicTickFormatter\"},{\"attributes\":{\"label\":{\"value\":\"AFR\"},\"renderers\":[{\"id\":\"c2a99476-1aa9-4cd0-9606-c98cc63d345c\",\"type\":\"GlyphRenderer\"}]},\"id\":\"5bf63b09-8cbd-43eb-ad9a-c95ed202a851\",\"type\":\"LegendItem\"},{\"attributes\":{\"fill_alpha\":{\"value\":0.1},\"fill_color\":{\"value\":\"#1f77b4\"},\"line_alpha\":{\"value\":0.1},\"line_color\":{\"value\":\"#1f77b4\"},\"x\":{\"field\":\"_x\"},\"y\":{\"field\":\"_y\"}},\"id\":\"9a3f2c93-e8fe-45d5-80d1-eb3ebbd5be69\",\"type\":\"Circle\"},{\"attributes\":{\"data_source\":{\"id\":\"d8d20afc-77a4-4c23-b22d-53e7520902d5\",\"type\":\"ColumnDataSource\"},\"glyph\":{\"id\":\"0eea50e1-4370-4144-9359-af3793c893dd\",\"type\":\"Circle\"},\"hover_glyph\":null,\"muted_glyph\":null,\"nonselection_glyph\":{\"id\":\"9a3f2c93-e8fe-45d5-80d1-eb3ebbd5be69\",\"type\":\"Circle\"},\"selection_glyph\":null,\"view\":{\"id\":\"0be094f4-9085-40ca-b3c6-2f59775e5219\",\"type\":\"CDSView\"}},\"id\":\"bf8496a9-6270-4261-accb-9be5bdbc6f61\",\"type\":\"GlyphRenderer\"},{\"attributes\":{},\"id\":\"8e54d8a0-c120-481a-a420-e44539465ed0\",\"type\":\"BasicTicker\"},{\"attributes\":{},\"id\":\"20aae947-6888-44c1-ac50-6ccba589ec10\",\"type\":\"BasicTickFormatter\"},{\"attributes\":{\"color_mapper\":null,\"formatter\":{\"id\":\"c4d6ba6c-c7e1-41d8-b75e-b24b898ebd98\",\"type\":\"BasicTickFormatter\"},\"plot\":{\"id\":\"a88d3ec5-a191-4290-a3a6-51347ab98ac7\",\"subtype\":\"Figure\",\"type\":\"Plot\"},\"ticker\":{\"id\":\"90a88b6a-b830-4cb5-aead-2e0b71639ce1\",\"type\":\"BasicTicker\"},\"visible\":false},\"id\":\"0c9782f7-0a0d-4581-ae7b-a214daa64c78\",\"type\":\"ColorBar\"},{\"attributes\":{\"fill_color\":{\"field\":\"Population\",\"transform\":{\"id\":\"3df65894-1bfd-4a44-86ec-4f2cdb83351e\",\"type\":\"CategoricalColorMapper\"}},\"line_color\":{\"field\":\"Population\",\"transform\":{\"id\":\"3df65894-1bfd-4a44-86ec-4f2cdb83351e\",\"type\":\"CategoricalColorMapper\"}},\"x\":{\"field\":\"_x\"},\"y\":{\"field\":\"_y\"}},\"id\":\"707419c3-0a87-4901-a0c1-23dfe747ec62\",\"type\":\"Circle\"},{\"attributes\":{\"column_name\":\"Population\",\"group\":\"EAS\"},\"id\":\"1a7cd772-fbb9-42ea-9ca0-ce8706e9323b\",\"type\":\"GroupFilter\"},{\"attributes\":{\"axis_label\":\"PC1\",\"formatter\":{\"id\":\"14cb5fe1-00d1-43f8-8d62-3a95f7aa59f8\",\"type\":\"BasicTickFormatter\"},\"plot\":{\"id\":\"a88d3ec5-a191-4290-a3a6-51347ab98ac7\",\"subtype\":\"Figure\",\"type\":\"Plot\"},\"ticker\":{\"id\":\"8e54d8a0-c120-481a-a420-e44539465ed0\",\"type\":\"BasicTicker\"}},\"id\":\"6cc5cb17-be9f-474b-8c13-258b81da9dfe\",\"type\":\"LinearAxis\"},{\"attributes\":{\"filters\":[{\"id\":\"1a7cd772-fbb9-42ea-9ca0-ce8706e9323b\",\"type\":\"GroupFilter\"}],\"source\":{\"id\":\"d8d20afc-77a4-4c23-b22d-53e7520902d5\",\"type\":\"ColumnDataSource\"}},\"id\":\"0be094f4-9085-40ca-b3c6-2f59775e5219\",\"type\":\"CDSView\"},{\"attributes\":{\"filters\":[{\"id\":\"a8943c97-a08c-4d0e-b5e2-caf53fba4878\",\"type\":\"GroupFilter\"}],\"source\":{\"id\":\"d8d20afc-77a4-4c23-b22d-53e7520902d5\",\"type\":\"ColumnDataSource\"}},\"id\":\"143aaf2f-9b20-4c8c-8bdb-9bf46d9f37e9\",\"type\":\"CDSView\"},{\"attributes\":{\"column_name\":\"Population\",\"group\":\"AFR\"},\"id\":\"919f4fdd-b3c2-4cfe-b35c-6ec7aff6b9b7\",\"type\":\"GroupFilter\"},{\"attributes\":{\"data_source\":{\"id\":\"d8d20afc-77a4-4c23-b22d-53e7520902d5\",\"type\":\"ColumnDataSource\"},\"glyph\":{\"id\":\"80c4969c-f7e1-4dca-a70a-0f11157379ad\",\"type\":\"Circle\"},\"hover_glyph\":null,\"muted_glyph\":null,\"nonselection_glyph\":{\"id\":\"84786605-9029-44c6-919f-9d11cf7b0d16\",\"type\":\"Circle\"},\"selection_glyph\":null,\"view\":{\"id\":\"e00f7ad5-8853-43f9-a8fb-5a2f0b4cfdd4\",\"type\":\"CDSView\"}},\"id\":\"9c2ff654-cfc4-4cb3-8abd-aee7d9ac29d7\",\"type\":\"GlyphRenderer\"},{\"attributes\":{\"fill_alpha\":{\"value\":0.1},\"fill_color\":{\"value\":\"#1f77b4\"},\"line_alpha\":{\"value\":0.1},\"line_color\":{\"value\":\"#1f77b4\"},\"x\":{\"field\":\"_x\"},\"y\":{\"field\":\"_y\"}},\"id\":\"d70309a1-b61e-42d5-a302-9942880daa76\",\"type\":\"Circle\"},{\"attributes\":{\"data_source\":{\"id\":\"d8d20afc-77a4-4c23-b22d-53e7520902d5\",\"type\":\"ColumnDataSource\"},\"glyph\":{\"id\":\"97d5f819-c589-4b64-9abd-3df57dac313e\",\"type\":\"Circle\"},\"hover_glyph\":null,\"muted_glyph\":null,\"nonselection_glyph\":{\"id\":\"84d708be-4495-40b9-8f52-3c588cb6c8ec\",\"type\":\"Circle\"},\"selection_glyph\":null,\"view\":{\"id\":\"143aaf2f-9b20-4c8c-8bdb-9bf46d9f37e9\",\"type\":\"CDSView\"}},\"id\":\"1284efdc-8918-4da6-8342-f13e9017a3cf\",\"type\":\"GlyphRenderer\"},{\"attributes\":{\"fill_color\":{\"field\":\"Population\",\"transform\":{\"id\":\"3df65894-1bfd-4a44-86ec-4f2cdb83351e\",\"type\":\"CategoricalColorMapper\"}},\"line_color\":{\"field\":\"Population\",\"transform\":{\"id\":\"3df65894-1bfd-4a44-86ec-4f2cdb83351e\",\"type\":\"CategoricalColorMapper\"}},\"x\":{\"field\":\"_x\"},\"y\":{\"field\":\"_y\"}},\"id\":\"5c334ca7-ca08-4c85-877e-ad32a00631dc\",\"type\":\"Circle\"},{\"attributes\":{},\"id\":\"7e50d94d-be39-4e00-9463-1677ae643a2d\",\"type\":\"LinearScale\"},{\"attributes\":{},\"id\":\"66b4b95f-53a6-4631-be58-f82eb6fe145d\",\"type\":\"ResetTool\"},{\"attributes\":{},\"id\":\"14cb5fe1-00d1-43f8-8d62-3a95f7aa59f8\",\"type\":\"BasicTickFormatter\"},{\"attributes\":{\"fill_alpha\":{\"value\":0.1},\"fill_color\":{\"value\":\"#1f77b4\"},\"line_alpha\":{\"value\":0.1},\"line_color\":{\"value\":\"#1f77b4\"},\"x\":{\"field\":\"_x\"},\"y\":{\"field\":\"_y\"}},\"id\":\"84d708be-4495-40b9-8f52-3c588cb6c8ec\",\"type\":\"Circle\"},{\"attributes\":{\"callback\":null},\"id\":\"fd02da9a-5ebd-4381-a85b-532c6f237323\",\"type\":\"DataRange1d\"},{\"attributes\":{\"filters\":[{\"id\":\"919f4fdd-b3c2-4cfe-b35c-6ec7aff6b9b7\",\"type\":\"GroupFilter\"}],\"source\":{\"id\":\"d8d20afc-77a4-4c23-b22d-53e7520902d5\",\"type\":\"ColumnDataSource\"}},\"id\":\"4d6bf027-d4cc-486b-a48f-88aa5b0c7398\",\"type\":\"CDSView\"},{\"attributes\":{\"callback\":null},\"id\":\"a887452a-2f62-4a9a-9f01-9a5eb36ccf9a\",\"type\":\"DataRange1d\"},{\"attributes\":{},\"id\":\"bfdda54c-060e-4426-96f7-3d612e403dac\",\"type\":\"SaveTool\"},{\"attributes\":{\"active_drag\":\"auto\",\"active_inspect\":\"auto\",\"active_multi\":null,\"active_scroll\":\"auto\",\"active_tap\":\"auto\",\"tools\":[{\"id\":\"b4dc5e45-4244-4204-ac0d-bde3c77d5ac2\",\"type\":\"PanTool\"},{\"id\":\"e3c1c0b1-117b-4a1c-8790-416321ea01a5\",\"type\":\"WheelZoomTool\"},{\"id\":\"fc43a5e8-0a96-4bc5-83c4-9598883938bd\",\"type\":\"BoxZoomTool\"},{\"id\":\"bfdda54c-060e-4426-96f7-3d612e403dac\",\"type\":\"SaveTool\"},{\"id\":\"66b4b95f-53a6-4631-be58-f82eb6fe145d\",\"type\":\"ResetTool\"},{\"id\":\"0ba4d43c-49ee-4113-a58c-dbd1d59dafc6\",\"type\":\"HelpTool\"},{\"id\":\"743b227c-18ba-4030-8c65-0d2c12545b06\",\"type\":\"HoverTool\"}]},\"id\":\"867660a9-a83b-45bb-b2c8-433369daa103\",\"type\":\"Toolbar\"},{\"attributes\":{\"below\":[{\"id\":\"6cc5cb17-be9f-474b-8c13-258b81da9dfe\",\"type\":\"LinearAxis\"}],\"left\":[{\"id\":\"39dc0fb0-889e-4df1-8c96-82c0ea7ee755\",\"type\":\"LinearAxis\"},{\"id\":\"06224a8f-2a1d-406d-8c47-94e7ae122651\",\"type\":\"Legend\"},{\"id\":\"0c9782f7-0a0d-4581-ae7b-a214daa64c78\",\"type\":\"ColorBar\"}],\"plot_height\":800,\"plot_width\":800,\"renderers\":[{\"id\":\"6cc5cb17-be9f-474b-8c13-258b81da9dfe\",\"type\":\"LinearAxis\"},{\"id\":\"c885aba1-2b8a-4fe8-b8dc-1a6d5ee615d2\",\"type\":\"Grid\"},{\"id\":\"39dc0fb0-889e-4df1-8c96-82c0ea7ee755\",\"type\":\"LinearAxis\"},{\"id\":\"7905c228-50df-4c14-928a-eb576e43459e\",\"type\":\"Grid\"},{\"id\":\"7d8d8297-4ba1-4609-98a5-84230f9d291b\",\"type\":\"BoxAnnotation\"},{\"id\":\"c2a99476-1aa9-4cd0-9606-c98cc63d345c\",\"type\":\"GlyphRenderer\"},{\"id\":\"7c902c17-ca0f-4652-8d63-a70bb0d4de59\",\"type\":\"GlyphRenderer\"},{\"id\":\"bf8496a9-6270-4261-accb-9be5bdbc6f61\",\"type\":\"GlyphRenderer\"},{\"id\":\"9c2ff654-cfc4-4cb3-8abd-aee7d9ac29d7\",\"type\":\"GlyphRenderer\"},{\"id\":\"1284efdc-8918-4da6-8342-f13e9017a3cf\",\"type\":\"GlyphRenderer\"},{\"id\":\"06224a8f-2a1d-406d-8c47-94e7ae122651\",\"type\":\"Legend\"},{\"id\":\"0c9782f7-0a0d-4581-ae7b-a214daa64c78\",\"type\":\"ColorBar\"}],\"title\":{\"id\":\"47b43cd9-7da4-4f23-9427-9970ed931199\",\"type\":\"Title\"},\"toolbar\":{\"id\":\"867660a9-a83b-45bb-b2c8-433369daa103\",\"type\":\"Toolbar\"},\"x_range\":{\"id\":\"a887452a-2f62-4a9a-9f01-9a5eb36ccf9a\",\"type\":\"DataRange1d\"},\"x_scale\":{\"id\":\"0a743127-245a-4fe5-9746-d153e2547152\",\"type\":\"LinearScale\"},\"y_range\":{\"id\":\"fd02da9a-5ebd-4381-a85b-532c6f237323\",\"type\":\"DataRange1d\"},\"y_scale\":{\"id\":\"7e50d94d-be39-4e00-9463-1677ae643a2d\",\"type\":\"LinearScale\"}},\"id\":\"a88d3ec5-a191-4290-a3a6-51347ab98ac7\",\"subtype\":\"Figure\",\"type\":\"Plot\"},{\"attributes\":{\"children\":[{\"id\":\"a88d3ec5-a191-4290-a3a6-51347ab98ac7\",\"subtype\":\"Figure\",\"type\":\"Plot\"}]},\"id\":\"09b7abb1-2a3e-4b24-9001-882dc419f142\",\"type\":\"Column\"},{\"attributes\":{\"fill_color\":{\"field\":\"Population\",\"transform\":{\"id\":\"3df65894-1bfd-4a44-86ec-4f2cdb83351e\",\"type\":\"CategoricalColorMapper\"}},\"line_color\":{\"field\":\"Population\",\"transform\":{\"id\":\"3df65894-1bfd-4a44-86ec-4f2cdb83351e\",\"type\":\"CategoricalColorMapper\"}},\"x\":{\"field\":\"_x\"},\"y\":{\"field\":\"_y\"}},\"id\":\"0eea50e1-4370-4144-9359-af3793c893dd\",\"type\":\"Circle\"},{\"attributes\":{\"column_name\":\"Population\",\"group\":\"EUR\"},\"id\":\"4bfdec5f-7a48-49ea-ab71-ce806c4634b5\",\"type\":\"GroupFilter\"},{\"attributes\":{},\"id\":\"0a743127-245a-4fe5-9746-d153e2547152\",\"type\":\"LinearScale\"},{\"attributes\":{},\"id\":\"b4dc5e45-4244-4204-ac0d-bde3c77d5ac2\",\"type\":\"PanTool\"},{\"attributes\":{\"callback\":null,\"data\":{\"Population\":[\"EUR\",\"EUR\",\"EUR\",\"EUR\",\"EUR\",\"EUR\",\"EUR\",\"EUR\",\"EUR\",\"EUR\",\"EAS\",\"EAS\",\"EAS\",\"EAS\",\"EAS\",\"EAS\",\"EAS\",\"EAS\",\"EAS\",\"EAS\",\"EAS\",\"EAS\",\"AMR\",\"EAS\",\"AMR\",\"AMR\",\"AMR\",\"AMR\",\"AMR\",\"AMR\",\"AMR\",\"AMR\",\"AMR\",\"AMR\",\"EUR\",\"AMR\",\"AMR\",\"AMR\",\"AMR\",\"AMR\",\"EUR\",\"AMR\",\"EUR\",\"EUR\",\"EUR\",\"EUR\",\"EUR\",\"EUR\",\"EAS\",\"EAS\",\"EAS\",\"EAS\",\"EAS\",\"EAS\",\"EAS\",\"EAS\",\"EAS\",\"EAS\",\"EAS\",\"AFR\",\"AMR\",\"AMR\",\"AMR\",\"AMR\",\"AFR\",\"EAS\",\"AFR\",\"EAS\",\"EAS\",\"EAS\",\"EAS\",\"EAS\",\"EAS\",\"EAS\",\"EAS\",\"EUR\",\"EUR\",\"EAS\",\"AMR\",\"AMR\",\"AMR\",\"EAS\",\"EAS\",\"EAS\",\"EAS\",\"EAS\",\"EAS\",\"EAS\",\"EAS\",\"EAS\",\"AFR\",\"AFR\",\"AFR\",\"AFR\",\"EAS\",\"AFR\",\"AFR\",\"AFR\",\"AFR\",\"SAS\",\"AFR\",\"SAS\",\"SAS\",\"SAS\",\"SAS\",\"SAS\",\"AFR\",\"AFR\",\"AFR\",\"SAS\",\"AFR\",\"AFR\",\"AFR\",\"AFR\",\"AFR\",\"AFR\",\"AFR\",\"AFR\",\"SAS\",\"AFR\",\"AFR\",\"AFR\",\"AFR\",\"AFR\",\"AFR\",\"AFR\",\"SAS\",\"AFR\",\"AFR\",\"AFR\",\"AFR\",\"AFR\",\"AFR\",\"AFR\",\"AFR\",\"AFR\",\"AFR\",\"AFR\",\"SAS\",\"SAS\",\"AFR\",\"AFR\",\"AFR\",\"SAS\",\"SAS\",\"SAS\",\"SAS\",\"SAS\",\"SAS\",\"SAS\",\"SAS\",\"SAS\",\"SAS\",\"SAS\",\"SAS\",\"SAS\",\"SAS\",\"SAS\",\"SAS\",\"SAS\",\"SAS\",\"SAS\",\"SAS\",\"SAS\",\"SAS\",\"SAS\",\"SAS\",\"SAS\",\"SAS\",\"SAS\",\"SAS\",\"SAS\",\"SAS\",\"EUR\",\"EUR\",\"EUR\",\"EUR\",\"EUR\",\"EUR\",\"EUR\",\"EUR\",\"EUR\",\"EUR\",\"AFR\",\"EAS\",\"EAS\",\"EAS\",\"EAS\",\"EAS\",\"EAS\",\"EAS\",\"AFR\",\"AFR\",\"AFR\",\"EAS\",\"EAS\",\"EAS\",\"EAS\",\"EAS\",\"EAS\",\"EAS\",\"EAS\",\"EAS\",\"EAS\",\"AFR\",\"AFR\",\"AFR\",\"AFR\",\"AFR\",\"AFR\",\"AFR\",\"AFR\",\"AFR\",\"AFR\",\"AFR\",\"AFR\",\"AFR\",\"AMR\",\"AMR\",\"AMR\",\"AMR\",\"AMR\",\"AFR\",\"AMR\",\"AMR\",\"AMR\",\"AFR\",\"AFR\",\"EUR\",\"EUR\",\"EUR\",\"EUR\",\"EUR\",\"EUR\",\"EUR\",\"EUR\",\"EUR\",\"SAS\",\"SAS\",\"SAS\",\"SAS\",\"SAS\",\"SAS\",\"SAS\",\"SAS\",\"SAS\",\"SAS\",\"SAS\",\"SAS\",\"SAS\"],\"_x\":{\"__ndarray__\":\"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\",\"dtype\":\"float64\",\"shape\":[250]},\"_y\":{\"__ndarray__\":\"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\",\"dtype\":\"float64\",\"shape\":[250]},\"index\":[0,1,2,3,4,5,6,7,8,9,10,11,12,13,14,15,16,17,18,19,20,21,22,23,24,25,26,27,28,29,30,31,32,33,34,35,36,37,38,39,40,41,42,43,44,45,46,47,48,49,50,51,52,53,54,55,56,57,58,59,60,61,62,63,64,65,66,67,68,69,70,71,72,73,74,75,76,77,78,79,80,81,82,83,84,85,86,87,88,89,90,91,92,93,94,95,96,97,98,99,100,101,102,103,104,105,106,107,108,109,110,111,112,113,114,115,116,117,118,119,120,121,122,123,124,125,126,127,128,129,130,131,132,133,134,135,136,137,138,139,140,141,142,143,144,145,146,147,148,149,150,151,152,153,154,155,156,157,158,159,160,161,162,163,164,165,166,167,168,169,170,171,172,173,174,175,176,177,178,179,180,181,182,183,184,185,186,187,188,189,190,191,192,193,194,195,196,197,198,199,200,201,202,203,204,205,206,207,208,209,210,211,212,213,214,215,216,217,218,219,220,221,222,223,224,225,226,227,228,229,230,231,232,233,234,235,236,237,238,239,240,241,242,243,244,245,246,247,248,249]},\"selected\":{\"id\":\"cfa06bcd-d36b-4e25-8e2c-62739c9723cd\",\"type\":\"Selection\"},\"selection_policy\":{\"id\":\"75f5cffa-69e5-4553-b3f2-3e4289bc423a\",\"type\":\"UnionRenderers\"}},\"id\":\"d8d20afc-77a4-4c23-b22d-53e7520902d5\",\"type\":\"ColumnDataSource\"},{\"attributes\":{\"bottom_units\":\"screen\",\"fill_alpha\":{\"value\":0.5},\"fill_color\":{\"value\":\"lightgrey\"},\"left_units\":\"screen\",\"level\":\"overlay\",\"line_alpha\":{\"value\":1.0},\"line_color\":{\"value\":\"black\"},\"line_dash\":[4,4],\"line_width\":{\"value\":2},\"plot\":null,\"render_mode\":\"css\",\"right_units\":\"screen\",\"top_units\":\"screen\"},\"id\":\"7d8d8297-4ba1-4609-98a5-84230f9d291b\",\"type\":\"BoxAnnotation\"},{\"attributes\":{\"fill_color\":{\"field\":\"Population\",\"transform\":{\"id\":\"3df65894-1bfd-4a44-86ec-4f2cdb83351e\",\"type\":\"CategoricalColorMapper\"}},\"line_color\":{\"field\":\"Population\",\"transform\":{\"id\":\"3df65894-1bfd-4a44-86ec-4f2cdb83351e\",\"type\":\"CategoricalColorMapper\"}},\"x\":{\"field\":\"_x\"},\"y\":{\"field\":\"_y\"}},\"id\":\"97d5f819-c589-4b64-9abd-3df57dac313e\",\"type\":\"Circle\"},{\"attributes\":{},\"id\":\"cfa06bcd-d36b-4e25-8e2c-62739c9723cd\",\"type\":\"Selection\"},{\"attributes\":{\"plot\":null,\"text\":\"PCA, first two principal components\"},\"id\":\"47b43cd9-7da4-4f23-9427-9970ed931199\",\"type\":\"Title\"},{\"attributes\":{},\"id\":\"e3c1c0b1-117b-4a1c-8790-416321ea01a5\",\"type\":\"WheelZoomTool\"},{\"attributes\":{\"label\":{\"value\":\"EUR\"},\"renderers\":[{\"id\":\"9c2ff654-cfc4-4cb3-8abd-aee7d9ac29d7\",\"type\":\"GlyphRenderer\"}]},\"id\":\"8c6f68fd-30d7-48c2-a290-b8c4e2586753\",\"type\":\"LegendItem\"},{\"attributes\":{\"click_policy\":\"hide\",\"items\":[{\"id\":\"5bf63b09-8cbd-43eb-ad9a-c95ed202a851\",\"type\":\"LegendItem\"},{\"id\":\"ec1e9df2-842f-4ef7-9f09-f29e7e6853ce\",\"type\":\"LegendItem\"},{\"id\":\"9d9cd55d-7280-4809-9443-9b11041f05f8\",\"type\":\"LegendItem\"},{\"id\":\"8c6f68fd-30d7-48c2-a290-b8c4e2586753\",\"type\":\"LegendItem\"},{\"id\":\"ea94d96c-a866-46c8-9579-8adaca3265b3\",\"type\":\"LegendItem\"}],\"plot\":{\"id\":\"a88d3ec5-a191-4290-a3a6-51347ab98ac7\",\"subtype\":\"Figure\",\"type\":\"Plot\"}},\"id\":\"06224a8f-2a1d-406d-8c47-94e7ae122651\",\"type\":\"Legend\"},{\"attributes\":{\"fill_alpha\":{\"value\":0.1},\"fill_color\":{\"value\":\"#1f77b4\"},\"line_alpha\":{\"value\":0.1},\"line_color\":{\"value\":\"#1f77b4\"},\"x\":{\"field\":\"_x\"},\"y\":{\"field\":\"_y\"}},\"id\":\"5e7ca5c0-2273-49f1-993f-dc08f93a32c4\",\"type\":\"Circle\"},{\"attributes\":{\"data_source\":{\"id\":\"d8d20afc-77a4-4c23-b22d-53e7520902d5\",\"type\":\"ColumnDataSource\"},\"glyph\":{\"id\":\"5c334ca7-ca08-4c85-877e-ad32a00631dc\",\"type\":\"Circle\"},\"hover_glyph\":null,\"muted_glyph\":null,\"nonselection_glyph\":{\"id\":\"5e7ca5c0-2273-49f1-993f-dc08f93a32c4\",\"type\":\"Circle\"},\"selection_glyph\":null,\"view\":{\"id\":\"4d6bf027-d4cc-486b-a48f-88aa5b0c7398\",\"type\":\"CDSView\"}},\"id\":\"c2a99476-1aa9-4cd0-9606-c98cc63d345c\",\"type\":\"GlyphRenderer\"},{\"attributes\":{\"fill_color\":{\"field\":\"Population\",\"transform\":{\"id\":\"3df65894-1bfd-4a44-86ec-4f2cdb83351e\",\"type\":\"CategoricalColorMapper\"}},\"line_color\":{\"field\":\"Population\",\"transform\":{\"id\":\"3df65894-1bfd-4a44-86ec-4f2cdb83351e\",\"type\":\"CategoricalColorMapper\"}},\"x\":{\"field\":\"_x\"},\"y\":{\"field\":\"_y\"}},\"id\":\"80c4969c-f7e1-4dca-a70a-0f11157379ad\",\"type\":\"Circle\"},{\"attributes\":{\"factors\":[\"EAS\",\"SAS\",\"AFR\",\"AMR\",\"EUR\"],\"palette\":[\"#1f77b4\",\"#ff7f0e\",\"#2ca02c\",\"#d62728\",\"#9467bd\"]},\"id\":\"3df65894-1bfd-4a44-86ec-4f2cdb83351e\",\"type\":\"CategoricalColorMapper\"},{\"attributes\":{},\"id\":\"90a88b6a-b830-4cb5-aead-2e0b71639ce1\",\"type\":\"BasicTicker\"},{\"attributes\":{\"overlay\":{\"id\":\"7d8d8297-4ba1-4609-98a5-84230f9d291b\",\"type\":\"BoxAnnotation\"}},\"id\":\"fc43a5e8-0a96-4bc5-83c4-9598883938bd\",\"type\":\"BoxZoomTool\"},{\"attributes\":{\"column_name\":\"Population\",\"group\":\"AMR\"},\"id\":\"6b5f4d56-4f88-4928-b2e5-a7e56b12470e\",\"type\":\"GroupFilter\"},{\"attributes\":{\"dimension\":1,\"plot\":{\"id\":\"a88d3ec5-a191-4290-a3a6-51347ab98ac7\",\"subtype\":\"Figure\",\"type\":\"Plot\"},\"ticker\":{\"id\":\"8a1c7ed0-de72-4b27-8636-858321877bd5\",\"type\":\"BasicTicker\"}},\"id\":\"7905c228-50df-4c14-928a-eb576e43459e\",\"type\":\"Grid\"},{\"attributes\":{\"label\":{\"value\":\"EAS\"},\"renderers\":[{\"id\":\"bf8496a9-6270-4261-accb-9be5bdbc6f61\",\"type\":\"GlyphRenderer\"}]},\"id\":\"9d9cd55d-7280-4809-9443-9b11041f05f8\",\"type\":\"LegendItem\"},{\"attributes\":{},\"id\":\"75f5cffa-69e5-4553-b3f2-3e4289bc423a\",\"type\":\"UnionRenderers\"},{\"attributes\":{\"callback\":null,\"renderers\":\"auto\",\"tooltips\":[[\"Population\",\"@Population\"],[\"_x\",\"@_x\"],[\"_y\",\"@_y\"]]},\"id\":\"743b227c-18ba-4030-8c65-0d2c12545b06\",\"type\":\"HoverTool\"},{\"attributes\":{\"fill_alpha\":{\"value\":0.1},\"fill_color\":{\"value\":\"#1f77b4\"},\"line_alpha\":{\"value\":0.1},\"line_color\":{\"value\":\"#1f77b4\"},\"x\":{\"field\":\"_x\"},\"y\":{\"field\":\"_y\"}},\"id\":\"84786605-9029-44c6-919f-9d11cf7b0d16\",\"type\":\"Circle\"},{\"attributes\":{\"column_name\":\"Population\",\"group\":\"SAS\"},\"id\":\"a8943c97-a08c-4d0e-b5e2-caf53fba4878\",\"type\":\"GroupFilter\"},{\"attributes\":{\"filters\":[{\"id\":\"4bfdec5f-7a48-49ea-ab71-ce806c4634b5\",\"type\":\"GroupFilter\"}],\"source\":{\"id\":\"d8d20afc-77a4-4c23-b22d-53e7520902d5\",\"type\":\"ColumnDataSource\"}},\"id\":\"e00f7ad5-8853-43f9-a8fb-5a2f0b4cfdd4\",\"type\":\"CDSView\"}],\"root_ids\":[\"09b7abb1-2a3e-4b24-9001-882dc419f142\"]},\"title\":\"Bokeh Application\",\"version\":\"0.13.0\"}};\n",
       "  var render_items = [{\"docid\":\"6cd35e22-c2c5-4429-80ff-de7ef3d40923\",\"roots\":{\"09b7abb1-2a3e-4b24-9001-882dc419f142\":\"e99ddbfb-5317-400d-8884-98606955d7eb\"}}];\n",
       "  root.Bokeh.embed.embed_items_notebook(docs_json, render_items);\n",
       "\n",
       "  }\n",
       "  if (root.Bokeh !== undefined) {\n",
       "    embed_document(root);\n",
       "  } else {\n",
       "    var attempts = 0;\n",
       "    var timer = setInterval(function(root) {\n",
       "      if (root.Bokeh !== undefined) {\n",
       "        embed_document(root);\n",
       "        clearInterval(timer);\n",
       "      }\n",
       "      attempts++;\n",
       "      if (attempts > 100) {\n",
       "        console.log(\"Bokeh: ERROR: Unable to run BokehJS code because BokehJS library is missing\")\n",
       "        clearInterval(timer);\n",
       "      }\n",
       "    }, 10, root)\n",
       "  }\n",
       "})(window);"
      ],
      "application/vnd.bokehjs_exec.v0+json": ""
     },
     "metadata": {
      "application/vnd.bokehjs_exec.v0+json": {
       "id": "09b7abb1-2a3e-4b24-9001-882dc419f142"
      }
     },
     "output_type": "display_data"
    }
   ],
   "source": [
    "pca  = plotting.scatter_plot(mt.pca.scores[0],\n",
    "                  mt.pca.scores[1],\n",
    "                  label_fields={\n",
    "                      'Population': mt.pheno.SuperPopulation},\n",
    "                  title='PCA, first two principal components', \n",
    "                  xlabel='PC1', ylabel='PC2')\n",
    "\n",
    "show(pca)"
   ]
  },
  {
   "cell_type": "code",
   "execution_count": null,
   "metadata": {},
   "outputs": [],
   "source": []
  }
 ],
 "metadata": {
  "kernelspec": {
   "display_name": "Python 3",
   "language": "python",
   "name": "python3"
  },
  "language_info": {
   "codemirror_mode": {
    "name": "ipython",
    "version": 3
   },
   "file_extension": ".py",
   "mimetype": "text/x-python",
   "name": "python",
   "nbconvert_exporter": "python",
   "pygments_lexer": "ipython3",
   "version": "3.7.3"
  }
 },
 "nbformat": 4,
 "nbformat_minor": 2
}
