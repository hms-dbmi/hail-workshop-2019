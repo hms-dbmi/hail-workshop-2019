{
 "cells": [
  {
   "cell_type": "markdown",
   "metadata": {},
   "source": [
    "<img src=\"https://dbmi.hms.harvard.edu/sites/g/files/mcu781/files/hero-images/PM19.png\" width= \"450px\">\n"
   ]
  },
  {
   "cell_type": "markdown",
   "metadata": {},
   "source": [
    "<img src=\"https://hms.harvard.edu/themes/harvardmedical/logo.svg\" width= \"250px\"> \n"
   ]
  },
  {
   "cell_type": "markdown",
   "metadata": {},
   "source": [
    "---"
   ]
  },
  {
   "cell_type": "markdown",
   "metadata": {},
   "source": [
    "# <img src=\"https://hail.is/docs/devel/hail-logo-cropped.png\" width= \"50px\"> **Workshop**"
   ]
  },
  {
   "cell_type": "markdown",
   "metadata": {},
   "source": [
    "# **Module 1**\n",
    "\n",
    "## Introduction to `Hail`"
   ]
  },
  {
   "cell_type": "code",
   "execution_count": 1,
   "metadata": {},
   "outputs": [
    {
     "name": "stderr",
     "output_type": "stream",
     "text": [
      "using hail jar at /Users/carlos/anaconda3/envs/hail/lib/python3.7/site-packages/hail/hail-all-spark.jar\n",
      "Running on Apache Spark version 2.4.1\n",
      "SparkUI available at http://10.119.10.38:4041\n",
      "Welcome to\n",
      "     __  __     <>__\n",
      "    / /_/ /__  __/ /\n",
      "   / __  / _ `/ / /\n",
      "  /_/ /_/\\_,_/_/_/   version 0.2.14-8dcb6722c72a\n",
      "LOGGING: writing to /Users/carlos/Desktop/Jupyter_Notebooks/hail-20190611-1842-0.2.14-8dcb6722c72a.log\n"
     ]
    }
   ],
   "source": [
    "import hail as hl\n",
    "import hail.expr.aggregators as agg\n",
    "hl.init()"
   ]
  },
  {
   "cell_type": "code",
   "execution_count": 2,
   "metadata": {},
   "outputs": [
    {
     "data": {
      "text/html": [
       "\n",
       "    <div class=\"bk-root\">\n",
       "        <a href=\"https://bokeh.pydata.org\" target=\"_blank\" class=\"bk-logo bk-logo-small bk-logo-notebook\"></a>\n",
       "        <span id=\"ef4ffe4c-0b92-41bb-b83b-8227b278c64c\">Loading BokehJS ...</span>\n",
       "    </div>"
      ]
     },
     "metadata": {},
     "output_type": "display_data"
    },
    {
     "data": {
      "application/javascript": [
       "\n",
       "(function(root) {\n",
       "  function now() {\n",
       "    return new Date();\n",
       "  }\n",
       "\n",
       "  var force = true;\n",
       "\n",
       "  if (typeof (root._bokeh_onload_callbacks) === \"undefined\" || force === true) {\n",
       "    root._bokeh_onload_callbacks = [];\n",
       "    root._bokeh_is_loading = undefined;\n",
       "  }\n",
       "\n",
       "  var JS_MIME_TYPE = 'application/javascript';\n",
       "  var HTML_MIME_TYPE = 'text/html';\n",
       "  var EXEC_MIME_TYPE = 'application/vnd.bokehjs_exec.v0+json';\n",
       "  var CLASS_NAME = 'output_bokeh rendered_html';\n",
       "\n",
       "  /**\n",
       "   * Render data to the DOM node\n",
       "   */\n",
       "  function render(props, node) {\n",
       "    var script = document.createElement(\"script\");\n",
       "    node.appendChild(script);\n",
       "  }\n",
       "\n",
       "  /**\n",
       "   * Handle when an output is cleared or removed\n",
       "   */\n",
       "  function handleClearOutput(event, handle) {\n",
       "    var cell = handle.cell;\n",
       "\n",
       "    var id = cell.output_area._bokeh_element_id;\n",
       "    var server_id = cell.output_area._bokeh_server_id;\n",
       "    // Clean up Bokeh references\n",
       "    if (id != null && id in Bokeh.index) {\n",
       "      Bokeh.index[id].model.document.clear();\n",
       "      delete Bokeh.index[id];\n",
       "    }\n",
       "\n",
       "    if (server_id !== undefined) {\n",
       "      // Clean up Bokeh references\n",
       "      var cmd = \"from bokeh.io.state import curstate; print(curstate().uuid_to_server['\" + server_id + \"'].get_sessions()[0].document.roots[0]._id)\";\n",
       "      cell.notebook.kernel.execute(cmd, {\n",
       "        iopub: {\n",
       "          output: function(msg) {\n",
       "            var id = msg.content.text.trim();\n",
       "            if (id in Bokeh.index) {\n",
       "              Bokeh.index[id].model.document.clear();\n",
       "              delete Bokeh.index[id];\n",
       "            }\n",
       "          }\n",
       "        }\n",
       "      });\n",
       "      // Destroy server and session\n",
       "      var cmd = \"import bokeh.io.notebook as ion; ion.destroy_server('\" + server_id + \"')\";\n",
       "      cell.notebook.kernel.execute(cmd);\n",
       "    }\n",
       "  }\n",
       "\n",
       "  /**\n",
       "   * Handle when a new output is added\n",
       "   */\n",
       "  function handleAddOutput(event, handle) {\n",
       "    var output_area = handle.output_area;\n",
       "    var output = handle.output;\n",
       "\n",
       "    // limit handleAddOutput to display_data with EXEC_MIME_TYPE content only\n",
       "    if ((output.output_type != \"display_data\") || (!output.data.hasOwnProperty(EXEC_MIME_TYPE))) {\n",
       "      return\n",
       "    }\n",
       "\n",
       "    var toinsert = output_area.element.find(\".\" + CLASS_NAME.split(' ')[0]);\n",
       "\n",
       "    if (output.metadata[EXEC_MIME_TYPE][\"id\"] !== undefined) {\n",
       "      toinsert[toinsert.length - 1].firstChild.textContent = output.data[JS_MIME_TYPE];\n",
       "      // store reference to embed id on output_area\n",
       "      output_area._bokeh_element_id = output.metadata[EXEC_MIME_TYPE][\"id\"];\n",
       "    }\n",
       "    if (output.metadata[EXEC_MIME_TYPE][\"server_id\"] !== undefined) {\n",
       "      var bk_div = document.createElement(\"div\");\n",
       "      bk_div.innerHTML = output.data[HTML_MIME_TYPE];\n",
       "      var script_attrs = bk_div.children[0].attributes;\n",
       "      for (var i = 0; i < script_attrs.length; i++) {\n",
       "        toinsert[toinsert.length - 1].firstChild.setAttribute(script_attrs[i].name, script_attrs[i].value);\n",
       "      }\n",
       "      // store reference to server id on output_area\n",
       "      output_area._bokeh_server_id = output.metadata[EXEC_MIME_TYPE][\"server_id\"];\n",
       "    }\n",
       "  }\n",
       "\n",
       "  function register_renderer(events, OutputArea) {\n",
       "\n",
       "    function append_mime(data, metadata, element) {\n",
       "      // create a DOM node to render to\n",
       "      var toinsert = this.create_output_subarea(\n",
       "        metadata,\n",
       "        CLASS_NAME,\n",
       "        EXEC_MIME_TYPE\n",
       "      );\n",
       "      this.keyboard_manager.register_events(toinsert);\n",
       "      // Render to node\n",
       "      var props = {data: data, metadata: metadata[EXEC_MIME_TYPE]};\n",
       "      render(props, toinsert[toinsert.length - 1]);\n",
       "      element.append(toinsert);\n",
       "      return toinsert\n",
       "    }\n",
       "\n",
       "    /* Handle when an output is cleared or removed */\n",
       "    events.on('clear_output.CodeCell', handleClearOutput);\n",
       "    events.on('delete.Cell', handleClearOutput);\n",
       "\n",
       "    /* Handle when a new output is added */\n",
       "    events.on('output_added.OutputArea', handleAddOutput);\n",
       "\n",
       "    /**\n",
       "     * Register the mime type and append_mime function with output_area\n",
       "     */\n",
       "    OutputArea.prototype.register_mime_type(EXEC_MIME_TYPE, append_mime, {\n",
       "      /* Is output safe? */\n",
       "      safe: true,\n",
       "      /* Index of renderer in `output_area.display_order` */\n",
       "      index: 0\n",
       "    });\n",
       "  }\n",
       "\n",
       "  // register the mime type if in Jupyter Notebook environment and previously unregistered\n",
       "  if (root.Jupyter !== undefined) {\n",
       "    var events = require('base/js/events');\n",
       "    var OutputArea = require('notebook/js/outputarea').OutputArea;\n",
       "\n",
       "    if (OutputArea.prototype.mime_types().indexOf(EXEC_MIME_TYPE) == -1) {\n",
       "      register_renderer(events, OutputArea);\n",
       "    }\n",
       "  }\n",
       "\n",
       "  \n",
       "  if (typeof (root._bokeh_timeout) === \"undefined\" || force === true) {\n",
       "    root._bokeh_timeout = Date.now() + 5000;\n",
       "    root._bokeh_failed_load = false;\n",
       "  }\n",
       "\n",
       "  var NB_LOAD_WARNING = {'data': {'text/html':\n",
       "     \"<div style='background-color: #fdd'>\\n\"+\n",
       "     \"<p>\\n\"+\n",
       "     \"BokehJS does not appear to have successfully loaded. If loading BokehJS from CDN, this \\n\"+\n",
       "     \"may be due to a slow or bad network connection. Possible fixes:\\n\"+\n",
       "     \"</p>\\n\"+\n",
       "     \"<ul>\\n\"+\n",
       "     \"<li>re-rerun `output_notebook()` to attempt to load from CDN again, or</li>\\n\"+\n",
       "     \"<li>use INLINE resources instead, as so:</li>\\n\"+\n",
       "     \"</ul>\\n\"+\n",
       "     \"<code>\\n\"+\n",
       "     \"from bokeh.resources import INLINE\\n\"+\n",
       "     \"output_notebook(resources=INLINE)\\n\"+\n",
       "     \"</code>\\n\"+\n",
       "     \"</div>\"}};\n",
       "\n",
       "  function display_loaded() {\n",
       "    var el = document.getElementById(\"ef4ffe4c-0b92-41bb-b83b-8227b278c64c\");\n",
       "    if (el != null) {\n",
       "      el.textContent = \"BokehJS is loading...\";\n",
       "    }\n",
       "    if (root.Bokeh !== undefined) {\n",
       "      if (el != null) {\n",
       "        el.textContent = \"BokehJS \" + root.Bokeh.version + \" successfully loaded.\";\n",
       "      }\n",
       "    } else if (Date.now() < root._bokeh_timeout) {\n",
       "      setTimeout(display_loaded, 100)\n",
       "    }\n",
       "  }\n",
       "\n",
       "\n",
       "  function run_callbacks() {\n",
       "    try {\n",
       "      root._bokeh_onload_callbacks.forEach(function(callback) { callback() });\n",
       "    }\n",
       "    finally {\n",
       "      delete root._bokeh_onload_callbacks\n",
       "    }\n",
       "    console.info(\"Bokeh: all callbacks have finished\");\n",
       "  }\n",
       "\n",
       "  function load_libs(js_urls, callback) {\n",
       "    root._bokeh_onload_callbacks.push(callback);\n",
       "    if (root._bokeh_is_loading > 0) {\n",
       "      console.log(\"Bokeh: BokehJS is being loaded, scheduling callback at\", now());\n",
       "      return null;\n",
       "    }\n",
       "    if (js_urls == null || js_urls.length === 0) {\n",
       "      run_callbacks();\n",
       "      return null;\n",
       "    }\n",
       "    console.log(\"Bokeh: BokehJS not loaded, scheduling load and callback at\", now());\n",
       "    root._bokeh_is_loading = js_urls.length;\n",
       "    for (var i = 0; i < js_urls.length; i++) {\n",
       "      var url = js_urls[i];\n",
       "      var s = document.createElement('script');\n",
       "      s.src = url;\n",
       "      s.async = false;\n",
       "      s.onreadystatechange = s.onload = function() {\n",
       "        root._bokeh_is_loading--;\n",
       "        if (root._bokeh_is_loading === 0) {\n",
       "          console.log(\"Bokeh: all BokehJS libraries loaded\");\n",
       "          run_callbacks()\n",
       "        }\n",
       "      };\n",
       "      s.onerror = function() {\n",
       "        console.warn(\"failed to load library \" + url);\n",
       "      };\n",
       "      console.log(\"Bokeh: injecting script tag for BokehJS library: \", url);\n",
       "      document.getElementsByTagName(\"head\")[0].appendChild(s);\n",
       "    }\n",
       "  };var element = document.getElementById(\"ef4ffe4c-0b92-41bb-b83b-8227b278c64c\");\n",
       "  if (element == null) {\n",
       "    console.log(\"Bokeh: ERROR: autoload.js configured with elementid 'ef4ffe4c-0b92-41bb-b83b-8227b278c64c' but no matching script tag was found. \")\n",
       "    return false;\n",
       "  }\n",
       "\n",
       "  var js_urls = [\"https://cdn.pydata.org/bokeh/release/bokeh-0.13.0.min.js\", \"https://cdn.pydata.org/bokeh/release/bokeh-widgets-0.13.0.min.js\", \"https://cdn.pydata.org/bokeh/release/bokeh-tables-0.13.0.min.js\", \"https://cdn.pydata.org/bokeh/release/bokeh-gl-0.13.0.min.js\"];\n",
       "\n",
       "  var inline_js = [\n",
       "    function(Bokeh) {\n",
       "      Bokeh.set_log_level(\"info\");\n",
       "    },\n",
       "    \n",
       "    function(Bokeh) {\n",
       "      \n",
       "    },\n",
       "    function(Bokeh) {\n",
       "      console.log(\"Bokeh: injecting CSS: https://cdn.pydata.org/bokeh/release/bokeh-0.13.0.min.css\");\n",
       "      Bokeh.embed.inject_css(\"https://cdn.pydata.org/bokeh/release/bokeh-0.13.0.min.css\");\n",
       "      console.log(\"Bokeh: injecting CSS: https://cdn.pydata.org/bokeh/release/bokeh-widgets-0.13.0.min.css\");\n",
       "      Bokeh.embed.inject_css(\"https://cdn.pydata.org/bokeh/release/bokeh-widgets-0.13.0.min.css\");\n",
       "      console.log(\"Bokeh: injecting CSS: https://cdn.pydata.org/bokeh/release/bokeh-tables-0.13.0.min.css\");\n",
       "      Bokeh.embed.inject_css(\"https://cdn.pydata.org/bokeh/release/bokeh-tables-0.13.0.min.css\");\n",
       "    }\n",
       "  ];\n",
       "\n",
       "  function run_inline_js() {\n",
       "    \n",
       "    if ((root.Bokeh !== undefined) || (force === true)) {\n",
       "      for (var i = 0; i < inline_js.length; i++) {\n",
       "        inline_js[i].call(root, root.Bokeh);\n",
       "      }if (force === true) {\n",
       "        display_loaded();\n",
       "      }} else if (Date.now() < root._bokeh_timeout) {\n",
       "      setTimeout(run_inline_js, 100);\n",
       "    } else if (!root._bokeh_failed_load) {\n",
       "      console.log(\"Bokeh: BokehJS failed to load within specified timeout.\");\n",
       "      root._bokeh_failed_load = true;\n",
       "    } else if (force !== true) {\n",
       "      var cell = $(document.getElementById(\"ef4ffe4c-0b92-41bb-b83b-8227b278c64c\")).parents('.cell').data().cell;\n",
       "      cell.output_area.append_execute_result(NB_LOAD_WARNING)\n",
       "    }\n",
       "\n",
       "  }\n",
       "\n",
       "  if (root._bokeh_is_loading === 0) {\n",
       "    console.log(\"Bokeh: BokehJS loaded, going straight to plotting\");\n",
       "    run_inline_js();\n",
       "  } else {\n",
       "    load_libs(js_urls, function() {\n",
       "      console.log(\"Bokeh: BokehJS plotting callback run at\", now());\n",
       "      run_inline_js();\n",
       "    });\n",
       "  }\n",
       "}(window));"
      ],
      "application/vnd.bokehjs_load.v0+json": "\n(function(root) {\n  function now() {\n    return new Date();\n  }\n\n  var force = true;\n\n  if (typeof (root._bokeh_onload_callbacks) === \"undefined\" || force === true) {\n    root._bokeh_onload_callbacks = [];\n    root._bokeh_is_loading = undefined;\n  }\n\n  \n\n  \n  if (typeof (root._bokeh_timeout) === \"undefined\" || force === true) {\n    root._bokeh_timeout = Date.now() + 5000;\n    root._bokeh_failed_load = false;\n  }\n\n  var NB_LOAD_WARNING = {'data': {'text/html':\n     \"<div style='background-color: #fdd'>\\n\"+\n     \"<p>\\n\"+\n     \"BokehJS does not appear to have successfully loaded. If loading BokehJS from CDN, this \\n\"+\n     \"may be due to a slow or bad network connection. Possible fixes:\\n\"+\n     \"</p>\\n\"+\n     \"<ul>\\n\"+\n     \"<li>re-rerun `output_notebook()` to attempt to load from CDN again, or</li>\\n\"+\n     \"<li>use INLINE resources instead, as so:</li>\\n\"+\n     \"</ul>\\n\"+\n     \"<code>\\n\"+\n     \"from bokeh.resources import INLINE\\n\"+\n     \"output_notebook(resources=INLINE)\\n\"+\n     \"</code>\\n\"+\n     \"</div>\"}};\n\n  function display_loaded() {\n    var el = document.getElementById(\"ef4ffe4c-0b92-41bb-b83b-8227b278c64c\");\n    if (el != null) {\n      el.textContent = \"BokehJS is loading...\";\n    }\n    if (root.Bokeh !== undefined) {\n      if (el != null) {\n        el.textContent = \"BokehJS \" + root.Bokeh.version + \" successfully loaded.\";\n      }\n    } else if (Date.now() < root._bokeh_timeout) {\n      setTimeout(display_loaded, 100)\n    }\n  }\n\n\n  function run_callbacks() {\n    try {\n      root._bokeh_onload_callbacks.forEach(function(callback) { callback() });\n    }\n    finally {\n      delete root._bokeh_onload_callbacks\n    }\n    console.info(\"Bokeh: all callbacks have finished\");\n  }\n\n  function load_libs(js_urls, callback) {\n    root._bokeh_onload_callbacks.push(callback);\n    if (root._bokeh_is_loading > 0) {\n      console.log(\"Bokeh: BokehJS is being loaded, scheduling callback at\", now());\n      return null;\n    }\n    if (js_urls == null || js_urls.length === 0) {\n      run_callbacks();\n      return null;\n    }\n    console.log(\"Bokeh: BokehJS not loaded, scheduling load and callback at\", now());\n    root._bokeh_is_loading = js_urls.length;\n    for (var i = 0; i < js_urls.length; i++) {\n      var url = js_urls[i];\n      var s = document.createElement('script');\n      s.src = url;\n      s.async = false;\n      s.onreadystatechange = s.onload = function() {\n        root._bokeh_is_loading--;\n        if (root._bokeh_is_loading === 0) {\n          console.log(\"Bokeh: all BokehJS libraries loaded\");\n          run_callbacks()\n        }\n      };\n      s.onerror = function() {\n        console.warn(\"failed to load library \" + url);\n      };\n      console.log(\"Bokeh: injecting script tag for BokehJS library: \", url);\n      document.getElementsByTagName(\"head\")[0].appendChild(s);\n    }\n  };var element = document.getElementById(\"ef4ffe4c-0b92-41bb-b83b-8227b278c64c\");\n  if (element == null) {\n    console.log(\"Bokeh: ERROR: autoload.js configured with elementid 'ef4ffe4c-0b92-41bb-b83b-8227b278c64c' but no matching script tag was found. \")\n    return false;\n  }\n\n  var js_urls = [\"https://cdn.pydata.org/bokeh/release/bokeh-0.13.0.min.js\", \"https://cdn.pydata.org/bokeh/release/bokeh-widgets-0.13.0.min.js\", \"https://cdn.pydata.org/bokeh/release/bokeh-tables-0.13.0.min.js\", \"https://cdn.pydata.org/bokeh/release/bokeh-gl-0.13.0.min.js\"];\n\n  var inline_js = [\n    function(Bokeh) {\n      Bokeh.set_log_level(\"info\");\n    },\n    \n    function(Bokeh) {\n      \n    },\n    function(Bokeh) {\n      console.log(\"Bokeh: injecting CSS: https://cdn.pydata.org/bokeh/release/bokeh-0.13.0.min.css\");\n      Bokeh.embed.inject_css(\"https://cdn.pydata.org/bokeh/release/bokeh-0.13.0.min.css\");\n      console.log(\"Bokeh: injecting CSS: https://cdn.pydata.org/bokeh/release/bokeh-widgets-0.13.0.min.css\");\n      Bokeh.embed.inject_css(\"https://cdn.pydata.org/bokeh/release/bokeh-widgets-0.13.0.min.css\");\n      console.log(\"Bokeh: injecting CSS: https://cdn.pydata.org/bokeh/release/bokeh-tables-0.13.0.min.css\");\n      Bokeh.embed.inject_css(\"https://cdn.pydata.org/bokeh/release/bokeh-tables-0.13.0.min.css\");\n    }\n  ];\n\n  function run_inline_js() {\n    \n    if ((root.Bokeh !== undefined) || (force === true)) {\n      for (var i = 0; i < inline_js.length; i++) {\n        inline_js[i].call(root, root.Bokeh);\n      }if (force === true) {\n        display_loaded();\n      }} else if (Date.now() < root._bokeh_timeout) {\n      setTimeout(run_inline_js, 100);\n    } else if (!root._bokeh_failed_load) {\n      console.log(\"Bokeh: BokehJS failed to load within specified timeout.\");\n      root._bokeh_failed_load = true;\n    } else if (force !== true) {\n      var cell = $(document.getElementById(\"ef4ffe4c-0b92-41bb-b83b-8227b278c64c\")).parents('.cell').data().cell;\n      cell.output_area.append_execute_result(NB_LOAD_WARNING)\n    }\n\n  }\n\n  if (root._bokeh_is_loading === 0) {\n    console.log(\"Bokeh: BokehJS loaded, going straight to plotting\");\n    run_inline_js();\n  } else {\n    load_libs(js_urls, function() {\n      console.log(\"Bokeh: BokehJS plotting callback run at\", now());\n      run_inline_js();\n    });\n  }\n}(window));"
     },
     "metadata": {},
     "output_type": "display_data"
    }
   ],
   "source": [
    "from pprint import pprint\n",
    "from bokeh.io import output_notebook, show\n",
    "from bokeh.layouts import gridplot\n",
    "from bokeh.models import Span\n",
    "from bokeh.plotting import figure, show, output_file\n",
    "import pandas as pd\n",
    "import os , sys, time\n",
    "output_notebook()"
   ]
  },
  {
   "cell_type": "code",
   "execution_count": 3,
   "metadata": {},
   "outputs": [],
   "source": [
    "local_path=os.getcwd()\n",
    "sys.path.append(local_path)\n",
    "import plotting"
   ]
  },
  {
   "cell_type": "markdown",
   "metadata": {},
   "source": [
    "---"
   ]
  },
  {
   "cell_type": "code",
   "execution_count": 4,
   "metadata": {},
   "outputs": [
    {
     "name": "stderr",
     "output_type": "stream",
     "text": [
      "2019-06-11 18:42:58 Hail: INFO: 1KG files found\n"
     ]
    }
   ],
   "source": [
    "# Load data from the 1K-Genome project\n",
    "hl.utils.get_1kg('data/')"
   ]
  },
  {
   "cell_type": "code",
   "execution_count": 5,
   "metadata": {},
   "outputs": [],
   "source": [
    "# Read data into a matrix table \n",
    "mt = hl.read_matrix_table('data/1kg.mt/')"
   ]
  },
  {
   "cell_type": "code",
   "execution_count": 51,
   "metadata": {},
   "outputs": [
    {
     "data": {
      "text/plain": [
       "hail.matrixtable.MatrixTable"
      ]
     },
     "execution_count": 51,
     "metadata": {},
     "output_type": "execute_result"
    }
   ],
   "source": [
    "type(mt)"
   ]
  },
  {
   "cell_type": "code",
   "execution_count": 53,
   "metadata": {},
   "outputs": [
    {
     "name": "stdout",
     "output_type": "stream",
     "text": [
      "----------------------------------------\n",
      "Global fields:\n",
      "    None\n",
      "----------------------------------------\n",
      "Column fields:\n",
      "    's': str\n",
      "    'pheno': struct {\n",
      "        Population: str, \n",
      "        SuperPopulation: str, \n",
      "        isFemale: bool, \n",
      "        PurpleHair: bool, \n",
      "        CaffeineConsumption: int32\n",
      "    }\n",
      "    'sample_qc': struct {\n",
      "        dp_stats: struct {\n",
      "            mean: float64, \n",
      "            stdev: float64, \n",
      "            min: float64, \n",
      "            max: float64\n",
      "        }, \n",
      "        gq_stats: struct {\n",
      "            mean: float64, \n",
      "            stdev: float64, \n",
      "            min: float64, \n",
      "            max: float64\n",
      "        }, \n",
      "        call_rate: float64, \n",
      "        n_called: int64, \n",
      "        n_not_called: int64, \n",
      "        n_filtered: int64, \n",
      "        n_hom_ref: int64, \n",
      "        n_het: int64, \n",
      "        n_hom_var: int64, \n",
      "        n_non_ref: int64, \n",
      "        n_singleton: int64, \n",
      "        n_snp: int64, \n",
      "        n_insertion: int64, \n",
      "        n_deletion: int64, \n",
      "        n_transition: int64, \n",
      "        n_transversion: int64, \n",
      "        n_star: int64, \n",
      "        r_ti_tv: float64, \n",
      "        r_het_hom_var: float64, \n",
      "        r_insertion_deletion: float64\n",
      "    }\n",
      "    'pca': struct {\n",
      "        scores: array<float64>\n",
      "    }\n",
      "----------------------------------------\n",
      "Row fields:\n",
      "    'locus': locus<GRCh37>\n",
      "    'alleles': array<str>\n",
      "    'rsid': str\n",
      "    'qual': float64\n",
      "    'filters': set<str>\n",
      "    'info': struct {\n",
      "        AC: array<int32>, \n",
      "        AF: array<float64>, \n",
      "        AN: int32, \n",
      "        BaseQRankSum: float64, \n",
      "        ClippingRankSum: float64, \n",
      "        DP: int32, \n",
      "        DS: bool, \n",
      "        FS: float64, \n",
      "        HaplotypeScore: float64, \n",
      "        InbreedingCoeff: float64, \n",
      "        MLEAC: array<int32>, \n",
      "        MLEAF: array<float64>, \n",
      "        MQ: float64, \n",
      "        MQ0: int32, \n",
      "        MQRankSum: float64, \n",
      "        QD: float64, \n",
      "        ReadPosRankSum: float64, \n",
      "        set: str\n",
      "    }\n",
      "    'variant_qc': struct {\n",
      "        dp_stats: struct {\n",
      "            mean: float64, \n",
      "            stdev: float64, \n",
      "            min: float64, \n",
      "            max: float64\n",
      "        }, \n",
      "        gq_stats: struct {\n",
      "            mean: float64, \n",
      "            stdev: float64, \n",
      "            min: float64, \n",
      "            max: float64\n",
      "        }, \n",
      "        AC: array<int32>, \n",
      "        AF: array<float64>, \n",
      "        AN: int32, \n",
      "        homozygote_count: array<int32>, \n",
      "        call_rate: float64, \n",
      "        n_called: int64, \n",
      "        n_not_called: int64, \n",
      "        n_filtered: int64, \n",
      "        n_het: int64, \n",
      "        n_non_ref: int64, \n",
      "        het_freq_hwe: float64, \n",
      "        p_value_hwe: float64\n",
      "    }\n",
      "----------------------------------------\n",
      "Entry fields:\n",
      "    'GT': call\n",
      "    'AD': array<int32>\n",
      "    'DP': int32\n",
      "    'GQ': int32\n",
      "    'PL': array<int32>\n",
      "----------------------------------------\n",
      "Column key: ['s']\n",
      "Row key: ['locus', 'alleles']\n",
      "----------------------------------------\n"
     ]
    }
   ],
   "source": [
    "# the describe function displays the variables in the matrix table and the corresponding data type\n",
    "mt.describe()"
   ]
  },
  {
   "cell_type": "code",
   "execution_count": 7,
   "metadata": {},
   "outputs": [
    {
     "name": "stdout",
     "output_type": "stream",
     "text": [
      "+---------------+------------+----------+\n",
      "| locus         | alleles    |     qual |\n",
      "+---------------+------------+----------+\n",
      "| locus<GRCh37> | array<str> |  float64 |\n",
      "+---------------+------------+----------+\n",
      "| 1:904165      | [\"G\",\"A\"]  | 5.23e+04 |\n",
      "| 1:909917      | [\"G\",\"A\"]  | 1.58e+03 |\n",
      "| 1:986963      | [\"C\",\"T\"]  | 3.98e+02 |\n",
      "| 1:1563691     | [\"T\",\"G\"]  | 1.09e+03 |\n",
      "| 1:1707740     | [\"T\",\"G\"]  | 9.35e+04 |\n",
      "| 1:2252970     | [\"C\",\"T\"]  | 7.36e+02 |\n",
      "| 1:2284195     | [\"T\",\"C\"]  | 1.42e+05 |\n",
      "| 1:2779043     | [\"T\",\"C\"]  | 2.89e+05 |\n",
      "| 1:2944527     | [\"G\",\"A\"]  | 1.24e+05 |\n",
      "| 1:3761547     | [\"C\",\"A\"]  | 1.61e+03 |\n",
      "+---------------+------------+----------+\n",
      "showing top 10 rows\n",
      "\n"
     ]
    }
   ],
   "source": [
    "mt.qual.show()"
   ]
  },
  {
   "cell_type": "code",
   "execution_count": 8,
   "metadata": {},
   "outputs": [
    {
     "name": "stdout",
     "output_type": "stream",
     "text": [
      "+---------------+------------+-----------+--------------+\n",
      "| locus         | alleles    | s         | AD           |\n",
      "+---------------+------------+-----------+--------------+\n",
      "| locus<GRCh37> | array<str> | str       | array<int32> |\n",
      "+---------------+------------+-----------+--------------+\n",
      "| 1:904165      | [\"G\",\"A\"]  | \"HG00096\" | [4,0]        |\n",
      "| 1:904165      | [\"G\",\"A\"]  | \"HG00099\" | [8,0]        |\n",
      "| 1:904165      | [\"G\",\"A\"]  | \"HG00105\" | [8,0]        |\n",
      "| 1:904165      | [\"G\",\"A\"]  | \"HG00118\" | [7,0]        |\n",
      "| 1:904165      | [\"G\",\"A\"]  | \"HG00129\" | [5,0]        |\n",
      "| 1:904165      | [\"G\",\"A\"]  | \"HG00148\" | [4,0]        |\n",
      "| 1:904165      | [\"G\",\"A\"]  | \"HG00177\" | [2,0]        |\n",
      "| 1:904165      | [\"G\",\"A\"]  | \"HG00182\" | [5,0]        |\n",
      "| 1:904165      | [\"G\",\"A\"]  | \"HG00242\" | [5,0]        |\n",
      "| 1:904165      | [\"G\",\"A\"]  | \"HG00254\" | [13,0]       |\n",
      "+---------------+------------+-----------+--------------+\n",
      "showing top 10 rows\n",
      "\n"
     ]
    }
   ],
   "source": [
    "mt.AD.show()"
   ]
  },
  {
   "cell_type": "code",
   "execution_count": 9,
   "metadata": {},
   "outputs": [
    {
     "name": "stderr",
     "output_type": "stream",
     "text": [
      "2019-06-11 18:43:02 Hail: WARN: entries(): Resulting entries table is sorted by '(row_key, col_key)'.\n",
      "    To preserve row-major matrix table order, first unkey columns with 'key_cols_by()'\n"
     ]
    },
    {
     "name": "stdout",
     "output_type": "stream",
     "text": [
      "+---------------+------------+-----------+------+--------------+-------+-------+\n",
      "| locus         | alleles    | s         | GT   | AD           |    DP |    GQ |\n",
      "+---------------+------------+-----------+------+--------------+-------+-------+\n",
      "| locus<GRCh37> | array<str> | str       | call | array<int32> | int32 | int32 |\n",
      "+---------------+------------+-----------+------+--------------+-------+-------+\n",
      "| 1:904165      | [\"G\",\"A\"]  | \"HG00096\" | 0/0  | [4,0]        |     4 |    12 |\n",
      "| 1:904165      | [\"G\",\"A\"]  | \"HG00099\" | 0/0  | [8,0]        |     8 |    24 |\n",
      "| 1:904165      | [\"G\",\"A\"]  | \"HG00105\" | 0/0  | [8,0]        |     8 |    23 |\n",
      "| 1:904165      | [\"G\",\"A\"]  | \"HG00118\" | 0/0  | [7,0]        |     7 |    21 |\n",
      "| 1:904165      | [\"G\",\"A\"]  | \"HG00129\" | 0/0  | [5,0]        |     5 |    15 |\n",
      "| 1:904165      | [\"G\",\"A\"]  | \"HG00148\" | 0/0  | [4,0]        |     4 |    11 |\n",
      "| 1:904165      | [\"G\",\"A\"]  | \"HG00177\" | 0/0  | [2,0]        |     2 |     6 |\n",
      "| 1:904165      | [\"G\",\"A\"]  | \"HG00182\" | 0/0  | [5,0]        |     5 |    14 |\n",
      "| 1:904165      | [\"G\",\"A\"]  | \"HG00242\" | 0/0  | [5,0]        |     5 |    15 |\n",
      "| 1:904165      | [\"G\",\"A\"]  | \"HG00254\" | 0/0  | [13,0]       |    13 |    39 |\n",
      "+---------------+------------+-----------+------+--------------+-------+-------+\n",
      "\n",
      "+--------------+\n",
      "| PL           |\n",
      "+--------------+\n",
      "| array<int32> |\n",
      "+--------------+\n",
      "| [0,12,147]   |\n",
      "| [0,24,315]   |\n",
      "| [0,23,230]   |\n",
      "| [0,21,270]   |\n",
      "| [0,15,205]   |\n",
      "| [0,11,88]    |\n",
      "| [0,6,58]     |\n",
      "| [0,14,138]   |\n",
      "| [0,15,189]   |\n",
      "| [0,39,405]   |\n",
      "+--------------+\n",
      "showing top 10 rows\n",
      "\n"
     ]
    }
   ],
   "source": [
    "mt.entry.show()"
   ]
  },
  {
   "cell_type": "code",
   "execution_count": 10,
   "metadata": {},
   "outputs": [
    {
     "name": "stdout",
     "output_type": "stream",
     "text": [
      "==============================\n",
      "Number of variants: 10961\n",
      "==============================\n",
      "Alleles per variant\n",
      "-------------------\n",
      "  2 alleles: 10961 variants\n",
      "==============================\n",
      "Variants per contig\n",
      "-------------------\n",
      "   1: 919 variants\n",
      "   2: 848 variants\n",
      "   3: 745 variants\n",
      "   4: 641 variants\n",
      "   5: 650 variants\n",
      "   6: 676 variants\n",
      "   7: 546 variants\n",
      "   8: 512 variants\n",
      "   9: 420 variants\n",
      "  10: 535 variants\n",
      "  11: 579 variants\n",
      "  12: 569 variants\n",
      "  13: 338 variants\n",
      "  14: 341 variants\n",
      "  15: 345 variants\n",
      "  16: 384 variants\n",
      "  17: 354 variants\n",
      "  18: 301 variants\n",
      "  19: 346 variants\n",
      "  20: 314 variants\n",
      "  21: 153 variants\n",
      "  22: 172 variants\n",
      "   X: 273 variants\n",
      "==============================\n",
      "Allele type distribution\n",
      "------------------------\n",
      "  SNP: 10961 alternate alleles\n",
      "==============================\n"
     ]
    }
   ],
   "source": [
    "hl.summarize_variants(mt)"
   ]
  },
  {
   "cell_type": "code",
   "execution_count": 11,
   "metadata": {},
   "outputs": [
    {
     "data": {
      "text/plain": [
       "76"
      ]
     },
     "execution_count": 11,
     "metadata": {},
     "output_type": "execute_result"
    }
   ],
   "source": [
    "mt.aggregate_rows(hl.agg.count_where(mt.alleles==['A','T']))"
   ]
  },
  {
   "cell_type": "code",
   "execution_count": 12,
   "metadata": {},
   "outputs": [
    {
     "data": {
      "text/plain": [
       "[(['A', 'C'], 454),\n",
       " (['A', 'G'], 1944),\n",
       " (['A', 'T'], 76),\n",
       " (['C', 'A'], 496),\n",
       " (['C', 'G'], 150),\n",
       " (['C', 'T'], 2436),\n",
       " (['G', 'A'], 2387),\n",
       " (['G', 'C'], 112),\n",
       " (['G', 'T'], 480),\n",
       " (['T', 'A'], 79),\n",
       " (['T', 'C'], 1879),\n",
       " (['T', 'G'], 468)]"
      ]
     },
     "execution_count": 12,
     "metadata": {},
     "output_type": "execute_result"
    }
   ],
   "source": [
    "snp_counts = mt.aggregate_rows(\n",
    "    hl.array(hl.agg.counter(mt.alleles)))\n",
    "snp_counts"
   ]
  },
  {
   "cell_type": "code",
   "execution_count": 13,
   "metadata": {},
   "outputs": [
    {
     "data": {
      "text/plain": [
       "list"
      ]
     },
     "execution_count": 13,
     "metadata": {},
     "output_type": "execute_result"
    }
   ],
   "source": [
    "type(snp_counts)"
   ]
  },
  {
   "cell_type": "code",
   "execution_count": 14,
   "metadata": {},
   "outputs": [
    {
     "data": {
      "text/plain": [
       "[(['A', 'T'], 76),\n",
       " (['T', 'A'], 79),\n",
       " (['G', 'C'], 112),\n",
       " (['C', 'G'], 150),\n",
       " (['A', 'C'], 454),\n",
       " (['T', 'G'], 468),\n",
       " (['G', 'T'], 480),\n",
       " (['C', 'A'], 496),\n",
       " (['T', 'C'], 1879),\n",
       " (['A', 'G'], 1944),\n",
       " (['G', 'A'], 2387),\n",
       " (['C', 'T'], 2436)]"
      ]
     },
     "execution_count": 14,
     "metadata": {},
     "output_type": "execute_result"
    }
   ],
   "source": [
    "sorted(snp_counts, key=lambda x: x[1])"
   ]
  },
  {
   "cell_type": "code",
   "execution_count": 15,
   "metadata": {},
   "outputs": [
    {
     "data": {
      "text/plain": [
       "Struct(mean=31.615375548446487, stdev=26.43319099327883, min=0.0, max=99.0, n=3071175, sum=97096351.00000013)"
      ]
     },
     "execution_count": 15,
     "metadata": {},
     "output_type": "execute_result"
    }
   ],
   "source": [
    "mt.aggregate_entries(hl.agg.stats(mt.GQ))"
   ]
  },
  {
   "cell_type": "code",
   "execution_count": 16,
   "metadata": {},
   "outputs": [
    {
     "data": {
      "text/plain": [
       "Struct(mean=21.375053986005035, stdev=12.816819465406763, min=0.0, max=99.0, n=1741192, sum=37218073.00000008)"
      ]
     },
     "execution_count": 16,
     "metadata": {},
     "output_type": "execute_result"
    }
   ],
   "source": [
    "mt.aggregate_entries(\n",
    "    hl.agg.filter(mt.GT.is_hom_ref(),hl.agg.stats(mt.GQ)))"
   ]
  },
  {
   "cell_type": "code",
   "execution_count": 17,
   "metadata": {},
   "outputs": [
    {
     "data": {
      "text/plain": [
       "\u001b[0;31mSignature:\u001b[0m \u001b[0mhl\u001b[0m\u001b[0;34m.\u001b[0m\u001b[0magg\u001b[0m\u001b[0;34m.\u001b[0m\u001b[0mstats\u001b[0m\u001b[0;34m(\u001b[0m\u001b[0mexpr\u001b[0m\u001b[0;34m)\u001b[0m \u001b[0;34m->\u001b[0m \u001b[0mhail\u001b[0m\u001b[0;34m.\u001b[0m\u001b[0mexpr\u001b[0m\u001b[0;34m.\u001b[0m\u001b[0mexpressions\u001b[0m\u001b[0;34m.\u001b[0m\u001b[0mtyped_expressions\u001b[0m\u001b[0;34m.\u001b[0m\u001b[0mStructExpression\u001b[0m\u001b[0;34m\u001b[0m\u001b[0;34m\u001b[0m\u001b[0m\n",
       "\u001b[0;31mDocstring:\u001b[0m\n",
       "Compute a number of useful statistics about `expr`.\n",
       "\n",
       "Examples\n",
       "--------\n",
       "Compute statistics about field `HT`:\n",
       "\n",
       ">>> table1.aggregate(hl.agg.stats(table1.HT))  #doctest: +SKIP\n",
       "Struct(mean=66.75, stdev=4.656984002549289, min=60.0, max=72.0, n=4, sum=267.0)\n",
       "\n",
       "Notes\n",
       "-----\n",
       "Computes a struct with the following fields:\n",
       "\n",
       "- `min` (:py:data:`.tfloat64`) - Minimum value.\n",
       "- `max` (:py:data:`.tfloat64`) - Maximum value.\n",
       "- `mean` (:py:data:`.tfloat64`) - Mean value,\n",
       "- `stdev` (:py:data:`.tfloat64`) - Standard deviation.\n",
       "- `n` (:py:data:`.tfloat64`) - Number of non-missing records.\n",
       "- `sum` (:py:data:`.tfloat64`) - Sum.\n",
       "\n",
       "Parameters\n",
       "----------\n",
       "expr : :class:`.NumericExpression`\n",
       "    Numeric expression.\n",
       "\n",
       "Returns\n",
       "-------\n",
       ":class:`.StructExpression`\n",
       "    Struct expression with fields `mean`, `stdev`, `min`, `max`,\n",
       "    `n`, and `sum`.\n",
       "\u001b[0;31mFile:\u001b[0m      ~/anaconda3/envs/hail/lib/python3.7/site-packages/hail/expr/aggregators/aggregators.py\n",
       "\u001b[0;31mType:\u001b[0m      function\n"
      ]
     },
     "metadata": {},
     "output_type": "display_data"
    }
   ],
   "source": [
    "hl.agg.stats?\n"
   ]
  },
  {
   "cell_type": "code",
   "execution_count": 18,
   "metadata": {},
   "outputs": [
    {
     "data": {
      "text/plain": [
       "Struct(mean=45.02183712122629, stdev=32.884305900975264, min=0.0, max=99.0, n=1329983, sum=59878277.9999999)"
      ]
     },
     "execution_count": 18,
     "metadata": {},
     "output_type": "execute_result"
    }
   ],
   "source": [
    "mt.aggregate_entries(\n",
    "    hl.agg.filter(~mt.GT.is_hom_ref(),hl.agg.stats(mt.GQ)))"
   ]
  },
  {
   "cell_type": "code",
   "execution_count": 19,
   "metadata": {},
   "outputs": [
    {
     "data": {
      "text/plain": [
       "Struct(mean=64.17925188032767, stdev=30.95098184366669, min=0.0, max=99.0, n=747875, sum=47998058.00000005)"
      ]
     },
     "execution_count": 19,
     "metadata": {},
     "output_type": "execute_result"
    }
   ],
   "source": [
    "mt.aggregate_entries(\n",
    "    hl.agg.filter(mt.GT.is_het(),hl.agg.stats(mt.GQ)))"
   ]
  },
  {
   "cell_type": "code",
   "execution_count": 20,
   "metadata": {},
   "outputs": [],
   "source": [
    "p=hl.plot.histogram(mt.GQ, bins=100)"
   ]
  },
  {
   "cell_type": "code",
   "execution_count": 21,
   "metadata": {},
   "outputs": [
    {
     "data": {
      "text/html": [
       "\n",
       "\n",
       "\n",
       "\n",
       "\n",
       "\n",
       "  <div class=\"bk-root\" id=\"2128f176-e167-47a3-8652-7bd912f8844f\"></div>\n"
      ]
     },
     "metadata": {},
     "output_type": "display_data"
    },
    {
     "data": {
      "application/javascript": [
       "(function(root) {\n",
       "  function embed_document(root) {\n",
       "    \n",
       "  var docs_json = {\"da33c1b2-7329-4a12-8851-fb40d8a28dfa\":{\"roots\":{\"references\":[{\"attributes\":{\"active_drag\":\"auto\",\"active_inspect\":\"auto\",\"active_multi\":null,\"active_scroll\":\"auto\",\"active_tap\":\"auto\",\"tools\":[{\"id\":\"b70ffa47-f446-4d3b-a674-fd6d86366730\",\"type\":\"PanTool\"},{\"id\":\"b09085be-e7c5-45d7-af48-3d47c9d212f4\",\"type\":\"WheelZoomTool\"},{\"id\":\"23d808a4-0c4a-429d-b6d0-9e5af621e301\",\"type\":\"BoxZoomTool\"},{\"id\":\"e7acebc7-1aa3-4d7d-b903-8b45d92fe558\",\"type\":\"SaveTool\"},{\"id\":\"26fdfe04-41fc-4183-93c6-63f30e289140\",\"type\":\"ResetTool\"},{\"id\":\"00cb106d-406c-4c80-a598-ea470eb00cf8\",\"type\":\"HelpTool\"}]},\"id\":\"8f379954-f396-4f93-83e2-fd7ec8fe1e89\",\"type\":\"Toolbar\"},{\"attributes\":{\"dimension\":1,\"plot\":{\"id\":\"b8bbaf1b-3044-40cd-8e98-79649e34bf19\",\"subtype\":\"Figure\",\"type\":\"Plot\"},\"ticker\":{\"id\":\"52f59acc-1e66-48fd-84c9-4ad1e79d37d2\",\"type\":\"BasicTicker\"}},\"id\":\"25297b4a-dd71-4d1b-bd8c-c5d2e17e413e\",\"type\":\"Grid\"},{\"attributes\":{\"plot\":{\"id\":\"b8bbaf1b-3044-40cd-8e98-79649e34bf19\",\"subtype\":\"Figure\",\"type\":\"Plot\"},\"ticker\":{\"id\":\"e33ec7a3-3c0a-4bc6-be25-31e169d8ff06\",\"type\":\"BasicTicker\"}},\"id\":\"9ad6a174-c8de-4d9c-b74e-a633b1eebc23\",\"type\":\"Grid\"},{\"attributes\":{},\"id\":\"816bc902-0117-465a-93de-8ce5d823f5e9\",\"type\":\"BasicTickFormatter\"},{\"attributes\":{\"overlay\":{\"id\":\"22f11a49-2759-48f5-ae95-275159d715d6\",\"type\":\"BoxAnnotation\"}},\"id\":\"23d808a4-0c4a-429d-b6d0-9e5af621e301\",\"type\":\"BoxZoomTool\"},{\"attributes\":{},\"id\":\"0184cd3d-6ce7-467c-809f-5d559a29b602\",\"type\":\"BasicTickFormatter\"},{\"attributes\":{\"data_source\":{\"id\":\"e1fb9c34-c535-426c-b2d1-50ff0042c976\",\"type\":\"ColumnDataSource\"},\"glyph\":{\"id\":\"4423bfad-1550-45bc-8b0e-3c3330fadd41\",\"type\":\"Quad\"},\"hover_glyph\":null,\"muted_glyph\":null,\"nonselection_glyph\":{\"id\":\"7204fa85-015d-4eb0-b2bd-cf2572c00175\",\"type\":\"Quad\"},\"selection_glyph\":null,\"view\":{\"id\":\"101a76bf-1302-44ca-a0a0-1a3e84783063\",\"type\":\"CDSView\"}},\"id\":\"66178d4e-3d16-4605-a67c-c8308d0527df\",\"type\":\"GlyphRenderer\"},{\"attributes\":{},\"id\":\"26fdfe04-41fc-4183-93c6-63f30e289140\",\"type\":\"ResetTool\"},{\"attributes\":{\"callback\":null,\"data\":{\"left\":[0.0,0.99,1.98,2.9699999999999998,3.96,4.95,5.9399999999999995,6.93,7.92,8.91,9.9,10.89,11.879999999999999,12.87,13.86,14.85,15.84,16.83,17.82,18.81,19.8,20.79,21.78,22.77,23.759999999999998,24.75,25.74,26.73,27.72,28.71,29.7,30.69,31.68,32.67,33.66,34.65,35.64,36.63,37.62,38.61,39.6,40.589999999999996,41.58,42.57,43.56,44.55,45.54,46.53,47.519999999999996,48.51,49.5,50.49,51.48,52.47,53.46,54.45,55.44,56.43,57.42,58.41,59.4,60.39,61.38,62.37,63.36,64.35,65.34,66.33,67.32,68.31,69.3,70.29,71.28,72.27,73.26,74.25,75.24,76.23,77.22,78.21,79.2,80.19,81.17999999999999,82.17,83.16,84.15,85.14,86.13,87.12,88.11,89.1,90.09,91.08,92.07,93.06,94.05,95.03999999999999,96.03,97.02,98.01],\"right\":[0.99,1.98,2.9699999999999998,3.96,4.95,5.9399999999999995,6.93,7.92,8.91,9.9,10.89,11.879999999999999,12.87,13.86,14.85,15.84,16.83,17.82,18.81,19.8,20.79,21.78,22.77,23.759999999999998,24.75,25.74,26.73,27.72,28.71,29.7,30.69,31.68,32.67,33.66,34.65,35.64,36.63,37.62,38.61,39.6,40.589999999999996,41.58,42.57,43.56,44.55,45.54,46.53,47.519999999999996,48.51,49.5,50.49,51.48,52.47,53.46,54.45,55.44,56.43,57.42,58.41,59.4,60.39,61.38,62.37,63.36,64.35,65.34,66.33,67.32,68.31,69.3,70.29,71.28,72.27,73.26,74.25,75.24,76.23,77.22,78.21,79.2,80.19,81.17999999999999,82.17,83.16,84.15,85.14,86.13,87.12,88.11,89.1,90.09,91.08,92.07,93.06,94.05,95.03999999999999,96.03,97.02,98.01,99.0],\"top\":[2230,2178,4943,105062,2846,9068,153880,4074,14172,191996,5591,19747,217348,7567,24302,224056,9535,28147,216918,11715,30985,200383,13781,31460,174556,15334,29767,147785,14761,27233,120145,12054,21465,92994,6983,14890,69394,4898,12100,52921,5380,11060,40761,5978,10255,32215,6743,10003,25878,7623,10429,21858,8530,10447,18608,9073,10785,16628,9308,10081,14194,8565,9038,11234,6923,6797,8318,4793,4807,6083,3706,3859,5369,3530,3851,5354,3931,4332,5240,4492,4917,5470,5146,5460,5741,5624,5602,5990,5835,5920,6020,5579,5525,5446,5059,4847,4713,4152,4038,214768]},\"selected\":{\"id\":\"0757c27b-e26c-4064-82ef-89b2d08557b0\",\"type\":\"Selection\"},\"selection_policy\":{\"id\":\"390dff42-bc71-43e6-ad7d-013bd3acb24f\",\"type\":\"UnionRenderers\"}},\"id\":\"e1fb9c34-c535-426c-b2d1-50ff0042c976\",\"type\":\"ColumnDataSource\"},{\"attributes\":{\"background_fill_color\":{\"value\":\"#EEEEEE\"},\"below\":[{\"id\":\"c0f1373a-e17e-45b3-a7fe-7580295a9857\",\"type\":\"LinearAxis\"}],\"left\":[{\"id\":\"36bb6f4e-7acc-49d7-ab93-0d31d32543cb\",\"type\":\"LinearAxis\"}],\"renderers\":[{\"id\":\"c0f1373a-e17e-45b3-a7fe-7580295a9857\",\"type\":\"LinearAxis\"},{\"id\":\"9ad6a174-c8de-4d9c-b74e-a633b1eebc23\",\"type\":\"Grid\"},{\"id\":\"36bb6f4e-7acc-49d7-ab93-0d31d32543cb\",\"type\":\"LinearAxis\"},{\"id\":\"25297b4a-dd71-4d1b-bd8c-c5d2e17e413e\",\"type\":\"Grid\"},{\"id\":\"22f11a49-2759-48f5-ae95-275159d715d6\",\"type\":\"BoxAnnotation\"},{\"id\":\"66178d4e-3d16-4605-a67c-c8308d0527df\",\"type\":\"GlyphRenderer\"}],\"title\":null,\"toolbar\":{\"id\":\"8f379954-f396-4f93-83e2-fd7ec8fe1e89\",\"type\":\"Toolbar\"},\"x_range\":{\"id\":\"abd39bca-ed08-44b0-98aa-2931d9f4dce8\",\"type\":\"Range1d\"},\"x_scale\":{\"id\":\"89b71593-dce9-49fe-9d70-99eda04cac05\",\"type\":\"LinearScale\"},\"y_range\":{\"id\":\"f6e8b604-5d0c-46d9-8d87-3c26832ee908\",\"type\":\"DataRange1d\"},\"y_scale\":{\"id\":\"def52492-1f06-446a-b533-e60a8379b316\",\"type\":\"LinearScale\"}},\"id\":\"b8bbaf1b-3044-40cd-8e98-79649e34bf19\",\"subtype\":\"Figure\",\"type\":\"Plot\"},{\"attributes\":{},\"id\":\"52f59acc-1e66-48fd-84c9-4ad1e79d37d2\",\"type\":\"BasicTicker\"},{\"attributes\":{},\"id\":\"b70ffa47-f446-4d3b-a674-fd6d86366730\",\"type\":\"PanTool\"},{\"attributes\":{\"bottom\":{\"value\":0},\"fill_color\":{\"value\":\"#1f77b4\"},\"left\":{\"field\":\"left\"},\"right\":{\"field\":\"right\"},\"top\":{\"field\":\"top\"}},\"id\":\"4423bfad-1550-45bc-8b0e-3c3330fadd41\",\"type\":\"Quad\"},{\"attributes\":{},\"id\":\"89b71593-dce9-49fe-9d70-99eda04cac05\",\"type\":\"LinearScale\"},{\"attributes\":{\"axis_label\":\"Frequency\",\"formatter\":{\"id\":\"0184cd3d-6ce7-467c-809f-5d559a29b602\",\"type\":\"BasicTickFormatter\"},\"plot\":{\"id\":\"b8bbaf1b-3044-40cd-8e98-79649e34bf19\",\"subtype\":\"Figure\",\"type\":\"Plot\"},\"ticker\":{\"id\":\"52f59acc-1e66-48fd-84c9-4ad1e79d37d2\",\"type\":\"BasicTicker\"}},\"id\":\"36bb6f4e-7acc-49d7-ab93-0d31d32543cb\",\"type\":\"LinearAxis\"},{\"attributes\":{\"bottom\":{\"value\":0},\"fill_alpha\":{\"value\":0.1},\"fill_color\":{\"value\":\"#1f77b4\"},\"left\":{\"field\":\"left\"},\"line_alpha\":{\"value\":0.1},\"line_color\":{\"value\":\"#1f77b4\"},\"right\":{\"field\":\"right\"},\"top\":{\"field\":\"top\"}},\"id\":\"7204fa85-015d-4eb0-b2bd-cf2572c00175\",\"type\":\"Quad\"},{\"attributes\":{},\"id\":\"b09085be-e7c5-45d7-af48-3d47c9d212f4\",\"type\":\"WheelZoomTool\"},{\"attributes\":{\"bottom_units\":\"screen\",\"fill_alpha\":{\"value\":0.5},\"fill_color\":{\"value\":\"lightgrey\"},\"left_units\":\"screen\",\"level\":\"overlay\",\"line_alpha\":{\"value\":1.0},\"line_color\":{\"value\":\"black\"},\"line_dash\":[4,4],\"line_width\":{\"value\":2},\"plot\":null,\"render_mode\":\"css\",\"right_units\":\"screen\",\"top_units\":\"screen\"},\"id\":\"22f11a49-2759-48f5-ae95-275159d715d6\",\"type\":\"BoxAnnotation\"},{\"attributes\":{\"callback\":null},\"id\":\"f6e8b604-5d0c-46d9-8d87-3c26832ee908\",\"type\":\"DataRange1d\"},{\"attributes\":{},\"id\":\"e33ec7a3-3c0a-4bc6-be25-31e169d8ff06\",\"type\":\"BasicTicker\"},{\"attributes\":{\"formatter\":{\"id\":\"816bc902-0117-465a-93de-8ce5d823f5e9\",\"type\":\"BasicTickFormatter\"},\"plot\":{\"id\":\"b8bbaf1b-3044-40cd-8e98-79649e34bf19\",\"subtype\":\"Figure\",\"type\":\"Plot\"},\"ticker\":{\"id\":\"e33ec7a3-3c0a-4bc6-be25-31e169d8ff06\",\"type\":\"BasicTicker\"}},\"id\":\"c0f1373a-e17e-45b3-a7fe-7580295a9857\",\"type\":\"LinearAxis\"},{\"attributes\":{\"source\":{\"id\":\"e1fb9c34-c535-426c-b2d1-50ff0042c976\",\"type\":\"ColumnDataSource\"}},\"id\":\"101a76bf-1302-44ca-a0a0-1a3e84783063\",\"type\":\"CDSView\"},{\"attributes\":{},\"id\":\"def52492-1f06-446a-b533-e60a8379b316\",\"type\":\"LinearScale\"},{\"attributes\":{},\"id\":\"390dff42-bc71-43e6-ad7d-013bd3acb24f\",\"type\":\"UnionRenderers\"},{\"attributes\":{},\"id\":\"0757c27b-e26c-4064-82ef-89b2d08557b0\",\"type\":\"Selection\"},{\"attributes\":{},\"id\":\"e7acebc7-1aa3-4d7d-b903-8b45d92fe558\",\"type\":\"SaveTool\"},{\"attributes\":{\"callback\":null,\"end\":103.95,\"start\":-4.95},\"id\":\"abd39bca-ed08-44b0-98aa-2931d9f4dce8\",\"type\":\"Range1d\"},{\"attributes\":{},\"id\":\"00cb106d-406c-4c80-a598-ea470eb00cf8\",\"type\":\"HelpTool\"}],\"root_ids\":[\"b8bbaf1b-3044-40cd-8e98-79649e34bf19\"]},\"title\":\"Bokeh Application\",\"version\":\"0.13.0\"}};\n",
       "  var render_items = [{\"docid\":\"da33c1b2-7329-4a12-8851-fb40d8a28dfa\",\"roots\":{\"b8bbaf1b-3044-40cd-8e98-79649e34bf19\":\"2128f176-e167-47a3-8652-7bd912f8844f\"}}];\n",
       "  root.Bokeh.embed.embed_items_notebook(docs_json, render_items);\n",
       "\n",
       "  }\n",
       "  if (root.Bokeh !== undefined) {\n",
       "    embed_document(root);\n",
       "  } else {\n",
       "    var attempts = 0;\n",
       "    var timer = setInterval(function(root) {\n",
       "      if (root.Bokeh !== undefined) {\n",
       "        embed_document(root);\n",
       "        clearInterval(timer);\n",
       "      }\n",
       "      attempts++;\n",
       "      if (attempts > 100) {\n",
       "        console.log(\"Bokeh: ERROR: Unable to run BokehJS code because BokehJS library is missing\")\n",
       "        clearInterval(timer);\n",
       "      }\n",
       "    }, 10, root)\n",
       "  }\n",
       "})(window);"
      ],
      "application/vnd.bokehjs_exec.v0+json": ""
     },
     "metadata": {
      "application/vnd.bokehjs_exec.v0+json": {
       "id": "b8bbaf1b-3044-40cd-8e98-79649e34bf19"
      }
     },
     "output_type": "display_data"
    }
   ],
   "source": [
    "show(p)"
   ]
  },
  {
   "cell_type": "code",
   "execution_count": 22,
   "metadata": {},
   "outputs": [],
   "source": [
    "p=hl.plot.histogram(mt.filter_entries(mt.GT.is_hom_ref()).GQ, bins=100)"
   ]
  },
  {
   "cell_type": "code",
   "execution_count": 23,
   "metadata": {},
   "outputs": [
    {
     "data": {
      "text/html": [
       "\n",
       "\n",
       "\n",
       "\n",
       "\n",
       "\n",
       "  <div class=\"bk-root\" id=\"b2135c15-9cfe-4fbb-8919-cdb3368f3509\"></div>\n"
      ]
     },
     "metadata": {},
     "output_type": "display_data"
    },
    {
     "data": {
      "application/javascript": [
       "(function(root) {\n",
       "  function embed_document(root) {\n",
       "    \n",
       "  var docs_json = {\"723f76c5-570a-405f-821c-172559f34532\":{\"roots\":{\"references\":[{\"attributes\":{\"plot\":{\"id\":\"1710bd51-7216-4553-b224-476b2d1abf2a\",\"subtype\":\"Figure\",\"type\":\"Plot\"},\"ticker\":{\"id\":\"e059e633-d17a-4e30-a9ce-89507db75687\",\"type\":\"BasicTicker\"}},\"id\":\"bf225f7b-ebc0-4e14-b19e-8baf74de9288\",\"type\":\"Grid\"},{\"attributes\":{\"data_source\":{\"id\":\"9c80e57c-2b65-482b-8857-eb5dbb9d6343\",\"type\":\"ColumnDataSource\"},\"glyph\":{\"id\":\"7774e948-642d-4473-90bd-b51480e2ab61\",\"type\":\"Quad\"},\"hover_glyph\":null,\"muted_glyph\":null,\"nonselection_glyph\":{\"id\":\"3af5b25f-cb39-4901-8f22-41681adedb31\",\"type\":\"Quad\"},\"selection_glyph\":null,\"view\":{\"id\":\"77757709-d981-4c70-af88-ece1d239bdd2\",\"type\":\"CDSView\"}},\"id\":\"55942296-d5c3-41ed-8db3-27a1a0120947\",\"type\":\"GlyphRenderer\"},{\"attributes\":{},\"id\":\"c0d4ae1d-1fd5-48c0-9f48-54b1ecdc53d9\",\"type\":\"ResetTool\"},{\"attributes\":{\"formatter\":{\"id\":\"3c9cd72d-4f47-490a-96e3-3de280cfbf04\",\"type\":\"BasicTickFormatter\"},\"plot\":{\"id\":\"1710bd51-7216-4553-b224-476b2d1abf2a\",\"subtype\":\"Figure\",\"type\":\"Plot\"},\"ticker\":{\"id\":\"e059e633-d17a-4e30-a9ce-89507db75687\",\"type\":\"BasicTicker\"}},\"id\":\"524521ec-1981-4eca-861d-e15cc6eac401\",\"type\":\"LinearAxis\"},{\"attributes\":{\"overlay\":{\"id\":\"2fbb32ba-022c-4537-8676-711082869c1c\",\"type\":\"BoxAnnotation\"}},\"id\":\"2541819e-808f-4944-8921-55ca0a916b38\",\"type\":\"BoxZoomTool\"},{\"attributes\":{},\"id\":\"011fab0e-ae5a-4963-8f4f-fe62aa17e3cb\",\"type\":\"BasicTicker\"},{\"attributes\":{},\"id\":\"73fcd5fa-5bfc-48e6-bc82-c89091ca9a1f\",\"type\":\"SaveTool\"},{\"attributes\":{},\"id\":\"f29d8fe1-bae9-4a14-8fde-0773be9d001f\",\"type\":\"LinearScale\"},{\"attributes\":{\"dimension\":1,\"plot\":{\"id\":\"1710bd51-7216-4553-b224-476b2d1abf2a\",\"subtype\":\"Figure\",\"type\":\"Plot\"},\"ticker\":{\"id\":\"011fab0e-ae5a-4963-8f4f-fe62aa17e3cb\",\"type\":\"BasicTicker\"}},\"id\":\"b098ac9b-0bb3-41f8-903a-8e18cb7564ec\",\"type\":\"Grid\"},{\"attributes\":{},\"id\":\"3c9cd72d-4f47-490a-96e3-3de280cfbf04\",\"type\":\"BasicTickFormatter\"},{\"attributes\":{\"callback\":null,\"end\":103.95,\"start\":-4.95},\"id\":\"71dae94d-3b0f-4cc1-bb90-dcf7eb2ed356\",\"type\":\"Range1d\"},{\"attributes\":{},\"id\":\"f00943b7-4936-4f95-96ef-94481b3d0bf7\",\"type\":\"UnionRenderers\"},{\"attributes\":{},\"id\":\"ae6a0d89-3000-493c-9c5a-a5368a6c6f14\",\"type\":\"LinearScale\"},{\"attributes\":{},\"id\":\"e059e633-d17a-4e30-a9ce-89507db75687\",\"type\":\"BasicTicker\"},{\"attributes\":{},\"id\":\"1a131014-388c-451b-90bd-c3cab86b65a9\",\"type\":\"WheelZoomTool\"},{\"attributes\":{},\"id\":\"b051e370-b59a-4b21-b08c-af25dc12e8e7\",\"type\":\"PanTool\"},{\"attributes\":{\"bottom_units\":\"screen\",\"fill_alpha\":{\"value\":0.5},\"fill_color\":{\"value\":\"lightgrey\"},\"left_units\":\"screen\",\"level\":\"overlay\",\"line_alpha\":{\"value\":1.0},\"line_color\":{\"value\":\"black\"},\"line_dash\":[4,4],\"line_width\":{\"value\":2},\"plot\":null,\"render_mode\":\"css\",\"right_units\":\"screen\",\"top_units\":\"screen\"},\"id\":\"2fbb32ba-022c-4537-8676-711082869c1c\",\"type\":\"BoxAnnotation\"},{\"attributes\":{},\"id\":\"c7df6e43-0c27-499d-b6be-b393d72f4e9c\",\"type\":\"BasicTickFormatter\"},{\"attributes\":{\"bottom\":{\"value\":0},\"fill_alpha\":{\"value\":0.1},\"fill_color\":{\"value\":\"#1f77b4\"},\"left\":{\"field\":\"left\"},\"line_alpha\":{\"value\":0.1},\"line_color\":{\"value\":\"#1f77b4\"},\"right\":{\"field\":\"right\"},\"top\":{\"field\":\"top\"}},\"id\":\"3af5b25f-cb39-4901-8f22-41681adedb31\",\"type\":\"Quad\"},{\"attributes\":{\"active_drag\":\"auto\",\"active_inspect\":\"auto\",\"active_multi\":null,\"active_scroll\":\"auto\",\"active_tap\":\"auto\",\"tools\":[{\"id\":\"b051e370-b59a-4b21-b08c-af25dc12e8e7\",\"type\":\"PanTool\"},{\"id\":\"1a131014-388c-451b-90bd-c3cab86b65a9\",\"type\":\"WheelZoomTool\"},{\"id\":\"2541819e-808f-4944-8921-55ca0a916b38\",\"type\":\"BoxZoomTool\"},{\"id\":\"73fcd5fa-5bfc-48e6-bc82-c89091ca9a1f\",\"type\":\"SaveTool\"},{\"id\":\"c0d4ae1d-1fd5-48c0-9f48-54b1ecdc53d9\",\"type\":\"ResetTool\"},{\"id\":\"d96370b0-2fea-4984-8f25-09fca76cb4b2\",\"type\":\"HelpTool\"}]},\"id\":\"9d25a5d6-2956-453b-8288-520714a4e6df\",\"type\":\"Toolbar\"},{\"attributes\":{},\"id\":\"d96370b0-2fea-4984-8f25-09fca76cb4b2\",\"type\":\"HelpTool\"},{\"attributes\":{},\"id\":\"04a537aa-5cda-4a07-993b-9e83a93e62e5\",\"type\":\"Selection\"},{\"attributes\":{\"callback\":null,\"data\":{\"left\":[0.0,0.99,1.98,2.9699999999999998,3.96,4.95,5.9399999999999995,6.93,7.92,8.91,9.9,10.89,11.879999999999999,12.87,13.86,14.85,15.84,16.83,17.82,18.81,19.8,20.79,21.78,22.77,23.759999999999998,24.75,25.74,26.73,27.72,28.71,29.7,30.69,31.68,32.67,33.66,34.65,35.64,36.63,37.62,38.61,39.6,40.589999999999996,41.58,42.57,43.56,44.55,45.54,46.53,47.519999999999996,48.51,49.5,50.49,51.48,52.47,53.46,54.45,55.44,56.43,57.42,58.41,59.4,60.39,61.38,62.37,63.36,64.35,65.34,66.33,67.32,68.31,69.3,70.29,71.28,72.27,73.26,74.25,75.24,76.23,77.22,78.21,79.2,80.19,81.17999999999999,82.17,83.16,84.15,85.14,86.13,87.12,88.11,89.1,90.09,91.08,92.07,93.06,94.05,95.03999999999999,96.03,97.02,98.01],\"right\":[0.99,1.98,2.9699999999999998,3.96,4.95,5.9399999999999995,6.93,7.92,8.91,9.9,10.89,11.879999999999999,12.87,13.86,14.85,15.84,16.83,17.82,18.81,19.8,20.79,21.78,22.77,23.759999999999998,24.75,25.74,26.73,27.72,28.71,29.7,30.69,31.68,32.67,33.66,34.65,35.64,36.63,37.62,38.61,39.6,40.589999999999996,41.58,42.57,43.56,44.55,45.54,46.53,47.519999999999996,48.51,49.5,50.49,51.48,52.47,53.46,54.45,55.44,56.43,57.42,58.41,59.4,60.39,61.38,62.37,63.36,64.35,65.34,66.33,67.32,68.31,69.3,70.29,71.28,72.27,73.26,74.25,75.24,76.23,77.22,78.21,79.2,80.19,81.17999999999999,82.17,83.16,84.15,85.14,86.13,87.12,88.11,89.1,90.09,91.08,92.07,93.06,94.05,95.03999999999999,96.03,97.02,98.01,99.0],\"top\":[1288,746,2555,72254,1145,5538,109386,1754,9019,139202,2422,12443,159131,2950,14949,163880,3458,16586,158317,3690,17059,145062,3707,16280,124138,3545,14980,103419,3281,13414,83444,2911,11311,65875,2603,9475,50481,2139,7503,38120,1873,6107,28434,1447,4665,20891,1161,3627,15193,979,2797,11231,815,2178,7963,617,1679,5966,469,1212,4398,392,1012,3165,320,765,2302,256,594,1708,199,466,1220,144,334,907,128,266,644,86,231,484,67,160,363,79,84,269,41,88,193,36,64,152,33,46,101,22,37,572]},\"selected\":{\"id\":\"04a537aa-5cda-4a07-993b-9e83a93e62e5\",\"type\":\"Selection\"},\"selection_policy\":{\"id\":\"f00943b7-4936-4f95-96ef-94481b3d0bf7\",\"type\":\"UnionRenderers\"}},\"id\":\"9c80e57c-2b65-482b-8857-eb5dbb9d6343\",\"type\":\"ColumnDataSource\"},{\"attributes\":{\"bottom\":{\"value\":0},\"fill_color\":{\"value\":\"#1f77b4\"},\"left\":{\"field\":\"left\"},\"right\":{\"field\":\"right\"},\"top\":{\"field\":\"top\"}},\"id\":\"7774e948-642d-4473-90bd-b51480e2ab61\",\"type\":\"Quad\"},{\"attributes\":{\"source\":{\"id\":\"9c80e57c-2b65-482b-8857-eb5dbb9d6343\",\"type\":\"ColumnDataSource\"}},\"id\":\"77757709-d981-4c70-af88-ece1d239bdd2\",\"type\":\"CDSView\"},{\"attributes\":{\"callback\":null},\"id\":\"ff85f841-1166-476f-939b-e775cae78d97\",\"type\":\"DataRange1d\"},{\"attributes\":{\"axis_label\":\"Frequency\",\"formatter\":{\"id\":\"c7df6e43-0c27-499d-b6be-b393d72f4e9c\",\"type\":\"BasicTickFormatter\"},\"plot\":{\"id\":\"1710bd51-7216-4553-b224-476b2d1abf2a\",\"subtype\":\"Figure\",\"type\":\"Plot\"},\"ticker\":{\"id\":\"011fab0e-ae5a-4963-8f4f-fe62aa17e3cb\",\"type\":\"BasicTicker\"}},\"id\":\"0265b814-4f98-4dcc-bae0-0f517ab26a3f\",\"type\":\"LinearAxis\"},{\"attributes\":{\"background_fill_color\":{\"value\":\"#EEEEEE\"},\"below\":[{\"id\":\"524521ec-1981-4eca-861d-e15cc6eac401\",\"type\":\"LinearAxis\"}],\"left\":[{\"id\":\"0265b814-4f98-4dcc-bae0-0f517ab26a3f\",\"type\":\"LinearAxis\"}],\"renderers\":[{\"id\":\"524521ec-1981-4eca-861d-e15cc6eac401\",\"type\":\"LinearAxis\"},{\"id\":\"bf225f7b-ebc0-4e14-b19e-8baf74de9288\",\"type\":\"Grid\"},{\"id\":\"0265b814-4f98-4dcc-bae0-0f517ab26a3f\",\"type\":\"LinearAxis\"},{\"id\":\"b098ac9b-0bb3-41f8-903a-8e18cb7564ec\",\"type\":\"Grid\"},{\"id\":\"2fbb32ba-022c-4537-8676-711082869c1c\",\"type\":\"BoxAnnotation\"},{\"id\":\"55942296-d5c3-41ed-8db3-27a1a0120947\",\"type\":\"GlyphRenderer\"}],\"title\":null,\"toolbar\":{\"id\":\"9d25a5d6-2956-453b-8288-520714a4e6df\",\"type\":\"Toolbar\"},\"x_range\":{\"id\":\"71dae94d-3b0f-4cc1-bb90-dcf7eb2ed356\",\"type\":\"Range1d\"},\"x_scale\":{\"id\":\"f29d8fe1-bae9-4a14-8fde-0773be9d001f\",\"type\":\"LinearScale\"},\"y_range\":{\"id\":\"ff85f841-1166-476f-939b-e775cae78d97\",\"type\":\"DataRange1d\"},\"y_scale\":{\"id\":\"ae6a0d89-3000-493c-9c5a-a5368a6c6f14\",\"type\":\"LinearScale\"}},\"id\":\"1710bd51-7216-4553-b224-476b2d1abf2a\",\"subtype\":\"Figure\",\"type\":\"Plot\"}],\"root_ids\":[\"1710bd51-7216-4553-b224-476b2d1abf2a\"]},\"title\":\"Bokeh Application\",\"version\":\"0.13.0\"}};\n",
       "  var render_items = [{\"docid\":\"723f76c5-570a-405f-821c-172559f34532\",\"roots\":{\"1710bd51-7216-4553-b224-476b2d1abf2a\":\"b2135c15-9cfe-4fbb-8919-cdb3368f3509\"}}];\n",
       "  root.Bokeh.embed.embed_items_notebook(docs_json, render_items);\n",
       "\n",
       "  }\n",
       "  if (root.Bokeh !== undefined) {\n",
       "    embed_document(root);\n",
       "  } else {\n",
       "    var attempts = 0;\n",
       "    var timer = setInterval(function(root) {\n",
       "      if (root.Bokeh !== undefined) {\n",
       "        embed_document(root);\n",
       "        clearInterval(timer);\n",
       "      }\n",
       "      attempts++;\n",
       "      if (attempts > 100) {\n",
       "        console.log(\"Bokeh: ERROR: Unable to run BokehJS code because BokehJS library is missing\")\n",
       "        clearInterval(timer);\n",
       "      }\n",
       "    }, 10, root)\n",
       "  }\n",
       "})(window);"
      ],
      "application/vnd.bokehjs_exec.v0+json": ""
     },
     "metadata": {
      "application/vnd.bokehjs_exec.v0+json": {
       "id": "1710bd51-7216-4553-b224-476b2d1abf2a"
      }
     },
     "output_type": "display_data"
    }
   ],
   "source": [
    "show(p)"
   ]
  },
  {
   "cell_type": "code",
   "execution_count": 24,
   "metadata": {},
   "outputs": [
    {
     "data": {
      "text/html": [
       "\n",
       "\n",
       "\n",
       "\n",
       "\n",
       "\n",
       "  <div class=\"bk-root\" id=\"42585813-11fc-4efb-ac8f-f1d338c69810\"></div>\n"
      ]
     },
     "metadata": {},
     "output_type": "display_data"
    },
    {
     "data": {
      "application/javascript": [
       "(function(root) {\n",
       "  function embed_document(root) {\n",
       "    \n",
       "  var docs_json = {\"cd0addf5-d4e2-433a-a3ea-c5b640d23adc\":{\"roots\":{\"references\":[{\"attributes\":{\"data_source\":{\"id\":\"e62ea175-8c7b-46d3-abdd-4d7318fa39f2\",\"type\":\"ColumnDataSource\"},\"glyph\":{\"id\":\"e9d43745-f0f8-4ff7-a660-6eac0774340c\",\"type\":\"Quad\"},\"hover_glyph\":null,\"muted_glyph\":null,\"nonselection_glyph\":{\"id\":\"9f9cf874-848e-47eb-b66d-40bb1b6edf08\",\"type\":\"Quad\"},\"selection_glyph\":null,\"view\":{\"id\":\"7e409b38-6bae-475c-9b08-929959ce65cb\",\"type\":\"CDSView\"}},\"id\":\"fe621497-7339-4e0c-9eb7-8360fb397d41\",\"type\":\"GlyphRenderer\"},{\"attributes\":{},\"id\":\"85112420-9366-4b85-b04f-454e32d30f90\",\"type\":\"Selection\"},{\"attributes\":{\"background_fill_color\":{\"value\":\"#EEEEEE\"},\"below\":[{\"id\":\"7bd33911-b669-4d0d-ab46-e14ee7dcf02a\",\"type\":\"LinearAxis\"}],\"left\":[{\"id\":\"5a281e14-6136-40e1-b1ec-96da6537fcd5\",\"type\":\"LinearAxis\"}],\"renderers\":[{\"id\":\"7bd33911-b669-4d0d-ab46-e14ee7dcf02a\",\"type\":\"LinearAxis\"},{\"id\":\"1b81f015-4521-4d2c-9a27-5e017c1d4887\",\"type\":\"Grid\"},{\"id\":\"5a281e14-6136-40e1-b1ec-96da6537fcd5\",\"type\":\"LinearAxis\"},{\"id\":\"32dc7b45-674d-443c-a3d5-55e5dc30dd6c\",\"type\":\"Grid\"},{\"id\":\"a1740901-680c-45a5-abd0-1effc4f712a0\",\"type\":\"BoxAnnotation\"},{\"id\":\"fe621497-7339-4e0c-9eb7-8360fb397d41\",\"type\":\"GlyphRenderer\"}],\"title\":null,\"toolbar\":{\"id\":\"3c2d8c2a-3f3a-45d4-88d7-02c14e9bbf2b\",\"type\":\"Toolbar\"},\"x_range\":{\"id\":\"78fe0175-d123-4574-9c4c-c2049e05e02c\",\"type\":\"Range1d\"},\"x_scale\":{\"id\":\"a3f3d038-ecfb-4441-8483-dea05273ba10\",\"type\":\"LinearScale\"},\"y_range\":{\"id\":\"8d53a911-9ff3-4c43-b063-d4a65644da58\",\"type\":\"DataRange1d\"},\"y_scale\":{\"id\":\"a2f8459e-e0d0-4029-ac28-a3e5742f2d72\",\"type\":\"LinearScale\"}},\"id\":\"83975d02-975d-41c3-b15b-d00769b8442b\",\"subtype\":\"Figure\",\"type\":\"Plot\"},{\"attributes\":{},\"id\":\"273c5798-dccc-4e86-a056-1eb05a675981\",\"type\":\"UnionRenderers\"},{\"attributes\":{},\"id\":\"45f88f99-4c96-42d7-a0e8-7a20ae58dd2c\",\"type\":\"ResetTool\"},{\"attributes\":{\"formatter\":{\"id\":\"0556a9cf-51a4-46e5-8da5-807b4fb62797\",\"type\":\"BasicTickFormatter\"},\"plot\":{\"id\":\"83975d02-975d-41c3-b15b-d00769b8442b\",\"subtype\":\"Figure\",\"type\":\"Plot\"},\"ticker\":{\"id\":\"6cd4c421-b088-4de0-95bc-cb429935916f\",\"type\":\"BasicTicker\"}},\"id\":\"7bd33911-b669-4d0d-ab46-e14ee7dcf02a\",\"type\":\"LinearAxis\"},{\"attributes\":{},\"id\":\"a2f8459e-e0d0-4029-ac28-a3e5742f2d72\",\"type\":\"LinearScale\"},{\"attributes\":{},\"id\":\"f7957325-f4e4-4c2e-aa5a-b426bd368c85\",\"type\":\"BasicTicker\"},{\"attributes\":{\"active_drag\":\"auto\",\"active_inspect\":\"auto\",\"active_multi\":null,\"active_scroll\":\"auto\",\"active_tap\":\"auto\",\"tools\":[{\"id\":\"e95d8652-6f33-4594-b970-598914b8ff03\",\"type\":\"PanTool\"},{\"id\":\"88d3b600-7266-401c-b0fc-ca3ee778c9d2\",\"type\":\"WheelZoomTool\"},{\"id\":\"edbb17eb-23e3-4d3c-98c2-63d97518bf3d\",\"type\":\"BoxZoomTool\"},{\"id\":\"a1518c51-cf2d-4513-9a5d-59693ac0431d\",\"type\":\"SaveTool\"},{\"id\":\"45f88f99-4c96-42d7-a0e8-7a20ae58dd2c\",\"type\":\"ResetTool\"},{\"id\":\"563a989c-9e1d-4e21-8afc-1ab399c76507\",\"type\":\"HelpTool\"}]},\"id\":\"3c2d8c2a-3f3a-45d4-88d7-02c14e9bbf2b\",\"type\":\"Toolbar\"},{\"attributes\":{},\"id\":\"a1518c51-cf2d-4513-9a5d-59693ac0431d\",\"type\":\"SaveTool\"},{\"attributes\":{},\"id\":\"45f11359-8b9b-43e8-a5dd-3fcb6a56249f\",\"type\":\"BasicTickFormatter\"},{\"attributes\":{},\"id\":\"0556a9cf-51a4-46e5-8da5-807b4fb62797\",\"type\":\"BasicTickFormatter\"},{\"attributes\":{\"callback\":null,\"data\":{\"left\":[0.0,0.99,1.98,2.9699999999999998,3.96,4.95,5.9399999999999995,6.93,7.92,8.91,9.9,10.89,11.879999999999999,12.87,13.86,14.85,15.84,16.83,17.82,18.81,19.8,20.79,21.78,22.77,23.759999999999998,24.75,25.74,26.73,27.72,28.71,29.7,30.69,31.68,32.67,33.66,34.65,35.64,36.63,37.62,38.61,39.6,40.589999999999996,41.58,42.57,43.56,44.55,45.54,46.53,47.519999999999996,48.51,49.5,50.49,51.48,52.47,53.46,54.45,55.44,56.43,57.42,58.41,59.4,60.39,61.38,62.37,63.36,64.35,65.34,66.33,67.32,68.31,69.3,70.29,71.28,72.27,73.26,74.25,75.24,76.23,77.22,78.21,79.2,80.19,81.17999999999999,82.17,83.16,84.15,85.14,86.13,87.12,88.11,89.1,90.09,91.08,92.07,93.06,94.05,95.03999999999999,96.03,97.02,98.01],\"right\":[0.99,1.98,2.9699999999999998,3.96,4.95,5.9399999999999995,6.93,7.92,8.91,9.9,10.89,11.879999999999999,12.87,13.86,14.85,15.84,16.83,17.82,18.81,19.8,20.79,21.78,22.77,23.759999999999998,24.75,25.74,26.73,27.72,28.71,29.7,30.69,31.68,32.67,33.66,34.65,35.64,36.63,37.62,38.61,39.6,40.589999999999996,41.58,42.57,43.56,44.55,45.54,46.53,47.519999999999996,48.51,49.5,50.49,51.48,52.47,53.46,54.45,55.44,56.43,57.42,58.41,59.4,60.39,61.38,62.37,63.36,64.35,65.34,66.33,67.32,68.31,69.3,70.29,71.28,72.27,73.26,74.25,75.24,76.23,77.22,78.21,79.2,80.19,81.17999999999999,82.17,83.16,84.15,85.14,86.13,87.12,88.11,89.1,90.09,91.08,92.07,93.06,94.05,95.03999999999999,96.03,97.02,98.01,99.0],\"top\":[942,856,990,1033,1099,1356,1452,1598,2022,2169,2369,3340,3133,3664,4720,4635,5180,6697,6466,7077,8902,8463,9147,10579,10272,10901,10492,11087,10771,10067,9930,8441,6982,6078,3811,2813,3047,2280,2485,2926,3110,3275,3507,4217,4324,4787,5321,5411,5844,6421,6835,7196,7563,7702,8112,8344,8637,8773,8718,8500,8363,8074,7769,7107,6537,5805,5272,4482,4053,3815,3458,3298,3745,3357,3415,4148,3777,3975,4389,4383,4606,4830,5055,5254,5262,5538,5480,5645,5781,5814,5758,5535,5441,5252,5022,4788,4579,4119,3990,214035]},\"selected\":{\"id\":\"85112420-9366-4b85-b04f-454e32d30f90\",\"type\":\"Selection\"},\"selection_policy\":{\"id\":\"273c5798-dccc-4e86-a056-1eb05a675981\",\"type\":\"UnionRenderers\"}},\"id\":\"e62ea175-8c7b-46d3-abdd-4d7318fa39f2\",\"type\":\"ColumnDataSource\"},{\"attributes\":{\"axis_label\":\"Frequency\",\"formatter\":{\"id\":\"45f11359-8b9b-43e8-a5dd-3fcb6a56249f\",\"type\":\"BasicTickFormatter\"},\"plot\":{\"id\":\"83975d02-975d-41c3-b15b-d00769b8442b\",\"subtype\":\"Figure\",\"type\":\"Plot\"},\"ticker\":{\"id\":\"f7957325-f4e4-4c2e-aa5a-b426bd368c85\",\"type\":\"BasicTicker\"}},\"id\":\"5a281e14-6136-40e1-b1ec-96da6537fcd5\",\"type\":\"LinearAxis\"},{\"attributes\":{},\"id\":\"6cd4c421-b088-4de0-95bc-cb429935916f\",\"type\":\"BasicTicker\"},{\"attributes\":{\"bottom\":{\"value\":0},\"fill_color\":{\"value\":\"#1f77b4\"},\"left\":{\"field\":\"left\"},\"right\":{\"field\":\"right\"},\"top\":{\"field\":\"top\"}},\"id\":\"e9d43745-f0f8-4ff7-a660-6eac0774340c\",\"type\":\"Quad\"},{\"attributes\":{\"bottom_units\":\"screen\",\"fill_alpha\":{\"value\":0.5},\"fill_color\":{\"value\":\"lightgrey\"},\"left_units\":\"screen\",\"level\":\"overlay\",\"line_alpha\":{\"value\":1.0},\"line_color\":{\"value\":\"black\"},\"line_dash\":[4,4],\"line_width\":{\"value\":2},\"plot\":null,\"render_mode\":\"css\",\"right_units\":\"screen\",\"top_units\":\"screen\"},\"id\":\"a1740901-680c-45a5-abd0-1effc4f712a0\",\"type\":\"BoxAnnotation\"},{\"attributes\":{},\"id\":\"e95d8652-6f33-4594-b970-598914b8ff03\",\"type\":\"PanTool\"},{\"attributes\":{},\"id\":\"563a989c-9e1d-4e21-8afc-1ab399c76507\",\"type\":\"HelpTool\"},{\"attributes\":{\"bottom\":{\"value\":0},\"fill_alpha\":{\"value\":0.1},\"fill_color\":{\"value\":\"#1f77b4\"},\"left\":{\"field\":\"left\"},\"line_alpha\":{\"value\":0.1},\"line_color\":{\"value\":\"#1f77b4\"},\"right\":{\"field\":\"right\"},\"top\":{\"field\":\"top\"}},\"id\":\"9f9cf874-848e-47eb-b66d-40bb1b6edf08\",\"type\":\"Quad\"},{\"attributes\":{\"callback\":null},\"id\":\"8d53a911-9ff3-4c43-b063-d4a65644da58\",\"type\":\"DataRange1d\"},{\"attributes\":{},\"id\":\"88d3b600-7266-401c-b0fc-ca3ee778c9d2\",\"type\":\"WheelZoomTool\"},{\"attributes\":{\"overlay\":{\"id\":\"a1740901-680c-45a5-abd0-1effc4f712a0\",\"type\":\"BoxAnnotation\"}},\"id\":\"edbb17eb-23e3-4d3c-98c2-63d97518bf3d\",\"type\":\"BoxZoomTool\"},{\"attributes\":{\"source\":{\"id\":\"e62ea175-8c7b-46d3-abdd-4d7318fa39f2\",\"type\":\"ColumnDataSource\"}},\"id\":\"7e409b38-6bae-475c-9b08-929959ce65cb\",\"type\":\"CDSView\"},{\"attributes\":{\"plot\":{\"id\":\"83975d02-975d-41c3-b15b-d00769b8442b\",\"subtype\":\"Figure\",\"type\":\"Plot\"},\"ticker\":{\"id\":\"6cd4c421-b088-4de0-95bc-cb429935916f\",\"type\":\"BasicTicker\"}},\"id\":\"1b81f015-4521-4d2c-9a27-5e017c1d4887\",\"type\":\"Grid\"},{\"attributes\":{\"callback\":null,\"end\":103.95,\"start\":-4.95},\"id\":\"78fe0175-d123-4574-9c4c-c2049e05e02c\",\"type\":\"Range1d\"},{\"attributes\":{},\"id\":\"a3f3d038-ecfb-4441-8483-dea05273ba10\",\"type\":\"LinearScale\"},{\"attributes\":{\"dimension\":1,\"plot\":{\"id\":\"83975d02-975d-41c3-b15b-d00769b8442b\",\"subtype\":\"Figure\",\"type\":\"Plot\"},\"ticker\":{\"id\":\"f7957325-f4e4-4c2e-aa5a-b426bd368c85\",\"type\":\"BasicTicker\"}},\"id\":\"32dc7b45-674d-443c-a3d5-55e5dc30dd6c\",\"type\":\"Grid\"}],\"root_ids\":[\"83975d02-975d-41c3-b15b-d00769b8442b\"]},\"title\":\"Bokeh Application\",\"version\":\"0.13.0\"}};\n",
       "  var render_items = [{\"docid\":\"cd0addf5-d4e2-433a-a3ea-c5b640d23adc\",\"roots\":{\"83975d02-975d-41c3-b15b-d00769b8442b\":\"42585813-11fc-4efb-ac8f-f1d338c69810\"}}];\n",
       "  root.Bokeh.embed.embed_items_notebook(docs_json, render_items);\n",
       "\n",
       "  }\n",
       "  if (root.Bokeh !== undefined) {\n",
       "    embed_document(root);\n",
       "  } else {\n",
       "    var attempts = 0;\n",
       "    var timer = setInterval(function(root) {\n",
       "      if (root.Bokeh !== undefined) {\n",
       "        embed_document(root);\n",
       "        clearInterval(timer);\n",
       "      }\n",
       "      attempts++;\n",
       "      if (attempts > 100) {\n",
       "        console.log(\"Bokeh: ERROR: Unable to run BokehJS code because BokehJS library is missing\")\n",
       "        clearInterval(timer);\n",
       "      }\n",
       "    }, 10, root)\n",
       "  }\n",
       "})(window);"
      ],
      "application/vnd.bokehjs_exec.v0+json": ""
     },
     "metadata": {
      "application/vnd.bokehjs_exec.v0+json": {
       "id": "83975d02-975d-41c3-b15b-d00769b8442b"
      }
     },
     "output_type": "display_data"
    }
   ],
   "source": [
    "p=hl.plot.histogram(\n",
    "    mt.filter_entries(mt.GT.is_het_ref()).GQ, \n",
    "    bins=100)\n",
    "show(p)"
   ]
  },
  {
   "cell_type": "code",
   "execution_count": 25,
   "metadata": {},
   "outputs": [
    {
     "data": {
      "text/html": [
       "\n",
       "\n",
       "\n",
       "\n",
       "\n",
       "\n",
       "  <div class=\"bk-root\" id=\"c1b488df-ef64-4f7f-b59e-5bcf44980a27\"></div>\n"
      ]
     },
     "metadata": {},
     "output_type": "display_data"
    },
    {
     "data": {
      "application/javascript": [
       "(function(root) {\n",
       "  function embed_document(root) {\n",
       "    \n",
       "  var docs_json = {\"4dc57bdc-77d1-4db0-8af5-44bbaf053336\":{\"roots\":{\"references\":[{\"attributes\":{},\"id\":\"3665ecf7-1567-4ece-b319-c277eaee27a6\",\"type\":\"LinearScale\"},{\"attributes\":{},\"id\":\"14b4d18a-0b29-473e-a1cd-2d30cdc3ba35\",\"type\":\"SaveTool\"},{\"attributes\":{},\"id\":\"8b28c9b2-e507-4234-bc16-10e615e2a8c6\",\"type\":\"BasicTickFormatter\"},{\"attributes\":{},\"id\":\"bd20c606-7ca0-4bc3-8fdf-f8e3492fd01b\",\"type\":\"PanTool\"},{\"attributes\":{\"callback\":null,\"end\":103.95,\"start\":-4.95},\"id\":\"3e85177b-06d3-425c-aa2c-559bb6ed643a\",\"type\":\"Range1d\"},{\"attributes\":{},\"id\":\"4884375b-1647-4a3c-91da-ab5f2e05c444\",\"type\":\"HelpTool\"},{\"attributes\":{\"callback\":null,\"data\":{\"left\":[0.0,0.99,1.98,2.9699999999999998,3.96,4.95,5.9399999999999995,6.93,7.92,8.91,9.9,10.89,11.879999999999999,12.87,13.86,14.85,15.84,16.83,17.82,18.81,19.8,20.79,21.78,22.77,23.759999999999998,24.75,25.74,26.73,27.72,28.71,29.7,30.69,31.68,32.67,33.66,34.65,35.64,36.63,37.62,38.61,39.6,40.589999999999996,41.58,42.57,43.56,44.55,45.54,46.53,47.519999999999996,48.51,49.5,50.49,51.48,52.47,53.46,54.45,55.44,56.43,57.42,58.41,59.4,60.39,61.38,62.37,63.36,64.35,65.34,66.33,67.32,68.31,69.3,70.29,71.28,72.27,73.26,74.25,75.24,76.23,77.22,78.21,79.2,80.19,81.17999999999999,82.17,83.16,84.15,85.14,86.13,87.12,88.11,89.1,90.09,91.08,92.07,93.06,94.05,95.03999999999999,96.03,97.02,98.01],\"right\":[0.99,1.98,2.9699999999999998,3.96,4.95,5.9399999999999995,6.93,7.92,8.91,9.9,10.89,11.879999999999999,12.87,13.86,14.85,15.84,16.83,17.82,18.81,19.8,20.79,21.78,22.77,23.759999999999998,24.75,25.74,26.73,27.72,28.71,29.7,30.69,31.68,32.67,33.66,34.65,35.64,36.63,37.62,38.61,39.6,40.589999999999996,41.58,42.57,43.56,44.55,45.54,46.53,47.519999999999996,48.51,49.5,50.49,51.48,52.47,53.46,54.45,55.44,56.43,57.42,58.41,59.4,60.39,61.38,62.37,63.36,64.35,65.34,66.33,67.32,68.31,69.3,70.29,71.28,72.27,73.26,74.25,75.24,76.23,77.22,78.21,79.2,80.19,81.17999999999999,82.17,83.16,84.15,85.14,86.13,87.12,88.11,89.1,90.09,91.08,92.07,93.06,94.05,95.03999999999999,96.03,97.02,98.01,99.0],\"top\":[31,64,88,87,99,124,129,171,158,180,135,141,87,42,31,33,34,27,13,24,24,24,25,27,33,38,34,54,63,64,74,103,105,98,148,119,160,148,161,212,196,211,239,255,268,264,283,281,277,262,209,174,183,153,160,115,124,94,120,118,149,143,162,151,169,211,218,207,214,256,263,299,328,317,375,386,412,390,432,506,476,500,495,536,480,522,494,504,463,449,456,399,376,396,325,318,298,302,311,28714]},\"selected\":{\"id\":\"a3cd4ffa-37a8-4ec3-bfca-e7aa4f384087\",\"type\":\"Selection\"},\"selection_policy\":{\"id\":\"c1b1b34e-1b58-4692-b282-085c67af44a4\",\"type\":\"UnionRenderers\"}},\"id\":\"88104661-0401-42a9-a4b5-19de622c5db6\",\"type\":\"ColumnDataSource\"},{\"attributes\":{},\"id\":\"19fbfb42-047a-4eee-b41b-40603ae7b436\",\"type\":\"BasicTicker\"},{\"attributes\":{\"dimension\":1,\"plot\":{\"id\":\"f68659b9-8e39-4ef3-877b-1797c8e53323\",\"subtype\":\"Figure\",\"type\":\"Plot\"},\"ticker\":{\"id\":\"87d8fcb3-0fa0-486f-bbe2-fd272d2838c5\",\"type\":\"BasicTicker\"}},\"id\":\"0edf5d68-3079-4084-b81b-4f5c9dea280d\",\"type\":\"Grid\"},{\"attributes\":{},\"id\":\"b2175fa0-74b7-43d2-9794-b7a307ce0fc0\",\"type\":\"WheelZoomTool\"},{\"attributes\":{},\"id\":\"03c0d0a7-c257-4f58-8400-c1ab2107b121\",\"type\":\"ResetTool\"},{\"attributes\":{\"bottom\":{\"value\":0},\"fill_alpha\":{\"value\":0.1},\"fill_color\":{\"value\":\"#1f77b4\"},\"left\":{\"field\":\"left\"},\"line_alpha\":{\"value\":0.1},\"line_color\":{\"value\":\"#1f77b4\"},\"right\":{\"field\":\"right\"},\"top\":{\"field\":\"top\"}},\"id\":\"66ad3a0b-5631-466c-8f8d-d8237b8738b9\",\"type\":\"Quad\"},{\"attributes\":{\"axis_label\":\"Frequency\",\"formatter\":{\"id\":\"99a8a6fc-6143-4ba8-b8c5-f5e7d10f2c0d\",\"type\":\"BasicTickFormatter\"},\"plot\":{\"id\":\"f68659b9-8e39-4ef3-877b-1797c8e53323\",\"subtype\":\"Figure\",\"type\":\"Plot\"},\"ticker\":{\"id\":\"87d8fcb3-0fa0-486f-bbe2-fd272d2838c5\",\"type\":\"BasicTicker\"}},\"id\":\"401caee3-fb84-4b2a-a65d-55184fd6aed6\",\"type\":\"LinearAxis\"},{\"attributes\":{},\"id\":\"99a8a6fc-6143-4ba8-b8c5-f5e7d10f2c0d\",\"type\":\"BasicTickFormatter\"},{\"attributes\":{\"callback\":null},\"id\":\"8c6ad63e-7e11-4119-877d-1247bdbf0189\",\"type\":\"DataRange1d\"},{\"attributes\":{\"plot\":{\"id\":\"f68659b9-8e39-4ef3-877b-1797c8e53323\",\"subtype\":\"Figure\",\"type\":\"Plot\"},\"ticker\":{\"id\":\"19fbfb42-047a-4eee-b41b-40603ae7b436\",\"type\":\"BasicTicker\"}},\"id\":\"924f2b2c-9019-4dd6-9bd3-fab2d0caf41c\",\"type\":\"Grid\"},{\"attributes\":{\"bottom_units\":\"screen\",\"fill_alpha\":{\"value\":0.5},\"fill_color\":{\"value\":\"lightgrey\"},\"left_units\":\"screen\",\"level\":\"overlay\",\"line_alpha\":{\"value\":1.0},\"line_color\":{\"value\":\"black\"},\"line_dash\":[4,4],\"line_width\":{\"value\":2},\"plot\":null,\"render_mode\":\"css\",\"right_units\":\"screen\",\"top_units\":\"screen\"},\"id\":\"3ec238f5-b1e0-4c33-94e7-fd72f12a05fb\",\"type\":\"BoxAnnotation\"},{\"attributes\":{},\"id\":\"c1b1b34e-1b58-4692-b282-085c67af44a4\",\"type\":\"UnionRenderers\"},{\"attributes\":{},\"id\":\"a3cd4ffa-37a8-4ec3-bfca-e7aa4f384087\",\"type\":\"Selection\"},{\"attributes\":{\"background_fill_color\":{\"value\":\"#EEEEEE\"},\"below\":[{\"id\":\"b9015646-f944-419f-ad02-53c8b0722d33\",\"type\":\"LinearAxis\"}],\"left\":[{\"id\":\"401caee3-fb84-4b2a-a65d-55184fd6aed6\",\"type\":\"LinearAxis\"}],\"renderers\":[{\"id\":\"b9015646-f944-419f-ad02-53c8b0722d33\",\"type\":\"LinearAxis\"},{\"id\":\"924f2b2c-9019-4dd6-9bd3-fab2d0caf41c\",\"type\":\"Grid\"},{\"id\":\"401caee3-fb84-4b2a-a65d-55184fd6aed6\",\"type\":\"LinearAxis\"},{\"id\":\"0edf5d68-3079-4084-b81b-4f5c9dea280d\",\"type\":\"Grid\"},{\"id\":\"3ec238f5-b1e0-4c33-94e7-fd72f12a05fb\",\"type\":\"BoxAnnotation\"},{\"id\":\"e2616e55-a146-4647-8a71-73977f5532df\",\"type\":\"GlyphRenderer\"}],\"title\":null,\"toolbar\":{\"id\":\"a9037e26-5e39-44db-9240-9ca22c1ec776\",\"type\":\"Toolbar\"},\"x_range\":{\"id\":\"3e85177b-06d3-425c-aa2c-559bb6ed643a\",\"type\":\"Range1d\"},\"x_scale\":{\"id\":\"03ccd0e8-16ec-4752-9b60-c569e92d44ce\",\"type\":\"LinearScale\"},\"y_range\":{\"id\":\"8c6ad63e-7e11-4119-877d-1247bdbf0189\",\"type\":\"DataRange1d\"},\"y_scale\":{\"id\":\"3665ecf7-1567-4ece-b319-c277eaee27a6\",\"type\":\"LinearScale\"}},\"id\":\"f68659b9-8e39-4ef3-877b-1797c8e53323\",\"subtype\":\"Figure\",\"type\":\"Plot\"},{\"attributes\":{},\"id\":\"87d8fcb3-0fa0-486f-bbe2-fd272d2838c5\",\"type\":\"BasicTicker\"},{\"attributes\":{\"overlay\":{\"id\":\"3ec238f5-b1e0-4c33-94e7-fd72f12a05fb\",\"type\":\"BoxAnnotation\"}},\"id\":\"d9157124-3749-4a87-986e-f3ac2e60b156\",\"type\":\"BoxZoomTool\"},{\"attributes\":{\"bottom\":{\"value\":0},\"fill_color\":{\"value\":\"#1f77b4\"},\"left\":{\"field\":\"left\"},\"right\":{\"field\":\"right\"},\"top\":{\"field\":\"top\"}},\"id\":\"22e65193-44fb-4fb3-9a48-420392a3b469\",\"type\":\"Quad\"},{\"attributes\":{\"data_source\":{\"id\":\"88104661-0401-42a9-a4b5-19de622c5db6\",\"type\":\"ColumnDataSource\"},\"glyph\":{\"id\":\"22e65193-44fb-4fb3-9a48-420392a3b469\",\"type\":\"Quad\"},\"hover_glyph\":null,\"muted_glyph\":null,\"nonselection_glyph\":{\"id\":\"66ad3a0b-5631-466c-8f8d-d8237b8738b9\",\"type\":\"Quad\"},\"selection_glyph\":null,\"view\":{\"id\":\"c977ab34-f8f2-4260-8fbe-b6c18ad1277f\",\"type\":\"CDSView\"}},\"id\":\"e2616e55-a146-4647-8a71-73977f5532df\",\"type\":\"GlyphRenderer\"},{\"attributes\":{\"formatter\":{\"id\":\"8b28c9b2-e507-4234-bc16-10e615e2a8c6\",\"type\":\"BasicTickFormatter\"},\"plot\":{\"id\":\"f68659b9-8e39-4ef3-877b-1797c8e53323\",\"subtype\":\"Figure\",\"type\":\"Plot\"},\"ticker\":{\"id\":\"19fbfb42-047a-4eee-b41b-40603ae7b436\",\"type\":\"BasicTicker\"}},\"id\":\"b9015646-f944-419f-ad02-53c8b0722d33\",\"type\":\"LinearAxis\"},{\"attributes\":{},\"id\":\"03ccd0e8-16ec-4752-9b60-c569e92d44ce\",\"type\":\"LinearScale\"},{\"attributes\":{\"active_drag\":\"auto\",\"active_inspect\":\"auto\",\"active_multi\":null,\"active_scroll\":\"auto\",\"active_tap\":\"auto\",\"tools\":[{\"id\":\"bd20c606-7ca0-4bc3-8fdf-f8e3492fd01b\",\"type\":\"PanTool\"},{\"id\":\"b2175fa0-74b7-43d2-9794-b7a307ce0fc0\",\"type\":\"WheelZoomTool\"},{\"id\":\"d9157124-3749-4a87-986e-f3ac2e60b156\",\"type\":\"BoxZoomTool\"},{\"id\":\"14b4d18a-0b29-473e-a1cd-2d30cdc3ba35\",\"type\":\"SaveTool\"},{\"id\":\"03c0d0a7-c257-4f58-8400-c1ab2107b121\",\"type\":\"ResetTool\"},{\"id\":\"4884375b-1647-4a3c-91da-ab5f2e05c444\",\"type\":\"HelpTool\"}]},\"id\":\"a9037e26-5e39-44db-9240-9ca22c1ec776\",\"type\":\"Toolbar\"},{\"attributes\":{\"source\":{\"id\":\"88104661-0401-42a9-a4b5-19de622c5db6\",\"type\":\"ColumnDataSource\"}},\"id\":\"c977ab34-f8f2-4260-8fbe-b6c18ad1277f\",\"type\":\"CDSView\"}],\"root_ids\":[\"f68659b9-8e39-4ef3-877b-1797c8e53323\"]},\"title\":\"Bokeh Application\",\"version\":\"0.13.0\"}};\n",
       "  var render_items = [{\"docid\":\"4dc57bdc-77d1-4db0-8af5-44bbaf053336\",\"roots\":{\"f68659b9-8e39-4ef3-877b-1797c8e53323\":\"c1b488df-ef64-4f7f-b59e-5bcf44980a27\"}}];\n",
       "  root.Bokeh.embed.embed_items_notebook(docs_json, render_items);\n",
       "\n",
       "  }\n",
       "  if (root.Bokeh !== undefined) {\n",
       "    embed_document(root);\n",
       "  } else {\n",
       "    var attempts = 0;\n",
       "    var timer = setInterval(function(root) {\n",
       "      if (root.Bokeh !== undefined) {\n",
       "        embed_document(root);\n",
       "        clearInterval(timer);\n",
       "      }\n",
       "      attempts++;\n",
       "      if (attempts > 100) {\n",
       "        console.log(\"Bokeh: ERROR: Unable to run BokehJS code because BokehJS library is missing\")\n",
       "        clearInterval(timer);\n",
       "      }\n",
       "    }, 10, root)\n",
       "  }\n",
       "})(window);"
      ],
      "application/vnd.bokehjs_exec.v0+json": ""
     },
     "metadata": {
      "application/vnd.bokehjs_exec.v0+json": {
       "id": "f68659b9-8e39-4ef3-877b-1797c8e53323"
      }
     },
     "output_type": "display_data"
    }
   ],
   "source": [
    "p=hl.plot.histogram(\n",
    "    mt.filter_entries((mt.DP == 10 ) & mt.GT.is_het_ref()).GQ, \n",
    "    bins=100)\n",
    "show(p)"
   ]
  },
  {
   "cell_type": "markdown",
   "metadata": {},
   "source": [
    "# **Module 3**\n",
    "\n",
    "## Annotation, PCA and variant discovery"
   ]
  },
  {
   "cell_type": "code",
   "execution_count": 26,
   "metadata": {},
   "outputs": [
    {
     "name": "stderr",
     "output_type": "stream",
     "text": [
      "2019-06-11 18:43:16 Hail: INFO: Reading table to impute column types\n",
      "2019-06-11 18:43:16 Hail: INFO: Finished type imputation\n",
      "  Loading column 'Sample' as type 'str' (imputed)\n",
      "  Loading column 'Population' as type 'str' (imputed)\n",
      "  Loading column 'SuperPopulation' as type 'str' (imputed)\n",
      "  Loading column 'isFemale' as type 'bool' (imputed)\n",
      "  Loading column 'PurpleHair' as type 'bool' (imputed)\n",
      "  Loading column 'CaffeineConsumption' as type 'int32' (imputed)\n"
     ]
    }
   ],
   "source": [
    "table = hl.import_table('data/1kg_annotations.txt',\n",
    "                       impute=True,\n",
    "                       key='Sample')"
   ]
  },
  {
   "cell_type": "code",
   "execution_count": 27,
   "metadata": {},
   "outputs": [
    {
     "name": "stdout",
     "output_type": "stream",
     "text": [
      "----------------------------------------\n",
      "Global fields:\n",
      "    None\n",
      "----------------------------------------\n",
      "Row fields:\n",
      "    'Sample': str \n",
      "    'Population': str \n",
      "    'SuperPopulation': str \n",
      "    'isFemale': bool \n",
      "    'PurpleHair': bool \n",
      "    'CaffeineConsumption': int32 \n",
      "----------------------------------------\n",
      "Key: ['Sample']\n",
      "----------------------------------------\n"
     ]
    }
   ],
   "source": [
    "table.describe()"
   ]
  },
  {
   "cell_type": "code",
   "execution_count": 49,
   "metadata": {},
   "outputs": [
    {
     "data": {
      "text/html": [
       "<table><thead style=\"font-weight: bold;\"><tr><td>Sample</td><td>Population</td><td>SuperPopulation</td><td>isFemale</td><td>PurpleHair</td><td>CaffeineConsumption</td></tr>\n",
       "<tr><td>str</td><td>str</td><td>str</td><td>bool</td><td>bool</td><td>int32</td></tr>\n",
       "</thead><tbody><tr><td>&quot;HG00096&quot;</td><td>&quot;GBR&quot;</td><td>&quot;EUR&quot;</td><td>false</td><td>false</td><td>4</td></tr>\n",
       "<tr><td>&quot;HG00097&quot;</td><td>&quot;GBR&quot;</td><td>&quot;EUR&quot;</td><td>true</td><td>true</td><td>4</td></tr>\n",
       "<tr><td>&quot;HG00098&quot;</td><td>&quot;GBR&quot;</td><td>&quot;EUR&quot;</td><td>false</td><td>false</td><td>5</td></tr>\n",
       "<tr><td>&quot;HG00099&quot;</td><td>&quot;GBR&quot;</td><td>&quot;EUR&quot;</td><td>true</td><td>false</td><td>4</td></tr>\n",
       "<tr><td>&quot;HG00100&quot;</td><td>&quot;GBR&quot;</td><td>&quot;EUR&quot;</td><td>true</td><td>false</td><td>5</td></tr>\n",
       "<tr><td>&quot;HG00101&quot;</td><td>&quot;GBR&quot;</td><td>&quot;EUR&quot;</td><td>false</td><td>true</td><td>1</td></tr>\n",
       "<tr><td>&quot;HG00102&quot;</td><td>&quot;GBR&quot;</td><td>&quot;EUR&quot;</td><td>true</td><td>true</td><td>6</td></tr>\n",
       "<tr><td>&quot;HG00103&quot;</td><td>&quot;GBR&quot;</td><td>&quot;EUR&quot;</td><td>false</td><td>true</td><td>5</td></tr>\n",
       "<tr><td>&quot;HG00104&quot;</td><td>&quot;GBR&quot;</td><td>&quot;EUR&quot;</td><td>true</td><td>false</td><td>5</td></tr>\n",
       "<tr><td>&quot;HG00105&quot;</td><td>&quot;GBR&quot;</td><td>&quot;EUR&quot;</td><td>false</td><td>false</td><td>4</td></tr>\n",
       "</tbody></table><p>showing top 10 rows</p>\n"
      ],
      "text/plain": [
       "+-----------+------------+-----------------+----------+------------+---------------------+\n",
       "| Sample    | Population | SuperPopulation | isFemale | PurpleHair | CaffeineConsumption |\n",
       "+-----------+------------+-----------------+----------+------------+---------------------+\n",
       "| str       | str        | str             |     bool |       bool |               int32 |\n",
       "+-----------+------------+-----------------+----------+------------+---------------------+\n",
       "| \"HG00096\" | \"GBR\"      | \"EUR\"           |    false |      false |                   4 |\n",
       "| \"HG00097\" | \"GBR\"      | \"EUR\"           |     true |       true |                   4 |\n",
       "| \"HG00098\" | \"GBR\"      | \"EUR\"           |    false |      false |                   5 |\n",
       "| \"HG00099\" | \"GBR\"      | \"EUR\"           |     true |      false |                   4 |\n",
       "| \"HG00100\" | \"GBR\"      | \"EUR\"           |     true |      false |                   5 |\n",
       "| \"HG00101\" | \"GBR\"      | \"EUR\"           |    false |       true |                   1 |\n",
       "| \"HG00102\" | \"GBR\"      | \"EUR\"           |     true |       true |                   6 |\n",
       "| \"HG00103\" | \"GBR\"      | \"EUR\"           |    false |       true |                   5 |\n",
       "| \"HG00104\" | \"GBR\"      | \"EUR\"           |     true |      false |                   5 |\n",
       "| \"HG00105\" | \"GBR\"      | \"EUR\"           |    false |      false |                   4 |\n",
       "+-----------+------------+-----------------+----------+------------+---------------------+\n",
       "showing top 10 rows"
      ]
     },
     "metadata": {},
     "output_type": "display_data"
    }
   ],
   "source": [
    "# Show the first 10 rows of the table\n",
    "table.show(10)"
   ]
  },
  {
   "cell_type": "markdown",
   "metadata": {},
   "source": [
    "Notice that the show command only works this way in tables. In matrix tables it is necessary to specify which of the 3 tables we want to show: rows, columns or entries: \n",
    "\n",
    "`table.show()` --> Table\n",
    "\n",
    "`mt.row.alles.show()` --> Matrix Table"
   ]
  },
  {
   "cell_type": "code",
   "execution_count": 6,
   "metadata": {},
   "outputs": [
    {
     "name": "stdout",
     "output_type": "stream",
     "text": [
      "Sample\tPopulation\tSuperPopulation\tisFemale\tPurpleHair\tCaffeineConsumption\n",
      "HG00096\tGBR\tEUR\tfalse\tfalse\t4\n",
      "HG00097\tGBR\tEUR\ttrue\ttrue\t4\n",
      "HG00098\tGBR\tEUR\tfalse\tfalse\t5\n",
      "HG00099\tGBR\tEUR\ttrue\tfalse\t4\n",
      "HG00100\tGBR\tEUR\ttrue\tfalse\t5\n",
      "HG00101\tGBR\tEUR\tfalse\ttrue\t1\n",
      "HG00102\tGBR\tEUR\ttrue\ttrue\t6\n",
      "HG00103\tGBR\tEUR\tfalse\ttrue\t5\n",
      "HG00104\tGBR\tEUR\ttrue\tfalse\t5\n"
     ]
    }
   ],
   "source": [
    "# This is not common nor recommended, but one can preview local data using the shell command sh\n",
    "%%sh\n",
    "head data/1kg_annotations.txt"
   ]
  },
  {
   "cell_type": "code",
   "execution_count": 28,
   "metadata": {},
   "outputs": [
    {
     "name": "stdout",
     "output_type": "stream",
     "text": [
      "----------------------------------------\n",
      "Global fields:\n",
      "    None\n",
      "----------------------------------------\n",
      "Column fields:\n",
      "    's': str\n",
      "----------------------------------------\n",
      "Row fields:\n",
      "    'locus': locus<GRCh37>\n",
      "    'alleles': array<str>\n",
      "    'rsid': str\n",
      "    'qual': float64\n",
      "    'filters': set<str>\n",
      "    'info': struct {\n",
      "        AC: array<int32>, \n",
      "        AF: array<float64>, \n",
      "        AN: int32, \n",
      "        BaseQRankSum: float64, \n",
      "        ClippingRankSum: float64, \n",
      "        DP: int32, \n",
      "        DS: bool, \n",
      "        FS: float64, \n",
      "        HaplotypeScore: float64, \n",
      "        InbreedingCoeff: float64, \n",
      "        MLEAC: array<int32>, \n",
      "        MLEAF: array<float64>, \n",
      "        MQ: float64, \n",
      "        MQ0: int32, \n",
      "        MQRankSum: float64, \n",
      "        QD: float64, \n",
      "        ReadPosRankSum: float64, \n",
      "        set: str\n",
      "    }\n",
      "----------------------------------------\n",
      "Entry fields:\n",
      "    'GT': call\n",
      "    'AD': array<int32>\n",
      "    'DP': int32\n",
      "    'GQ': int32\n",
      "    'PL': array<int32>\n",
      "----------------------------------------\n",
      "Column key: ['s']\n",
      "Row key: ['locus', 'alleles']\n",
      "----------------------------------------\n"
     ]
    }
   ],
   "source": [
    "mt.describe()"
   ]
  },
  {
   "cell_type": "code",
   "execution_count": 29,
   "metadata": {},
   "outputs": [],
   "source": [
    "mt = mt.annotate_cols(pheno=table[mt.s])"
   ]
  },
  {
   "cell_type": "code",
   "execution_count": 30,
   "metadata": {},
   "outputs": [
    {
     "name": "stdout",
     "output_type": "stream",
     "text": [
      "----------------------------------------\n",
      "Global fields:\n",
      "    None\n",
      "----------------------------------------\n",
      "Column fields:\n",
      "    's': str\n",
      "    'pheno': struct {\n",
      "        Population: str, \n",
      "        SuperPopulation: str, \n",
      "        isFemale: bool, \n",
      "        PurpleHair: bool, \n",
      "        CaffeineConsumption: int32\n",
      "    }\n",
      "----------------------------------------\n",
      "Row fields:\n",
      "    'locus': locus<GRCh37>\n",
      "    'alleles': array<str>\n",
      "    'rsid': str\n",
      "    'qual': float64\n",
      "    'filters': set<str>\n",
      "    'info': struct {\n",
      "        AC: array<int32>, \n",
      "        AF: array<float64>, \n",
      "        AN: int32, \n",
      "        BaseQRankSum: float64, \n",
      "        ClippingRankSum: float64, \n",
      "        DP: int32, \n",
      "        DS: bool, \n",
      "        FS: float64, \n",
      "        HaplotypeScore: float64, \n",
      "        InbreedingCoeff: float64, \n",
      "        MLEAC: array<int32>, \n",
      "        MLEAF: array<float64>, \n",
      "        MQ: float64, \n",
      "        MQ0: int32, \n",
      "        MQRankSum: float64, \n",
      "        QD: float64, \n",
      "        ReadPosRankSum: float64, \n",
      "        set: str\n",
      "    }\n",
      "----------------------------------------\n",
      "Entry fields:\n",
      "    'GT': call\n",
      "    'AD': array<int32>\n",
      "    'DP': int32\n",
      "    'GQ': int32\n",
      "    'PL': array<int32>\n",
      "----------------------------------------\n",
      "Column key: ['s']\n",
      "Row key: ['locus', 'alleles']\n",
      "----------------------------------------\n"
     ]
    }
   ],
   "source": [
    "mt.describe()"
   ]
  },
  {
   "cell_type": "code",
   "execution_count": 31,
   "metadata": {},
   "outputs": [
    {
     "name": "stdout",
     "output_type": "stream",
     "text": [
      "+-----------+------------------+-----------------------+----------------+\n",
      "| s         | pheno.Population | pheno.SuperPopulation | pheno.isFemale |\n",
      "+-----------+------------------+-----------------------+----------------+\n",
      "| str       | str              | str                   |           bool |\n",
      "+-----------+------------------+-----------------------+----------------+\n",
      "| \"HG00096\" | \"GBR\"            | \"EUR\"                 |          false |\n",
      "| \"HG00099\" | \"GBR\"            | \"EUR\"                 |           true |\n",
      "| \"HG00105\" | \"GBR\"            | \"EUR\"                 |          false |\n",
      "| \"HG00118\" | \"GBR\"            | \"EUR\"                 |           true |\n",
      "| \"HG00129\" | \"GBR\"            | \"EUR\"                 |          false |\n",
      "| \"HG00148\" | \"GBR\"            | \"EUR\"                 |          false |\n",
      "| \"HG00177\" | \"FIN\"            | \"EUR\"                 |           true |\n",
      "| \"HG00182\" | \"FIN\"            | \"EUR\"                 |          false |\n",
      "| \"HG00242\" | \"GBR\"            | \"EUR\"                 |          false |\n",
      "| \"HG00254\" | \"GBR\"            | \"EUR\"                 |           true |\n",
      "+-----------+------------------+-----------------------+----------------+\n",
      "\n",
      "+------------------+---------------------------+\n",
      "| pheno.PurpleHair | pheno.CaffeineConsumption |\n",
      "+------------------+---------------------------+\n",
      "|             bool |                     int32 |\n",
      "+------------------+---------------------------+\n",
      "|            false |                         4 |\n",
      "|            false |                         4 |\n",
      "|            false |                         4 |\n",
      "|            false |                         3 |\n",
      "|            false |                         6 |\n",
      "|             true |                         2 |\n",
      "|             true |                         4 |\n",
      "|            false |                         2 |\n",
      "|            false |                         1 |\n",
      "|            false |                         2 |\n",
      "+------------------+---------------------------+\n",
      "showing top 10 rows\n",
      "\n"
     ]
    }
   ],
   "source": [
    "mt.col.pheno.show()"
   ]
  },
  {
   "cell_type": "code",
   "execution_count": 32,
   "metadata": {},
   "outputs": [
    {
     "name": "stdout",
     "output_type": "stream",
     "text": [
      "{'AFR': 76, 'AMR': 34, 'EAS': 72, 'EUR': 47, 'SAS': 55}\n"
     ]
    },
    {
     "name": "stderr",
     "output_type": "stream",
     "text": [
      "2019-06-11 18:43:17 Hail: INFO: Coerced sorted dataset\n"
     ]
    }
   ],
   "source": [
    "pprint(mt.aggregate_cols(hl.agg.counter(mt.pheno.SuperPopulation)))"
   ]
  },
  {
   "cell_type": "code",
   "execution_count": 33,
   "metadata": {},
   "outputs": [
    {
     "name": "stderr",
     "output_type": "stream",
     "text": [
      "2019-06-11 18:43:18 Hail: INFO: Coerced sorted dataset\n"
     ]
    },
    {
     "data": {
      "text/plain": [
       "0"
      ]
     },
     "execution_count": 33,
     "metadata": {},
     "output_type": "execute_result"
    }
   ],
   "source": [
    "mt.aggregate_cols(hl.agg.count_where(hl.is_missing(mt.pheno)))"
   ]
  },
  {
   "cell_type": "code",
   "execution_count": 34,
   "metadata": {},
   "outputs": [],
   "source": [
    "mt = hl.sample_qc(mt)"
   ]
  },
  {
   "cell_type": "code",
   "execution_count": 35,
   "metadata": {},
   "outputs": [
    {
     "name": "stdout",
     "output_type": "stream",
     "text": [
      "----------------------------------------\n",
      "Global fields:\n",
      "    None\n",
      "----------------------------------------\n",
      "Column fields:\n",
      "    's': str\n",
      "    'pheno': struct {\n",
      "        Population: str, \n",
      "        SuperPopulation: str, \n",
      "        isFemale: bool, \n",
      "        PurpleHair: bool, \n",
      "        CaffeineConsumption: int32\n",
      "    }\n",
      "    'sample_qc': struct {\n",
      "        dp_stats: struct {\n",
      "            mean: float64, \n",
      "            stdev: float64, \n",
      "            min: float64, \n",
      "            max: float64\n",
      "        }, \n",
      "        gq_stats: struct {\n",
      "            mean: float64, \n",
      "            stdev: float64, \n",
      "            min: float64, \n",
      "            max: float64\n",
      "        }, \n",
      "        call_rate: float64, \n",
      "        n_called: int64, \n",
      "        n_not_called: int64, \n",
      "        n_filtered: int64, \n",
      "        n_hom_ref: int64, \n",
      "        n_het: int64, \n",
      "        n_hom_var: int64, \n",
      "        n_non_ref: int64, \n",
      "        n_singleton: int64, \n",
      "        n_snp: int64, \n",
      "        n_insertion: int64, \n",
      "        n_deletion: int64, \n",
      "        n_transition: int64, \n",
      "        n_transversion: int64, \n",
      "        n_star: int64, \n",
      "        r_ti_tv: float64, \n",
      "        r_het_hom_var: float64, \n",
      "        r_insertion_deletion: float64\n",
      "    }\n",
      "----------------------------------------\n",
      "Row fields:\n",
      "    'locus': locus<GRCh37>\n",
      "    'alleles': array<str>\n",
      "    'rsid': str\n",
      "    'qual': float64\n",
      "    'filters': set<str>\n",
      "    'info': struct {\n",
      "        AC: array<int32>, \n",
      "        AF: array<float64>, \n",
      "        AN: int32, \n",
      "        BaseQRankSum: float64, \n",
      "        ClippingRankSum: float64, \n",
      "        DP: int32, \n",
      "        DS: bool, \n",
      "        FS: float64, \n",
      "        HaplotypeScore: float64, \n",
      "        InbreedingCoeff: float64, \n",
      "        MLEAC: array<int32>, \n",
      "        MLEAF: array<float64>, \n",
      "        MQ: float64, \n",
      "        MQ0: int32, \n",
      "        MQRankSum: float64, \n",
      "        QD: float64, \n",
      "        ReadPosRankSum: float64, \n",
      "        set: str\n",
      "    }\n",
      "----------------------------------------\n",
      "Entry fields:\n",
      "    'GT': call\n",
      "    'AD': array<int32>\n",
      "    'DP': int32\n",
      "    'GQ': int32\n",
      "    'PL': array<int32>\n",
      "----------------------------------------\n",
      "Column key: ['s']\n",
      "Row key: ['locus', 'alleles']\n",
      "----------------------------------------\n"
     ]
    }
   ],
   "source": [
    "mt.describe()"
   ]
  },
  {
   "cell_type": "code",
   "execution_count": 36,
   "metadata": {},
   "outputs": [],
   "source": [
    "mt = mt.filter_cols(mt.sample_qc.dp_stats.mean >= 4)\n",
    "mt = mt.filter_cols(mt.sample_qc.call_rate > 0.97)"
   ]
  },
  {
   "cell_type": "code",
   "execution_count": 37,
   "metadata": {},
   "outputs": [
    {
     "data": {
      "text/plain": [
       "250"
      ]
     },
     "execution_count": 37,
     "metadata": {},
     "output_type": "execute_result"
    }
   ],
   "source": [
    "mt.count_cols()"
   ]
  },
  {
   "cell_type": "code",
   "execution_count": 38,
   "metadata": {},
   "outputs": [
    {
     "data": {
      "text/plain": [
       "0.9924605419213576"
      ]
     },
     "execution_count": 38,
     "metadata": {},
     "output_type": "execute_result"
    }
   ],
   "source": [
    "mt.aggregate_entries(hl.agg.fraction(hl.is_defined(mt.GT)))"
   ]
  },
  {
   "cell_type": "code",
   "execution_count": 39,
   "metadata": {},
   "outputs": [],
   "source": [
    "ab = mt.AD[1] / hl.sum(mt.AD)\n",
    "\n",
    "filter_condition_ab = ((mt.GT.is_hom_ref() & (ab <= 0.1)) | \n",
    "                       (mt.GT.is_het() & (ab >= 0.25) & (ab<=0.75)) | \n",
    "                        (mt.GT.is_hom_var() & (ab >= 0.9)))\n",
    "                       \n",
    "mt = mt.filter_entries(filter_condition_ab)"
   ]
  },
  {
   "cell_type": "code",
   "execution_count": 40,
   "metadata": {},
   "outputs": [],
   "source": [
    "mt = hl.variant_qc(mt)"
   ]
  },
  {
   "cell_type": "code",
   "execution_count": 41,
   "metadata": {},
   "outputs": [],
   "source": [
    "mt = mt.filter_rows(hl.min(mt.variant_qc.AF)>0.01)"
   ]
  },
  {
   "cell_type": "code",
   "execution_count": 42,
   "metadata": {},
   "outputs": [],
   "source": [
    "mt = mt.filter_rows(mt.variant_qc.p_value_hwe > 1e-6)"
   ]
  },
  {
   "cell_type": "code",
   "execution_count": 43,
   "metadata": {},
   "outputs": [
    {
     "data": {
      "text/plain": [
       "(7837, 250)"
      ]
     },
     "execution_count": 43,
     "metadata": {},
     "output_type": "execute_result"
    }
   ],
   "source": [
    "mt.count()"
   ]
  },
  {
   "cell_type": "markdown",
   "metadata": {},
   "source": [
    "### PCA"
   ]
  },
  {
   "cell_type": "code",
   "execution_count": 44,
   "metadata": {},
   "outputs": [
    {
     "name": "stderr",
     "output_type": "stream",
     "text": [
      "2019-06-11 18:43:26 Hail: INFO: hwe_normalized_pca: running PCA using 7837 variants.\n",
      "2019-06-11 18:43:29 Hail: INFO: pca: running PCA with 10 components...\n"
     ]
    }
   ],
   "source": [
    "pca_eigenvalues, pcs_scores, pca_loadings = hl.hwe_normalized_pca(mt.GT)"
   ]
  },
  {
   "cell_type": "code",
   "execution_count": 45,
   "metadata": {},
   "outputs": [
    {
     "data": {
      "text/plain": [
       "[18.030685502441433,\n",
       " 9.993820694739139,\n",
       " 3.540034600138833,\n",
       " 2.6590434101706677,\n",
       " 1.5947740104203847,\n",
       " 1.5413396254154614,\n",
       " 1.5033548038676856,\n",
       " 1.4706463173065767,\n",
       " 1.467451205007597,\n",
       " 1.4481437343258463]"
      ]
     },
     "execution_count": 45,
     "metadata": {},
     "output_type": "execute_result"
    }
   ],
   "source": [
    "pca_eigenvalues"
   ]
  },
  {
   "cell_type": "markdown",
   "metadata": {},
   "source": [
    "### Annotate the columns of matrix table `mt` with the PCA scores"
   ]
  },
  {
   "cell_type": "code",
   "execution_count": 46,
   "metadata": {},
   "outputs": [],
   "source": [
    "mt = mt.annotate_cols(pca=pcs_scores[mt.s])"
   ]
  },
  {
   "cell_type": "code",
   "execution_count": 47,
   "metadata": {},
   "outputs": [
    {
     "data": {
      "text/plain": [
       "dtype('array<float64>')"
      ]
     },
     "execution_count": 47,
     "metadata": {},
     "output_type": "execute_result"
    }
   ],
   "source": [
    "mt.pca.scores.dtype"
   ]
  },
  {
   "cell_type": "markdown",
   "metadata": {},
   "source": [
    "### Plot the first two PCs"
   ]
  },
  {
   "cell_type": "code",
   "execution_count": 48,
   "metadata": {},
   "outputs": [
    {
     "data": {
      "text/html": [
       "\n",
       "\n",
       "\n",
       "\n",
       "\n",
       "\n",
       "  <div class=\"bk-root\" id=\"ec2b7cc5-2b31-46e2-ba84-79bac1c6bc6d\"></div>\n"
      ]
     },
     "metadata": {},
     "output_type": "display_data"
    },
    {
     "data": {
      "application/javascript": [
       "(function(root) {\n",
       "  function embed_document(root) {\n",
       "    \n",
       "  var docs_json = {\"089bf375-814f-468d-af87-f8eba0b48197\":{\"roots\":{\"references\":[{\"attributes\":{},\"id\":\"099647c4-26fc-4f15-a99c-6c28226ee06f\",\"type\":\"BasicTicker\"},{\"attributes\":{\"fill_alpha\":{\"value\":0.1},\"fill_color\":{\"value\":\"#1f77b4\"},\"line_alpha\":{\"value\":0.1},\"line_color\":{\"value\":\"#1f77b4\"},\"x\":{\"field\":\"_x\"},\"y\":{\"field\":\"_y\"}},\"id\":\"fecf5052-5712-4c72-a372-ec0dc1d5a95d\",\"type\":\"Circle\"},{\"attributes\":{\"below\":[{\"id\":\"12a102ab-f7eb-4010-82cf-755c3400aa65\",\"type\":\"LinearAxis\"}],\"left\":[{\"id\":\"eb143070-157a-4fe1-8af1-6c0621282f3e\",\"type\":\"LinearAxis\"},{\"id\":\"7c428f84-83cb-41bb-b29f-c52b3b2fb577\",\"type\":\"Legend\"},{\"id\":\"53ea8278-f04b-4cff-9ffd-64dbe7069828\",\"type\":\"ColorBar\"}],\"plot_height\":800,\"plot_width\":800,\"renderers\":[{\"id\":\"12a102ab-f7eb-4010-82cf-755c3400aa65\",\"type\":\"LinearAxis\"},{\"id\":\"d03105e2-1359-483c-951d-7ff77dc9762c\",\"type\":\"Grid\"},{\"id\":\"eb143070-157a-4fe1-8af1-6c0621282f3e\",\"type\":\"LinearAxis\"},{\"id\":\"efe74fdf-a2b6-47cf-b02b-44d8e0593144\",\"type\":\"Grid\"},{\"id\":\"1752c85e-96b7-4fa2-bbbf-87bb319d98c4\",\"type\":\"BoxAnnotation\"},{\"id\":\"885ac265-c21e-4716-981b-c686843c1a0c\",\"type\":\"GlyphRenderer\"},{\"id\":\"2c653fb3-ee6f-4f95-b62d-39bac9104b03\",\"type\":\"GlyphRenderer\"},{\"id\":\"61808955-1a8e-43c2-8fd7-84ab23215416\",\"type\":\"GlyphRenderer\"},{\"id\":\"afa81ab6-1272-451e-b593-3401b4560ae1\",\"type\":\"GlyphRenderer\"},{\"id\":\"9f1cf817-8b57-40c3-9fab-bc7bd12e6ed0\",\"type\":\"GlyphRenderer\"},{\"id\":\"7c428f84-83cb-41bb-b29f-c52b3b2fb577\",\"type\":\"Legend\"},{\"id\":\"53ea8278-f04b-4cff-9ffd-64dbe7069828\",\"type\":\"ColorBar\"}],\"title\":{\"id\":\"c4c2d318-f1c4-46e2-bd8c-e429effa13a3\",\"type\":\"Title\"},\"toolbar\":{\"id\":\"b0709188-e5e4-4545-91ee-74a5f4cba883\",\"type\":\"Toolbar\"},\"x_range\":{\"id\":\"a14fa43f-4571-497a-9159-1e89a18f81a1\",\"type\":\"DataRange1d\"},\"x_scale\":{\"id\":\"028797f0-a800-4549-9bc2-4245f6740aa6\",\"type\":\"LinearScale\"},\"y_range\":{\"id\":\"ed253e34-9762-424d-b8ba-b941650cd351\",\"type\":\"DataRange1d\"},\"y_scale\":{\"id\":\"95f1a2e8-a6f2-4043-801e-7ebb8d77327d\",\"type\":\"LinearScale\"}},\"id\":\"65cc76c4-9274-4d5c-a5b2-53a58b48f7fd\",\"subtype\":\"Figure\",\"type\":\"Plot\"},{\"attributes\":{\"column_name\":\"Population\",\"group\":\"AMR\"},\"id\":\"e892c017-edef-457e-9d7b-4eb9d542f29c\",\"type\":\"GroupFilter\"},{\"attributes\":{},\"id\":\"7a6cd85a-bcaf-4bdb-9710-e5b61257a93a\",\"type\":\"BasicTickFormatter\"},{\"attributes\":{\"label\":{\"value\":\"EAS\"},\"renderers\":[{\"id\":\"61808955-1a8e-43c2-8fd7-84ab23215416\",\"type\":\"GlyphRenderer\"}]},\"id\":\"58de91e0-4e21-4c24-9b28-d9f648a5f94f\",\"type\":\"LegendItem\"},{\"attributes\":{\"filters\":[{\"id\":\"3d606f0a-56bc-4bb8-a86e-0ffcd58e8142\",\"type\":\"GroupFilter\"}],\"source\":{\"id\":\"bf11f258-585e-46bf-afb1-baff8690e172\",\"type\":\"ColumnDataSource\"}},\"id\":\"707500a2-4462-4cfd-83f1-35c7bea5ce70\",\"type\":\"CDSView\"},{\"attributes\":{\"label\":{\"value\":\"AFR\"},\"renderers\":[{\"id\":\"885ac265-c21e-4716-981b-c686843c1a0c\",\"type\":\"GlyphRenderer\"}]},\"id\":\"e2d4403f-89be-4932-a21e-46bcc4998a72\",\"type\":\"LegendItem\"},{\"attributes\":{\"data_source\":{\"id\":\"bf11f258-585e-46bf-afb1-baff8690e172\",\"type\":\"ColumnDataSource\"},\"glyph\":{\"id\":\"78f5b565-f5fb-472e-9490-315c34656061\",\"type\":\"Circle\"},\"hover_glyph\":null,\"muted_glyph\":null,\"nonselection_glyph\":{\"id\":\"5b3f5cd4-c0e9-471f-b727-41e4f71b6de9\",\"type\":\"Circle\"},\"selection_glyph\":null,\"view\":{\"id\":\"c672b21b-cad7-444e-a33b-640e906eeffa\",\"type\":\"CDSView\"}},\"id\":\"9f1cf817-8b57-40c3-9fab-bc7bd12e6ed0\",\"type\":\"GlyphRenderer\"},{\"attributes\":{\"callback\":null,\"renderers\":\"auto\",\"tooltips\":[[\"Population\",\"@Population\"],[\"_x\",\"@_x\"],[\"_y\",\"@_y\"]]},\"id\":\"c401bf54-a16c-41c9-8850-492f2621cc08\",\"type\":\"HoverTool\"},{\"attributes\":{\"fill_alpha\":{\"value\":0.1},\"fill_color\":{\"value\":\"#1f77b4\"},\"line_alpha\":{\"value\":0.1},\"line_color\":{\"value\":\"#1f77b4\"},\"x\":{\"field\":\"_x\"},\"y\":{\"field\":\"_y\"}},\"id\":\"230a588e-c149-486d-b520-ad0d9e3ec04c\",\"type\":\"Circle\"},{\"attributes\":{\"data_source\":{\"id\":\"bf11f258-585e-46bf-afb1-baff8690e172\",\"type\":\"ColumnDataSource\"},\"glyph\":{\"id\":\"87f1584b-5032-4e93-a638-46a0c0b5af6b\",\"type\":\"Circle\"},\"hover_glyph\":null,\"muted_glyph\":null,\"nonselection_glyph\":{\"id\":\"0dc7d8a4-9bbf-4a24-94f4-148e3a366b97\",\"type\":\"Circle\"},\"selection_glyph\":null,\"view\":{\"id\":\"01772171-d818-485f-88c9-cf752d83016f\",\"type\":\"CDSView\"}},\"id\":\"2c653fb3-ee6f-4f95-b62d-39bac9104b03\",\"type\":\"GlyphRenderer\"},{\"attributes\":{\"click_policy\":\"hide\",\"items\":[{\"id\":\"e2d4403f-89be-4932-a21e-46bcc4998a72\",\"type\":\"LegendItem\"},{\"id\":\"054d7779-e504-479a-ade4-1b955ec1789d\",\"type\":\"LegendItem\"},{\"id\":\"58de91e0-4e21-4c24-9b28-d9f648a5f94f\",\"type\":\"LegendItem\"},{\"id\":\"03618efe-4e2c-4966-9fa9-ed58484ddc36\",\"type\":\"LegendItem\"},{\"id\":\"999e109f-524d-4148-ae14-3bfc97bc4ed2\",\"type\":\"LegendItem\"}],\"plot\":{\"id\":\"65cc76c4-9274-4d5c-a5b2-53a58b48f7fd\",\"subtype\":\"Figure\",\"type\":\"Plot\"}},\"id\":\"7c428f84-83cb-41bb-b29f-c52b3b2fb577\",\"type\":\"Legend\"},{\"attributes\":{\"fill_alpha\":{\"value\":0.1},\"fill_color\":{\"value\":\"#1f77b4\"},\"line_alpha\":{\"value\":0.1},\"line_color\":{\"value\":\"#1f77b4\"},\"x\":{\"field\":\"_x\"},\"y\":{\"field\":\"_y\"}},\"id\":\"0dc7d8a4-9bbf-4a24-94f4-148e3a366b97\",\"type\":\"Circle\"},{\"attributes\":{},\"id\":\"ee9a0186-341c-45e2-95ac-572347cc59c5\",\"type\":\"Selection\"},{\"attributes\":{\"fill_color\":{\"field\":\"Population\",\"transform\":{\"id\":\"91732163-5eca-4fc9-83cf-360c4d692012\",\"type\":\"CategoricalColorMapper\"}},\"line_color\":{\"field\":\"Population\",\"transform\":{\"id\":\"91732163-5eca-4fc9-83cf-360c4d692012\",\"type\":\"CategoricalColorMapper\"}},\"x\":{\"field\":\"_x\"},\"y\":{\"field\":\"_y\"}},\"id\":\"8c799351-a8a8-4db5-a78b-4dafebe52d38\",\"type\":\"Circle\"},{\"attributes\":{},\"id\":\"32c877bd-dea6-4237-a0bc-85cdf3c226d9\",\"type\":\"UnionRenderers\"},{\"attributes\":{\"children\":[{\"id\":\"65cc76c4-9274-4d5c-a5b2-53a58b48f7fd\",\"subtype\":\"Figure\",\"type\":\"Plot\"}]},\"id\":\"9c575e09-1661-404c-94bf-f1fa6b47180b\",\"type\":\"Column\"},{\"attributes\":{\"column_name\":\"Population\",\"group\":\"AFR\"},\"id\":\"a448c4ec-d8ac-4e94-8108-2c86727a9ebf\",\"type\":\"GroupFilter\"},{\"attributes\":{\"data_source\":{\"id\":\"bf11f258-585e-46bf-afb1-baff8690e172\",\"type\":\"ColumnDataSource\"},\"glyph\":{\"id\":\"80b5f957-370f-4943-a8e0-abb211a20774\",\"type\":\"Circle\"},\"hover_glyph\":null,\"muted_glyph\":null,\"nonselection_glyph\":{\"id\":\"230a588e-c149-486d-b520-ad0d9e3ec04c\",\"type\":\"Circle\"},\"selection_glyph\":null,\"view\":{\"id\":\"dbaafc64-8077-4944-a9fc-947c3778a248\",\"type\":\"CDSView\"}},\"id\":\"885ac265-c21e-4716-981b-c686843c1a0c\",\"type\":\"GlyphRenderer\"},{\"attributes\":{\"filters\":[{\"id\":\"0501ca89-50d3-47a8-9a1a-39b9dc09d7a4\",\"type\":\"GroupFilter\"}],\"source\":{\"id\":\"bf11f258-585e-46bf-afb1-baff8690e172\",\"type\":\"ColumnDataSource\"}},\"id\":\"70fe044d-7a2b-4bd6-9191-e0b5030b0dd5\",\"type\":\"CDSView\"},{\"attributes\":{\"fill_color\":{\"field\":\"Population\",\"transform\":{\"id\":\"91732163-5eca-4fc9-83cf-360c4d692012\",\"type\":\"CategoricalColorMapper\"}},\"line_color\":{\"field\":\"Population\",\"transform\":{\"id\":\"91732163-5eca-4fc9-83cf-360c4d692012\",\"type\":\"CategoricalColorMapper\"}},\"x\":{\"field\":\"_x\"},\"y\":{\"field\":\"_y\"}},\"id\":\"23612236-3a94-4255-96d0-1e5cfa64c92d\",\"type\":\"Circle\"},{\"attributes\":{\"fill_color\":{\"field\":\"Population\",\"transform\":{\"id\":\"91732163-5eca-4fc9-83cf-360c4d692012\",\"type\":\"CategoricalColorMapper\"}},\"line_color\":{\"field\":\"Population\",\"transform\":{\"id\":\"91732163-5eca-4fc9-83cf-360c4d692012\",\"type\":\"CategoricalColorMapper\"}},\"x\":{\"field\":\"_x\"},\"y\":{\"field\":\"_y\"}},\"id\":\"87f1584b-5032-4e93-a638-46a0c0b5af6b\",\"type\":\"Circle\"},{\"attributes\":{\"plot\":{\"id\":\"65cc76c4-9274-4d5c-a5b2-53a58b48f7fd\",\"subtype\":\"Figure\",\"type\":\"Plot\"},\"ticker\":{\"id\":\"f3ef972b-6fb0-4c36-a964-d0cab4d9f606\",\"type\":\"BasicTicker\"}},\"id\":\"d03105e2-1359-483c-951d-7ff77dc9762c\",\"type\":\"Grid\"},{\"attributes\":{\"label\":{\"value\":\"SAS\"},\"renderers\":[{\"id\":\"9f1cf817-8b57-40c3-9fab-bc7bd12e6ed0\",\"type\":\"GlyphRenderer\"}]},\"id\":\"999e109f-524d-4148-ae14-3bfc97bc4ed2\",\"type\":\"LegendItem\"},{\"attributes\":{\"axis_label\":\"PC1\",\"formatter\":{\"id\":\"7a6cd85a-bcaf-4bdb-9710-e5b61257a93a\",\"type\":\"BasicTickFormatter\"},\"plot\":{\"id\":\"65cc76c4-9274-4d5c-a5b2-53a58b48f7fd\",\"subtype\":\"Figure\",\"type\":\"Plot\"},\"ticker\":{\"id\":\"f3ef972b-6fb0-4c36-a964-d0cab4d9f606\",\"type\":\"BasicTicker\"}},\"id\":\"12a102ab-f7eb-4010-82cf-755c3400aa65\",\"type\":\"LinearAxis\"},{\"attributes\":{\"filters\":[{\"id\":\"e892c017-edef-457e-9d7b-4eb9d542f29c\",\"type\":\"GroupFilter\"}],\"source\":{\"id\":\"bf11f258-585e-46bf-afb1-baff8690e172\",\"type\":\"ColumnDataSource\"}},\"id\":\"01772171-d818-485f-88c9-cf752d83016f\",\"type\":\"CDSView\"},{\"attributes\":{},\"id\":\"8f452756-80cf-4295-88ac-63cfa856c538\",\"type\":\"BasicTicker\"},{\"attributes\":{\"fill_color\":{\"field\":\"Population\",\"transform\":{\"id\":\"91732163-5eca-4fc9-83cf-360c4d692012\",\"type\":\"CategoricalColorMapper\"}},\"line_color\":{\"field\":\"Population\",\"transform\":{\"id\":\"91732163-5eca-4fc9-83cf-360c4d692012\",\"type\":\"CategoricalColorMapper\"}},\"x\":{\"field\":\"_x\"},\"y\":{\"field\":\"_y\"}},\"id\":\"80b5f957-370f-4943-a8e0-abb211a20774\",\"type\":\"Circle\"},{\"attributes\":{\"column_name\":\"Population\",\"group\":\"EAS\"},\"id\":\"0501ca89-50d3-47a8-9a1a-39b9dc09d7a4\",\"type\":\"GroupFilter\"},{\"attributes\":{\"color_mapper\":null,\"formatter\":{\"id\":\"5f7d380a-e943-452f-ac14-04b9f177c714\",\"type\":\"BasicTickFormatter\"},\"plot\":{\"id\":\"65cc76c4-9274-4d5c-a5b2-53a58b48f7fd\",\"subtype\":\"Figure\",\"type\":\"Plot\"},\"ticker\":{\"id\":\"099647c4-26fc-4f15-a99c-6c28226ee06f\",\"type\":\"BasicTicker\"},\"visible\":false},\"id\":\"53ea8278-f04b-4cff-9ffd-64dbe7069828\",\"type\":\"ColorBar\"},{\"attributes\":{\"dimension\":1,\"plot\":{\"id\":\"65cc76c4-9274-4d5c-a5b2-53a58b48f7fd\",\"subtype\":\"Figure\",\"type\":\"Plot\"},\"ticker\":{\"id\":\"8f452756-80cf-4295-88ac-63cfa856c538\",\"type\":\"BasicTicker\"}},\"id\":\"efe74fdf-a2b6-47cf-b02b-44d8e0593144\",\"type\":\"Grid\"},{\"attributes\":{},\"id\":\"a36b07cf-dd1a-4a3a-b8fd-48df806740fd\",\"type\":\"BasicTickFormatter\"},{\"attributes\":{},\"id\":\"95f1a2e8-a6f2-4043-801e-7ebb8d77327d\",\"type\":\"LinearScale\"},{\"attributes\":{\"label\":{\"value\":\"EUR\"},\"renderers\":[{\"id\":\"afa81ab6-1272-451e-b593-3401b4560ae1\",\"type\":\"GlyphRenderer\"}]},\"id\":\"03618efe-4e2c-4966-9fa9-ed58484ddc36\",\"type\":\"LegendItem\"},{\"attributes\":{\"filters\":[{\"id\":\"a448c4ec-d8ac-4e94-8108-2c86727a9ebf\",\"type\":\"GroupFilter\"}],\"source\":{\"id\":\"bf11f258-585e-46bf-afb1-baff8690e172\",\"type\":\"ColumnDataSource\"}},\"id\":\"dbaafc64-8077-4944-a9fc-947c3778a248\",\"type\":\"CDSView\"},{\"attributes\":{\"data_source\":{\"id\":\"bf11f258-585e-46bf-afb1-baff8690e172\",\"type\":\"ColumnDataSource\"},\"glyph\":{\"id\":\"23612236-3a94-4255-96d0-1e5cfa64c92d\",\"type\":\"Circle\"},\"hover_glyph\":null,\"muted_glyph\":null,\"nonselection_glyph\":{\"id\":\"fecf5052-5712-4c72-a372-ec0dc1d5a95d\",\"type\":\"Circle\"},\"selection_glyph\":null,\"view\":{\"id\":\"70fe044d-7a2b-4bd6-9191-e0b5030b0dd5\",\"type\":\"CDSView\"}},\"id\":\"61808955-1a8e-43c2-8fd7-84ab23215416\",\"type\":\"GlyphRenderer\"},{\"attributes\":{},\"id\":\"eeb9ab6e-3b84-4b9a-9f3f-b49cda33515c\",\"type\":\"WheelZoomTool\"},{\"attributes\":{\"axis_label\":\"PC2\",\"formatter\":{\"id\":\"a36b07cf-dd1a-4a3a-b8fd-48df806740fd\",\"type\":\"BasicTickFormatter\"},\"plot\":{\"id\":\"65cc76c4-9274-4d5c-a5b2-53a58b48f7fd\",\"subtype\":\"Figure\",\"type\":\"Plot\"},\"ticker\":{\"id\":\"8f452756-80cf-4295-88ac-63cfa856c538\",\"type\":\"BasicTicker\"}},\"id\":\"eb143070-157a-4fe1-8af1-6c0621282f3e\",\"type\":\"LinearAxis\"},{\"attributes\":{\"fill_alpha\":{\"value\":0.1},\"fill_color\":{\"value\":\"#1f77b4\"},\"line_alpha\":{\"value\":0.1},\"line_color\":{\"value\":\"#1f77b4\"},\"x\":{\"field\":\"_x\"},\"y\":{\"field\":\"_y\"}},\"id\":\"5b3f5cd4-c0e9-471f-b727-41e4f71b6de9\",\"type\":\"Circle\"},{\"attributes\":{},\"id\":\"c5246c65-8aec-4ab3-a047-792c4bb568e8\",\"type\":\"HelpTool\"},{\"attributes\":{},\"id\":\"5f7d380a-e943-452f-ac14-04b9f177c714\",\"type\":\"BasicTickFormatter\"},{\"attributes\":{},\"id\":\"f3ef972b-6fb0-4c36-a964-d0cab4d9f606\",\"type\":\"BasicTicker\"},{\"attributes\":{\"bottom_units\":\"screen\",\"fill_alpha\":{\"value\":0.5},\"fill_color\":{\"value\":\"lightgrey\"},\"left_units\":\"screen\",\"level\":\"overlay\",\"line_alpha\":{\"value\":1.0},\"line_color\":{\"value\":\"black\"},\"line_dash\":[4,4],\"line_width\":{\"value\":2},\"plot\":null,\"render_mode\":\"css\",\"right_units\":\"screen\",\"top_units\":\"screen\"},\"id\":\"1752c85e-96b7-4fa2-bbbf-87bb319d98c4\",\"type\":\"BoxAnnotation\"},{\"attributes\":{\"callback\":null},\"id\":\"ed253e34-9762-424d-b8ba-b941650cd351\",\"type\":\"DataRange1d\"},{\"attributes\":{},\"id\":\"1692cbac-e1ed-4991-a8ec-67a76d4dc3ef\",\"type\":\"SaveTool\"},{\"attributes\":{\"column_name\":\"Population\",\"group\":\"SAS\"},\"id\":\"4b16100e-f1cd-4ed7-8e47-5bbdb81717a3\",\"type\":\"GroupFilter\"},{\"attributes\":{},\"id\":\"aea2774d-c293-4edb-ac6b-e4f6b2de819b\",\"type\":\"PanTool\"},{\"attributes\":{},\"id\":\"a482ea4c-b5a4-49ef-819f-a80a8645a33b\",\"type\":\"ResetTool\"},{\"attributes\":{\"active_drag\":\"auto\",\"active_inspect\":\"auto\",\"active_multi\":null,\"active_scroll\":\"auto\",\"active_tap\":\"auto\",\"tools\":[{\"id\":\"aea2774d-c293-4edb-ac6b-e4f6b2de819b\",\"type\":\"PanTool\"},{\"id\":\"eeb9ab6e-3b84-4b9a-9f3f-b49cda33515c\",\"type\":\"WheelZoomTool\"},{\"id\":\"22304528-341f-41fa-a56e-a3d05f0d40f4\",\"type\":\"BoxZoomTool\"},{\"id\":\"1692cbac-e1ed-4991-a8ec-67a76d4dc3ef\",\"type\":\"SaveTool\"},{\"id\":\"a482ea4c-b5a4-49ef-819f-a80a8645a33b\",\"type\":\"ResetTool\"},{\"id\":\"c5246c65-8aec-4ab3-a047-792c4bb568e8\",\"type\":\"HelpTool\"},{\"id\":\"c401bf54-a16c-41c9-8850-492f2621cc08\",\"type\":\"HoverTool\"}]},\"id\":\"b0709188-e5e4-4545-91ee-74a5f4cba883\",\"type\":\"Toolbar\"},{\"attributes\":{\"column_name\":\"Population\",\"group\":\"EUR\"},\"id\":\"3d606f0a-56bc-4bb8-a86e-0ffcd58e8142\",\"type\":\"GroupFilter\"},{\"attributes\":{\"data_source\":{\"id\":\"bf11f258-585e-46bf-afb1-baff8690e172\",\"type\":\"ColumnDataSource\"},\"glyph\":{\"id\":\"8c799351-a8a8-4db5-a78b-4dafebe52d38\",\"type\":\"Circle\"},\"hover_glyph\":null,\"muted_glyph\":null,\"nonselection_glyph\":{\"id\":\"bd3a5fbb-7a2d-4a66-bf84-88adeba49a37\",\"type\":\"Circle\"},\"selection_glyph\":null,\"view\":{\"id\":\"707500a2-4462-4cfd-83f1-35c7bea5ce70\",\"type\":\"CDSView\"}},\"id\":\"afa81ab6-1272-451e-b593-3401b4560ae1\",\"type\":\"GlyphRenderer\"},{\"attributes\":{},\"id\":\"028797f0-a800-4549-9bc2-4245f6740aa6\",\"type\":\"LinearScale\"},{\"attributes\":{\"fill_color\":{\"field\":\"Population\",\"transform\":{\"id\":\"91732163-5eca-4fc9-83cf-360c4d692012\",\"type\":\"CategoricalColorMapper\"}},\"line_color\":{\"field\":\"Population\",\"transform\":{\"id\":\"91732163-5eca-4fc9-83cf-360c4d692012\",\"type\":\"CategoricalColorMapper\"}},\"x\":{\"field\":\"_x\"},\"y\":{\"field\":\"_y\"}},\"id\":\"78f5b565-f5fb-472e-9490-315c34656061\",\"type\":\"Circle\"},{\"attributes\":{\"callback\":null,\"data\":{\"Population\":[\"EUR\",\"EUR\",\"EUR\",\"EUR\",\"EUR\",\"EUR\",\"EUR\",\"EUR\",\"EUR\",\"EUR\",\"EAS\",\"EAS\",\"EAS\",\"EAS\",\"EAS\",\"EAS\",\"EAS\",\"EAS\",\"EAS\",\"EAS\",\"EAS\",\"EAS\",\"AMR\",\"EAS\",\"AMR\",\"AMR\",\"AMR\",\"AMR\",\"AMR\",\"AMR\",\"AMR\",\"AMR\",\"AMR\",\"AMR\",\"EUR\",\"AMR\",\"AMR\",\"AMR\",\"AMR\",\"AMR\",\"EUR\",\"AMR\",\"EUR\",\"EUR\",\"EUR\",\"EUR\",\"EUR\",\"EUR\",\"EAS\",\"EAS\",\"EAS\",\"EAS\",\"EAS\",\"EAS\",\"EAS\",\"EAS\",\"EAS\",\"EAS\",\"EAS\",\"AFR\",\"AMR\",\"AMR\",\"AMR\",\"AMR\",\"AFR\",\"EAS\",\"AFR\",\"EAS\",\"EAS\",\"EAS\",\"EAS\",\"EAS\",\"EAS\",\"EAS\",\"EAS\",\"EUR\",\"EUR\",\"EAS\",\"AMR\",\"AMR\",\"AMR\",\"EAS\",\"EAS\",\"EAS\",\"EAS\",\"EAS\",\"EAS\",\"EAS\",\"EAS\",\"EAS\",\"AFR\",\"AFR\",\"AFR\",\"AFR\",\"EAS\",\"AFR\",\"AFR\",\"AFR\",\"AFR\",\"SAS\",\"AFR\",\"SAS\",\"SAS\",\"SAS\",\"SAS\",\"SAS\",\"AFR\",\"AFR\",\"AFR\",\"SAS\",\"AFR\",\"AFR\",\"AFR\",\"AFR\",\"AFR\",\"AFR\",\"AFR\",\"AFR\",\"SAS\",\"AFR\",\"AFR\",\"AFR\",\"AFR\",\"AFR\",\"AFR\",\"AFR\",\"SAS\",\"AFR\",\"AFR\",\"AFR\",\"AFR\",\"AFR\",\"AFR\",\"AFR\",\"AFR\",\"AFR\",\"AFR\",\"AFR\",\"SAS\",\"SAS\",\"AFR\",\"AFR\",\"AFR\",\"SAS\",\"SAS\",\"SAS\",\"SAS\",\"SAS\",\"SAS\",\"SAS\",\"SAS\",\"SAS\",\"SAS\",\"SAS\",\"SAS\",\"SAS\",\"SAS\",\"SAS\",\"SAS\",\"SAS\",\"SAS\",\"SAS\",\"SAS\",\"SAS\",\"SAS\",\"SAS\",\"SAS\",\"SAS\",\"SAS\",\"SAS\",\"SAS\",\"SAS\",\"SAS\",\"EUR\",\"EUR\",\"EUR\",\"EUR\",\"EUR\",\"EUR\",\"EUR\",\"EUR\",\"EUR\",\"EUR\",\"AFR\",\"EAS\",\"EAS\",\"EAS\",\"EAS\",\"EAS\",\"EAS\",\"EAS\",\"AFR\",\"AFR\",\"AFR\",\"EAS\",\"EAS\",\"EAS\",\"EAS\",\"EAS\",\"EAS\",\"EAS\",\"EAS\",\"EAS\",\"EAS\",\"AFR\",\"AFR\",\"AFR\",\"AFR\",\"AFR\",\"AFR\",\"AFR\",\"AFR\",\"AFR\",\"AFR\",\"AFR\",\"AFR\",\"AFR\",\"AMR\",\"AMR\",\"AMR\",\"AMR\",\"AMR\",\"AFR\",\"AMR\",\"AMR\",\"AMR\",\"AFR\",\"AFR\",\"EUR\",\"EUR\",\"EUR\",\"EUR\",\"EUR\",\"EUR\",\"EUR\",\"EUR\",\"EUR\",\"SAS\",\"SAS\",\"SAS\",\"SAS\",\"SAS\",\"SAS\",\"SAS\",\"SAS\",\"SAS\",\"SAS\",\"SAS\",\"SAS\",\"SAS\"],\"_x\":{\"__ndarray__\":\"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\",\"dtype\":\"float64\",\"shape\":[250]},\"_y\":{\"__ndarray__\":\"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\",\"dtype\":\"float64\",\"shape\":[250]},\"index\":[0,1,2,3,4,5,6,7,8,9,10,11,12,13,14,15,16,17,18,19,20,21,22,23,24,25,26,27,28,29,30,31,32,33,34,35,36,37,38,39,40,41,42,43,44,45,46,47,48,49,50,51,52,53,54,55,56,57,58,59,60,61,62,63,64,65,66,67,68,69,70,71,72,73,74,75,76,77,78,79,80,81,82,83,84,85,86,87,88,89,90,91,92,93,94,95,96,97,98,99,100,101,102,103,104,105,106,107,108,109,110,111,112,113,114,115,116,117,118,119,120,121,122,123,124,125,126,127,128,129,130,131,132,133,134,135,136,137,138,139,140,141,142,143,144,145,146,147,148,149,150,151,152,153,154,155,156,157,158,159,160,161,162,163,164,165,166,167,168,169,170,171,172,173,174,175,176,177,178,179,180,181,182,183,184,185,186,187,188,189,190,191,192,193,194,195,196,197,198,199,200,201,202,203,204,205,206,207,208,209,210,211,212,213,214,215,216,217,218,219,220,221,222,223,224,225,226,227,228,229,230,231,232,233,234,235,236,237,238,239,240,241,242,243,244,245,246,247,248,249]},\"selected\":{\"id\":\"ee9a0186-341c-45e2-95ac-572347cc59c5\",\"type\":\"Selection\"},\"selection_policy\":{\"id\":\"32c877bd-dea6-4237-a0bc-85cdf3c226d9\",\"type\":\"UnionRenderers\"}},\"id\":\"bf11f258-585e-46bf-afb1-baff8690e172\",\"type\":\"ColumnDataSource\"},{\"attributes\":{\"fill_alpha\":{\"value\":0.1},\"fill_color\":{\"value\":\"#1f77b4\"},\"line_alpha\":{\"value\":0.1},\"line_color\":{\"value\":\"#1f77b4\"},\"x\":{\"field\":\"_x\"},\"y\":{\"field\":\"_y\"}},\"id\":\"bd3a5fbb-7a2d-4a66-bf84-88adeba49a37\",\"type\":\"Circle\"},{\"attributes\":{\"label\":{\"value\":\"AMR\"},\"renderers\":[{\"id\":\"2c653fb3-ee6f-4f95-b62d-39bac9104b03\",\"type\":\"GlyphRenderer\"}]},\"id\":\"054d7779-e504-479a-ade4-1b955ec1789d\",\"type\":\"LegendItem\"},{\"attributes\":{\"filters\":[{\"id\":\"4b16100e-f1cd-4ed7-8e47-5bbdb81717a3\",\"type\":\"GroupFilter\"}],\"source\":{\"id\":\"bf11f258-585e-46bf-afb1-baff8690e172\",\"type\":\"ColumnDataSource\"}},\"id\":\"c672b21b-cad7-444e-a33b-640e906eeffa\",\"type\":\"CDSView\"},{\"attributes\":{\"callback\":null},\"id\":\"a14fa43f-4571-497a-9159-1e89a18f81a1\",\"type\":\"DataRange1d\"},{\"attributes\":{\"overlay\":{\"id\":\"1752c85e-96b7-4fa2-bbbf-87bb319d98c4\",\"type\":\"BoxAnnotation\"}},\"id\":\"22304528-341f-41fa-a56e-a3d05f0d40f4\",\"type\":\"BoxZoomTool\"},{\"attributes\":{\"plot\":null,\"text\":\"PCA, first two principal components\"},\"id\":\"c4c2d318-f1c4-46e2-bd8c-e429effa13a3\",\"type\":\"Title\"},{\"attributes\":{\"factors\":[\"EAS\",\"EUR\",\"AMR\",\"AFR\",\"SAS\"],\"palette\":[\"#1f77b4\",\"#ff7f0e\",\"#2ca02c\",\"#d62728\",\"#9467bd\"]},\"id\":\"91732163-5eca-4fc9-83cf-360c4d692012\",\"type\":\"CategoricalColorMapper\"}],\"root_ids\":[\"9c575e09-1661-404c-94bf-f1fa6b47180b\"]},\"title\":\"Bokeh Application\",\"version\":\"0.13.0\"}};\n",
       "  var render_items = [{\"docid\":\"089bf375-814f-468d-af87-f8eba0b48197\",\"roots\":{\"9c575e09-1661-404c-94bf-f1fa6b47180b\":\"ec2b7cc5-2b31-46e2-ba84-79bac1c6bc6d\"}}];\n",
       "  root.Bokeh.embed.embed_items_notebook(docs_json, render_items);\n",
       "\n",
       "  }\n",
       "  if (root.Bokeh !== undefined) {\n",
       "    embed_document(root);\n",
       "  } else {\n",
       "    var attempts = 0;\n",
       "    var timer = setInterval(function(root) {\n",
       "      if (root.Bokeh !== undefined) {\n",
       "        embed_document(root);\n",
       "        clearInterval(timer);\n",
       "      }\n",
       "      attempts++;\n",
       "      if (attempts > 100) {\n",
       "        console.log(\"Bokeh: ERROR: Unable to run BokehJS code because BokehJS library is missing\")\n",
       "        clearInterval(timer);\n",
       "      }\n",
       "    }, 10, root)\n",
       "  }\n",
       "})(window);"
      ],
      "application/vnd.bokehjs_exec.v0+json": ""
     },
     "metadata": {
      "application/vnd.bokehjs_exec.v0+json": {
       "id": "9c575e09-1661-404c-94bf-f1fa6b47180b"
      }
     },
     "output_type": "display_data"
    }
   ],
   "source": [
    "pca  = plotting.scatter_plot(mt.pca.scores[0],\n",
    "                  mt.pca.scores[1],\n",
    "                  label_fields={\n",
    "                      'Population': mt.pheno.SuperPopulation},\n",
    "                  title='PCA, first two principal components', \n",
    "                  xlabel='PC1', ylabel='PC2')\n",
    "\n",
    "show(pca)"
   ]
  },
  {
   "cell_type": "code",
   "execution_count": null,
   "metadata": {},
   "outputs": [],
   "source": []
  }
 ],
 "metadata": {
  "kernelspec": {
   "display_name": "Python 3",
   "language": "python",
   "name": "python3"
  },
  "language_info": {
   "codemirror_mode": {
    "name": "ipython",
    "version": 3
   },
   "file_extension": ".py",
   "mimetype": "text/x-python",
   "name": "python",
   "nbconvert_exporter": "python",
   "pygments_lexer": "ipython3",
   "version": "3.7.3"
  }
 },
 "nbformat": 4,
 "nbformat_minor": 2
}
